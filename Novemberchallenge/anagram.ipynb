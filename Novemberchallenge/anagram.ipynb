{
 "cells": [
  {
   "cell_type": "code",
   "execution_count": 1,
   "id": "20c78c1b-18d3-419a-957b-78475f3820cc",
   "metadata": {},
   "outputs": [
    {
     "name": "stdout",
     "output_type": "stream",
     "text": [
      "[5, 5]\n",
      "[5]\n"
     ]
    }
   ],
   "source": [
    "nums = [1,2,3,4,4,4,5,5,5]\n",
    "for i , n in enumerate(nums):\n",
    "    if nums[i] == nums[i-1]:\n",
    "        if len(nums[i:]) <3:\n",
    "            print(nums[i:])"
   ]
  },
  {
   "cell_type": "code",
   "execution_count": 8,
   "id": "3fc2acda-dbe6-4287-a725-3c6b1706f9e2",
   "metadata": {},
   "outputs": [
    {
     "data": {
      "text/plain": [
       "False"
      ]
     },
     "execution_count": 8,
     "metadata": {},
     "output_type": "execute_result"
    }
   ],
   "source": [
    "class Solution:\n",
    "    def isAnagram(self, s, t) :\n",
    "         \n",
    "        if len(s) != len(t):     # when the lengths are different then there is no way it can ever be an Anagram\n",
    "            return False\n",
    "        \n",
    "        countS, countT = {}, {}  # character's are key: occurences are values \n",
    "        \n",
    "        for i in range(len(s)):\n",
    "            countS[s[i]] = 1 + countS.get(s[i], 0)  # get previous occurences, if it's first time get 0\n",
    "            #print(countS)\n",
    "            countT[t[i]] = 1 + countT.get(t[i], 0)  # countT[t[0]=n] = 1 + countT.get(t[0]=n = Null, 0)=0 = 1\n",
    "            \n",
    "        for j in countS:  \n",
    "            if countS[j] != countT.get(j, 0):  # if the number of occurences of char j is not same in both the hashmaps then it is not valid\n",
    "                print(countT.get(j,0))\n",
    "                return False\n",
    "        return True  # when the for loop ends means every key's and value are same \n",
    "s= Solution()\n",
    "s.isAnagram( \"anagram\", \"nagaram\")\n",
    "\n",
    "\n",
    "        "
   ]
  },
  {
   "cell_type": "code",
   "execution_count": 12,
   "id": "6d52720a",
   "metadata": {},
   "outputs": [
    {
     "name": "stdout",
     "output_type": "stream",
     "text": [
      "{'a': 2, 'n': 1, 'g': 1, 'r': 1, 'm': 1}\n",
      "{'a': 3, 'n': 2, 'g': 1, 'r': 2, 'm': 4}\n",
      "m\n"
     ]
    }
   ],
   "source": [
    "counts = {}\n",
    "countt = {}\n",
    "s = 'angram'\n",
    "t = 'nagaram'\n",
    "for i in range(len(s)):\n",
    "    counts[s[i]] = 1+counts.get(s[i],0)\n",
    "    countt[s[i]] = 1+countt.get(t[i],0)\n",
    "print(counts)\n",
    "print(countt)\n",
    "for char in t:\n",
    "    if char not in s and counts[char] != countt[char]:\n",
    "        print(char)\n",
    "print(char)\n",
    "        "
   ]
  },
  {
   "cell_type": "code",
   "execution_count": 20,
   "id": "cc4849fa",
   "metadata": {},
   "outputs": [
    {
     "name": "stdout",
     "output_type": "stream",
     "text": [
      "countS= {'a': 1}\n",
      "countS= {'a': 1, 'n': 1}\n",
      "countS= {'a': 2, 'n': 1}\n",
      "countS= {'a': 2, 'n': 1, 'g': 1}\n",
      "countS= {'a': 2, 'n': 1, 'g': 1, 'r': 1}\n",
      "countS= {'a': 3, 'n': 1, 'g': 1, 'r': 1}\n",
      "countS= {'a': 3, 'n': 1, 'g': 1, 'r': 1, 'm': 1}\n",
      "j= a\n",
      "3\n",
      "j= n\n",
      "1\n",
      "j= g\n",
      "1\n",
      "j= r\n",
      "1\n",
      "j= m\n",
      "1\n"
     ]
    }
   ],
   "source": [
    "s = \"anagram\"\n",
    "t = \"nagaram\"\n",
    "countS, countT = {}, {}  \n",
    "        \n",
    "for i in range(len(s)):\n",
    "    countS[s[i]] = 1 + countS.get(s[i], 0) \n",
    "    print('countS=',countS)\n",
    "    countT[t[i]] = 1 + countT.get(t[i], 0)  \n",
    "            \n",
    "for j in countS: \n",
    "    print('j=',j)\n",
    "    if countS[j] == countT.get(j, 0): \n",
    "        print(countT.get(j,0))\n",
    "    "
   ]
  },
  {
   "cell_type": "code",
   "execution_count": null,
   "id": "54651c14",
   "metadata": {},
   "outputs": [],
   "source": [
    "#Built-In: Sorted Function\n",
    "\n",
    "'''class Solution:  # Time: O(nlogn) and Space: O(1)\n",
    "    def isAnagram(self, s: str, t: str) -> bool:\n",
    "        return sorted(s) == sorted(t)\n",
    "\n",
    "#Built-In: Counter Function\n",
    "\n",
    "class Solution: # Time: O(n) and Space: O(n)\n",
    "    def isAnagram(self, s: str, t: str) -> bool:\n",
    "        return Counter(s) == Counter(t)'''\n"
   ]
  },
  {
   "cell_type": "code",
   "execution_count": 8,
   "id": "9dee1ac5",
   "metadata": {},
   "outputs": [
    {
     "name": "stdout",
     "output_type": "stream",
     "text": [
      "{0: 1, 1: 1, 2: 1, 3: 1, 4: 1, 5: 1, 6: 1, 7: 1}\n"
     ]
    }
   ],
   "source": [
    "s = \"aanagram\"\n",
    "t = \"nagaram\"\n",
    "\n",
    "countS, countT = {}, {}  # character's are key: occurences are values \n",
    "        \n",
    "for i in range(len(s)):\n",
    "    if s in countS:\n",
    "        countS[i]+= 1\n",
    "    countS[i] = 1\n",
    "    \n",
    "print(countS)\n"
   ]
  },
  {
   "cell_type": "code",
   "execution_count": 1,
   "id": "fc304eb0",
   "metadata": {},
   "outputs": [
    {
     "name": "stdout",
     "output_type": "stream",
     "text": [
      "[0, 0, 0, 0, 0, 0, 0, 0, 0, 0, 0, 0, 0, 0, 0, 0, 0, 0, 0, 0, 0, 0, 0, 0, 0, 0]\n"
     ]
    }
   ],
   "source": [
    "count = [0]*26\n",
    "print(count)"
   ]
  },
  {
   "cell_type": "code",
   "execution_count": null,
   "id": "b498d2af",
   "metadata": {},
   "outputs": [],
   "source": [
    "Example 1:\n",
    "\n",
    "Input: words = [\"abba\",\"baba\",\"bbaa\",\"cd\",\"cd\"]\n",
    "Output: [\"abba\",\"cd\"]\n",
    "Explanation:\n",
    "One of the ways we can obtain the resultant array is by using the following operations:\n",
    "- Since words[2] = \"bbaa\" and words[1] = \"baba\" are anagrams, we choose index 2 and delete words[2].\n",
    "  Now words = [\"abba\",\"baba\",\"cd\",\"cd\"].\n",
    "- Since words[1] = \"baba\" and words[0] = \"abba\" are anagrams, we choose index 1 and delete words[1].\n",
    "  Now words = [\"abba\",\"cd\",\"cd\"].\n",
    "- Since words[2] = \"cd\" and words[1] = \"cd\" are anagrams, we choose index 2 and delete words[2].\n",
    "  Now words = [\"abba\",\"cd\"].\n",
    "We can no longer perform any operations, so [\"abba\",\"cd\"] is the final answer.\n",
    "\n",
    "Example 2:\n",
    "\n",
    "Input: words = [\"a\",\"b\",\"c\",\"d\",\"e\"]\n",
    "Output: [\"a\",\"b\",\"c\",\"d\",\"e\"]\n",
    "Explanation:\n",
    "No two adjacent strings in words are anagrams of each other, so no operations are performed."
   ]
  },
  {
   "cell_type": "markdown",
   "id": "cbe818fd",
   "metadata": {},
   "source": [
    "# using stack"
   ]
  },
  {
   "cell_type": "code",
   "execution_count": 46,
   "id": "ea7f62bf",
   "metadata": {},
   "outputs": [
    {
     "name": "stdout",
     "output_type": "stream",
     "text": [
      "[2, 2, 0, 0, 0, 0, 0, 0, 0, 0, 0, 0, 0, 0, 0, 0, 0, 0, 0, 0, 0, 0, 0, 0, 0, 0]\n",
      "[2, 2, 0, 0, 0, 0, 0, 0, 0, 0, 0, 0, 0, 0, 0, 0, 0, 0, 0, 0, 0, 0, 0, 0, 0, 0]\n",
      "stk: [('0212', 'abba')]\n",
      "stk[-1][0]: 0212\n",
      "[2, 2, 0, 0, 0, 0, 0, 0, 0, 0, 0, 0, 0, 0, 0, 0, 0, 0, 0, 0, 0, 0, 0, 0, 0, 0]\n",
      "stk: [('0212', 'abba')]\n",
      "stk[-1][0]: 0212\n",
      "[0, 0, 1, 1, 0, 0, 0, 0, 0, 0, 0, 0, 0, 0, 0, 0, 0, 0, 0, 0, 0, 0, 0, 0, 0, 0]\n",
      "[0, 0, 1, 1, 0, 0, 0, 0, 0, 0, 0, 0, 0, 0, 0, 0, 0, 0, 0, 0, 0, 0, 0, 0, 0, 0]\n",
      "stk: [('0212', 'abba'), ('2131', 'cd')]\n",
      "stk[-1][0]: 2131\n"
     ]
    },
    {
     "data": {
      "text/plain": [
       "['abba', 'cd']"
      ]
     },
     "execution_count": 46,
     "metadata": {},
     "output_type": "execute_result"
    }
   ],
   "source": [
    "class Solution(object):\n",
    "    def removeAnagrams(self, words):\n",
    "        \"\"\"\n",
    "        :type words: List[str]\n",
    "        :rtype: List[str]\n",
    "        \"\"\"\n",
    "        ans = []\n",
    "        \n",
    "        def encode(s):\n",
    "            r = [0] * 26\n",
    "            for i in s:\n",
    "                r[ord(i) - ord(\"a\")]+=1\n",
    "            print(r)\n",
    "            \n",
    "            x = \"\"\n",
    "            for i, v in enumerate(r):\n",
    "                if v != 0:\n",
    "                    x += str(i) + str(v)\n",
    "            \n",
    "            return x\n",
    "            \n",
    "        \n",
    "        stk = []\n",
    "        for word in words:\n",
    "            w = encode(word)\n",
    "            first = None\n",
    "            \n",
    "            while stk and stk[-1][0] == w:\n",
    "                print('stk:',stk)\n",
    "                print('stk[-1][0]:',stk[-1][0])\n",
    "                if first == None:\n",
    "                    first = stk.pop()\n",
    "                else:\n",
    "                    stk.pop()\n",
    "            \n",
    "            if first != None:\n",
    "                stk.append(first)\n",
    "            else:\n",
    "                stk.append((w, word))\n",
    "            \n",
    "        \n",
    "        for i in stk:\n",
    "            ans.append(i[1])\n",
    "            \n",
    "        \n",
    "        \n",
    "        return ans\n",
    "s= Solution()\n",
    "s.removeAnagrams([\"abba\",\"baba\",\"bbaa\",\"cd\",\"cd\"])\n",
    "                "
   ]
  },
  {
   "cell_type": "code",
   "execution_count": 22,
   "id": "d3e4e601",
   "metadata": {},
   "outputs": [
    {
     "name": "stdout",
     "output_type": "stream",
     "text": [
      "[2, 2, 0, 0, 0, 0, 0, 0, 0, 0, 0, 0, 0, 0, 0, 0, 0, 0, 0, 0, 0, 0, 0, 0, 0, 0]\n",
      "[4, 4, 0, 0, 0, 0, 0, 0, 0, 0, 0, 0, 0, 0, 0, 0, 0, 0, 0, 0, 0, 0, 0, 0, 0, 0]\n",
      "[6, 6, 0, 0, 0, 0, 0, 0, 0, 0, 0, 0, 0, 0, 0, 0, 0, 0, 0, 0, 0, 0, 0, 0, 0, 0]\n",
      "[6, 6, 1, 1, 0, 0, 0, 0, 0, 0, 0, 0, 0, 0, 0, 0, 0, 0, 0, 0, 0, 0, 0, 0, 0, 0]\n",
      "[6, 6, 2, 2, 0, 0, 0, 0, 0, 0, 0, 0, 0, 0, 0, 0, 0, 0, 0, 0, 0, 0, 0, 0, 0, 0]\n"
     ]
    }
   ],
   "source": [
    "s = [\"abba\",\"baba\",\"bbaa\",\"cd\",\"cd\"]\n",
    "r = [0] * 26\n",
    "def encode(s):\n",
    "    for i in s:\n",
    "        #print(i)\n",
    "        r[ord(i) - ord(\"a\")]+=1\n",
    "    print(r)\n",
    "for word in s:\n",
    "    w = encode(word)\n",
    "    first = None\n",
    "            "
   ]
  },
  {
   "cell_type": "code",
   "execution_count": 43,
   "id": "586b2568",
   "metadata": {},
   "outputs": [
    {
     "name": "stdout",
     "output_type": "stream",
     "text": [
      "...........\n",
      "a\n",
      "b\n",
      "b\n",
      "a\n",
      "...........\n",
      "b\n",
      "a\n",
      "b\n",
      "a\n",
      "stk[-1][0]: None\n",
      "first1 None\n",
      "first2: (None, 'abba')\n",
      "...........\n",
      "b\n",
      "b\n",
      "a\n",
      "a\n",
      "stk[-1][0]: None\n",
      "first1 None\n",
      "first2: (None, 'abba')\n",
      "...........\n",
      "c\n",
      "d\n",
      "stk[-1][0]: None\n",
      "first1 None\n",
      "first2: (None, 'abba')\n",
      "...........\n",
      "c\n",
      "d\n",
      "stk[-1][0]: None\n",
      "first1 None\n",
      "first2: (None, 'abba')\n",
      "i (None, 'abba')\n",
      "['abba']\n"
     ]
    }
   ],
   "source": [
    "s = [\"abba\",\"baba\",\"bbaa\",\"cd\",\"cd\"]\n",
    "r = [0] * 26\n",
    "ans=[]\n",
    "stk=[]\n",
    "def encode(s):\n",
    "    for i in s:\n",
    "        print(i)\n",
    "        \n",
    "    \n",
    "for word in s:\n",
    "    print('...........')\n",
    "    w = encode(word)\n",
    "    first = None\n",
    "    while stk and stk[-1][0] == w:\n",
    "        print('stk[-1][0]:',stk[-1][0])\n",
    "        if first == None:\n",
    "            print('first1',first)\n",
    "            first = stk.pop()\n",
    "            print('first2:',first)\n",
    "        else:\n",
    "            stk.pop()\n",
    "            \n",
    "    if first != None:\n",
    "        stk.append(first)\n",
    "    else:\n",
    "        stk.append((w, word))\n",
    "            \n",
    "        \n",
    "for i in stk:\n",
    "    print('i',i)\n",
    "    ans.append(i[1])\n",
    "print(ans)\n",
    "            \n",
    "            "
   ]
  },
  {
   "cell_type": "code",
   "execution_count": 29,
   "id": "570117c4",
   "metadata": {},
   "outputs": [
    {
     "name": "stdout",
     "output_type": "stream",
     "text": [
      "ABBA\n",
      "[2, 2, 0, 0, 0, 0, 0, 0, 0, 0, 0, 0, 0, 0, 0, 0, 0, 0, 0, 0, 0, 0, 0, 0, 0, 0]\n",
      "BABA\n",
      "[4, 4, 0, 0, 0, 0, 0, 0, 0, 0, 0, 0, 0, 0, 0, 0, 0, 0, 0, 0, 0, 0, 0, 0, 0, 0]\n",
      "BBAA\n",
      "[6, 6, 0, 0, 0, 0, 0, 0, 0, 0, 0, 0, 0, 0, 0, 0, 0, 0, 0, 0, 0, 0, 0, 0, 0, 0]\n",
      "CD\n",
      "[6, 6, 1, 1, 0, 0, 0, 0, 0, 0, 0, 0, 0, 0, 0, 0, 0, 0, 0, 0, 0, 0, 0, 0, 0, 0]\n",
      "CD\n",
      "[6, 6, 2, 2, 0, 0, 0, 0, 0, 0, 0, 0, 0, 0, 0, 0, 0, 0, 0, 0, 0, 0, 0, 0, 0, 0]\n"
     ]
    }
   ],
   "source": [
    "s = ['ABBA','BABA','BBAA','CD','CD']\n",
    "r = [0]*26\n",
    "def encode(s):\n",
    "    for i in s:\n",
    "        r[ord(i) - ord('A')]+=1\n",
    "    print(r)\n",
    "for word in s:\n",
    "    print(word)\n",
    "    w = encode(word)\n",
    "    "
   ]
  },
  {
   "cell_type": "code",
   "execution_count": 26,
   "id": "6c5d4ed4",
   "metadata": {},
   "outputs": [
    {
     "name": "stdout",
     "output_type": "stream",
     "text": [
      "[2, 2, 0, 0, 0, 0, 0, 0, 0, 0, 0, 0, 0, 0, 0, 0, 0, 0, 0, 0, 0, 0, 0, 0, 0, 0]\n",
      "i: 0 v: 2\n",
      "[4, 4, 0, 0, 0, 0, 0, 0, 0, 0, 0, 0, 0, 0, 0, 0, 0, 0, 0, 0, 0, 0, 0, 0, 0, 0]\n",
      "i: 0 v: 4\n",
      "[6, 6, 0, 0, 0, 0, 0, 0, 0, 0, 0, 0, 0, 0, 0, 0, 0, 0, 0, 0, 0, 0, 0, 0, 0, 0]\n",
      "i: 0 v: 6\n",
      "[6, 6, 1, 1, 0, 0, 0, 0, 0, 0, 0, 0, 0, 0, 0, 0, 0, 0, 0, 0, 0, 0, 0, 0, 0, 0]\n",
      "i: 0 v: 6\n",
      "[6, 6, 2, 2, 0, 0, 0, 0, 0, 0, 0, 0, 0, 0, 0, 0, 0, 0, 0, 0, 0, 0, 0, 0, 0, 0]\n",
      "i: 0 v: 6\n"
     ]
    }
   ],
   "source": [
    "s = [\"abba\",\"baba\",\"bbaa\",\"cd\",\"cd\"]\n",
    "r = [0] * 26\n",
    "def encode(s):\n",
    "    for i in s:\n",
    "        #print(i)\n",
    "        r[ord(i) - ord(\"a\")]+=1\n",
    "    print(r)\n",
    "\n",
    "    x = \"\"\n",
    "    for i, v in enumerate(r):\n",
    "        print('i:',i,'v:',v)\n",
    "        if v != 0:\n",
    "            x += str(i) + str(v)\n",
    "\n",
    "            return x\n",
    "for word in s:\n",
    "    w = encode(word)\n",
    "            "
   ]
  },
  {
   "cell_type": "markdown",
   "id": "fde7e097",
   "metadata": {},
   "source": [
    "# 49. Group Anagrams"
   ]
  },
  {
   "cell_type": "code",
   "execution_count": null,
   "id": "86171c14",
   "metadata": {},
   "outputs": [],
   "source": [
    "Example 1:\n",
    "\n",
    "Input: strs = [\"eat\",\"tea\",\"tan\",\"ate\",\"nat\",\"bat\"]\n",
    "Output: [[\"bat\"],[\"nat\",\"tan\"],[\"ate\",\"eat\",\"tea\"]]\n",
    "\n",
    "Example 2:\n",
    "\n",
    "Input: strs = [\"\"]\n",
    "Output: [[\"\"]]\n",
    "\n",
    "Example 3:\n",
    "\n",
    "Input: strs = [\"a\"]\n",
    "Output: [[\"a\"]]\n",
    "\n",
    " "
   ]
  },
  {
   "cell_type": "code",
   "execution_count": 53,
   "id": "e8ddd993",
   "metadata": {},
   "outputs": [
    {
     "name": "stdout",
     "output_type": "stream",
     "text": [
      "aet\n",
      "{'aet': ['eat']}\n",
      "aet\n",
      "{'aet': ['eat', 'tea']}\n",
      "ant\n",
      "{'aet': ['eat', 'tea'], 'ant': ['tan']}\n",
      "aet\n",
      "{'aet': ['eat', 'tea', 'ate'], 'ant': ['tan']}\n",
      "ant\n",
      "{'aet': ['eat', 'tea', 'ate'], 'ant': ['tan', 'nat']}\n",
      "abt\n",
      "{'aet': ['eat', 'tea', 'ate'], 'ant': ['tan', 'nat'], 'abt': ['bat']}\n"
     ]
    },
    {
     "data": {
      "text/plain": [
       "[['eat', 'tea', 'ate'], ['tan', 'nat'], ['bat']]"
      ]
     },
     "execution_count": 53,
     "metadata": {},
     "output_type": "execute_result"
    }
   ],
   "source": [
    "class Solution(object):\n",
    "    def groupAnagrams(self, strs):\n",
    "        \"\"\"\n",
    "        :type strs: List[str]\n",
    "        :rtype: List[List[str]]\n",
    "        \"\"\"\n",
    "        strs_table = {}\n",
    "\n",
    "        for string in strs:\n",
    "            sorted_string = ''.join(sorted(string))\n",
    "            print(sorted_string)\n",
    "\n",
    "            if sorted_string not in strs_table:\n",
    "                strs_table[sorted_string] = []\n",
    "\n",
    "            strs_table[sorted_string].append(string)\n",
    "            print(strs_table)\n",
    "\n",
    "        return list(strs_table.values())\n",
    "s=Solution()\n",
    "s.groupAnagrams([\"eat\",\"tea\",\"tan\",\"ate\",\"nat\",\"bat\"])\n",
    "    \n",
    "\n",
    "        "
   ]
  },
  {
   "cell_type": "code",
   "execution_count": 52,
   "id": "1e52f945",
   "metadata": {},
   "outputs": [
    {
     "name": "stdout",
     "output_type": "stream",
     "text": [
      "aet\n",
      "aet\n",
      "ant\n",
      "aet\n",
      "ant\n",
      "abt\n",
      "['a', 'e', 't']\n",
      "['a', 'e', 't']\n",
      "['a', 'n', 't']\n",
      "['a', 'e', 't']\n",
      "['a', 'n', 't']\n",
      "['a', 'b', 't']\n"
     ]
    }
   ],
   "source": [
    "strs=[\"eat\",\"tea\",\"tan\",\"ate\",\"nat\",\"bat\"]\n",
    "for string in strs:\n",
    "    sorted_string = ''.join(sorted(string))\n",
    "    print(sorted_string)\n",
    "for string in strs:\n",
    "    sorted_string = (sorted(string))\n",
    "    print(sorted_string)\n"
   ]
  },
  {
   "cell_type": "code",
   "execution_count": null,
   "id": "6a73c7e4",
   "metadata": {},
   "outputs": [],
   "source": [
    "'''Time complexity: O(m*nlogn))\n",
    "Space complexity: O(n)'''"
   ]
  }
 ],
 "metadata": {
  "kernelspec": {
   "display_name": "Python 3 (ipykernel)",
   "language": "python",
   "name": "python3"
  },
  "language_info": {
   "codemirror_mode": {
    "name": "ipython",
    "version": 3
   },
   "file_extension": ".py",
   "mimetype": "text/x-python",
   "name": "python",
   "nbconvert_exporter": "python",
   "pygments_lexer": "ipython3",
   "version": "3.9.12"
  }
 },
 "nbformat": 4,
 "nbformat_minor": 5
}
