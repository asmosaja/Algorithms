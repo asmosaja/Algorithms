{
 "cells": [
  {
   "cell_type": "markdown",
   "id": "fac826d0",
   "metadata": {},
   "source": [
    "# Singly Linked List"
   ]
  },
  {
   "cell_type": "markdown",
   "id": "9e6505b9",
   "metadata": {},
   "source": [
    "# display Linked List"
   ]
  },
  {
   "cell_type": "code",
   "execution_count": 5,
   "id": "79f0fd8e",
   "metadata": {},
   "outputs": [
    {
     "name": "stdout",
     "output_type": "stream",
     "text": [
      "9 -->67 -->"
     ]
    }
   ],
   "source": [
    "class Node:\n",
    "    \n",
    "    def __init__(self,data):\n",
    "        \n",
    "        self.data = data\n",
    "        self.next = None\n",
    "\n",
    "class sl:\n",
    "    \n",
    "    def __init__(self):\n",
    "        self.head = None\n",
    "        \n",
    "    def display(self):\n",
    "        \n",
    "        \n",
    "       \n",
    "        if self.head is None:\n",
    "                print(\"singly linked list is empty\")\n",
    "        \n",
    "        else:\n",
    "            temp = self.head\n",
    "            while temp:\n",
    "\n",
    "\n",
    "\n",
    "                print(temp.data ,'-->',end ='')\n",
    "\n",
    "                temp = temp.next\n",
    "            \n",
    "s = sl()\n",
    "n1 = Node(9)\n",
    "s.head =n1\n",
    "n2= Node(67)\n",
    "s.head.next = n1\n",
    "n3 = Node(89)\n",
    "s.head.next = n2\n",
    "s.display()"
   ]
  },
  {
   "cell_type": "code",
   "execution_count": 4,
   "id": "537e2f35",
   "metadata": {},
   "outputs": [
    {
     "name": "stdout",
     "output_type": "stream",
     "text": [
      "9 -->67 -->89 -->"
     ]
    }
   ],
   "source": [
    "n1 = Node(9)\n",
    "s.head =n1\n",
    "n2= Node(67)\n",
    "n1.next = n2\n",
    "n3 = Node(89)\n",
    "n2.next = n3\n",
    "s.display()"
   ]
  },
  {
   "cell_type": "markdown",
   "id": "e63ee199",
   "metadata": {},
   "source": [
    "# Deletion of linked list:"
   ]
  },
  {
   "cell_type": "markdown",
   "id": "8f040e90",
   "metadata": {},
   "source": [
    "# Deletion at beginning"
   ]
  },
  {
   "cell_type": "code",
   "execution_count": 11,
   "id": "9a9ec2b8",
   "metadata": {},
   "outputs": [
    {
     "name": "stdout",
     "output_type": "stream",
     "text": [
      "67 -->89 -->"
     ]
    }
   ],
   "source": [
    "class Node:\n",
    "    \n",
    "    def __init__(self,data):\n",
    "        \n",
    "        self.data = data\n",
    "        self.next = None\n",
    "\n",
    "class sl:\n",
    "    \n",
    "    def __init__(self):\n",
    "        self.head = None\n",
    "        \n",
    "    def display(self):\n",
    "        \n",
    "        \n",
    "       \n",
    "        if self.head is None:\n",
    "                print(\"singly linked list is empty\")\n",
    "        \n",
    "        else:\n",
    "            temp = self.head\n",
    "            while temp:\n",
    "\n",
    "\n",
    "\n",
    "                print(temp.data ,'-->',end ='')\n",
    "\n",
    "                temp = temp.next\n",
    "    def delete_beginning(self):\n",
    "            \n",
    "        temp=self.head\n",
    "            \n",
    "        self.head = temp.next\n",
    "            \n",
    "        temp.next = None\n",
    "                \n",
    "s=sl()            \n",
    "n1 = Node(9)\n",
    "s.head =n1\n",
    "n2= Node(67)\n",
    "n1.next = n2\n",
    "n3 = Node(89)\n",
    "n2.next = n3\n",
    "s.delete_beginning()\n",
    "s.display()\n"
   ]
  },
  {
   "cell_type": "markdown",
   "id": "b43d9ea1",
   "metadata": {},
   "source": [
    "# Deletion at Ending"
   ]
  },
  {
   "cell_type": "code",
   "execution_count": 23,
   "id": "f98fd023",
   "metadata": {},
   "outputs": [
    {
     "name": "stdout",
     "output_type": "stream",
     "text": [
      "9 -->67 -->89 -->34 -->49 -->"
     ]
    }
   ],
   "source": [
    "class Node:\n",
    "    \n",
    "    def __init__(self,data):\n",
    "        \n",
    "        self.data = data\n",
    "        self.next = None\n",
    "\n",
    "class sl:\n",
    "    \n",
    "    def __init__(self):\n",
    "        self.head = None\n",
    "        \n",
    "    def display(self):\n",
    "        \n",
    "        \n",
    "       \n",
    "        if self.head is None:\n",
    "                print(\"singly linked list is empty\")\n",
    "        \n",
    "        else:\n",
    "            temp = self.head\n",
    "            while temp:\n",
    "\n",
    "\n",
    "\n",
    "                print(temp.data ,'-->',end ='')\n",
    "\n",
    "                temp = temp.next\n",
    "    def delete_ending(self):\n",
    "            \n",
    "        temp=self.head.next\n",
    "        prev = self.head\n",
    "        \n",
    "        while temp:\n",
    "            \n",
    "            \n",
    "            temp = temp.next\n",
    "            prev = prev.next\n",
    "            \n",
    "            \n",
    "        \n",
    "        prev.next = None\n",
    "                \n",
    "s=sl()            \n",
    "n1 = Node(9)\n",
    "s.head =n1\n",
    "n2= Node(67)\n",
    "n1.next = n2\n",
    "n3 = Node(89)\n",
    "n2.next = n3\n",
    "n4 = Node(34)\n",
    "n3.next = n4\n",
    "n5 = Node(49)\n",
    "n4.next = n5\n",
    "s.delete_ending()\n",
    "s.display()\n"
   ]
  },
  {
   "cell_type": "markdown",
   "id": "1646f7cd",
   "metadata": {},
   "source": [
    "# Deletion at Specified Position"
   ]
  },
  {
   "cell_type": "code",
   "execution_count": 22,
   "id": "d3ad0f6f",
   "metadata": {},
   "outputs": [
    {
     "name": "stdout",
     "output_type": "stream",
     "text": [
      "9 -->67 -->34 -->49 -->"
     ]
    }
   ],
   "source": [
    "class Node:\n",
    "    \n",
    "    def __init__(self,data):\n",
    "        \n",
    "        self.data = data\n",
    "        self.next = None\n",
    "\n",
    "class sl:\n",
    "    \n",
    "    def __init__(self):\n",
    "        self.head = None\n",
    "        \n",
    "    def display(self):\n",
    "        \n",
    "        \n",
    "       \n",
    "        if self.head is None:\n",
    "                print(\"singly linked list is empty\")\n",
    "        \n",
    "        else:\n",
    "            temp = self.head\n",
    "            while temp:\n",
    "\n",
    "\n",
    "\n",
    "                print(temp.data ,'-->',end ='')\n",
    "\n",
    "                temp = temp.next\n",
    "    def delete_specifiedpos(self,pos):\n",
    "            \n",
    "        temp=self.head.next\n",
    "        prev = self.head\n",
    "        \n",
    "        \n",
    "        for i in range(1,pos-1):\n",
    "            \n",
    "            \n",
    "            temp = temp.next\n",
    "            prev = prev.next\n",
    "            \n",
    "            \n",
    "        \n",
    "        prev.next = temp.next\n",
    "        temp.next = None\n",
    "                \n",
    "s=sl()            \n",
    "n1 = Node(9)\n",
    "s.head =n1\n",
    "n2= Node(67)\n",
    "n1.next = n2\n",
    "n3 = Node(89)\n",
    "n2.next = n3\n",
    "n4 = Node(34)\n",
    "n3.next = n4\n",
    "n5 = Node(49)\n",
    "n4.next = n5\n",
    "s.delete_specifiedpos(3)\n",
    "s.display()\n"
   ]
  },
  {
   "cell_type": "markdown",
   "id": "01c8da47",
   "metadata": {},
   "source": [
    "# Insertion at beginning"
   ]
  },
  {
   "cell_type": "code",
   "execution_count": 25,
   "id": "f3fbaa4f",
   "metadata": {},
   "outputs": [
    {
     "name": "stdout",
     "output_type": "stream",
     "text": [
      "7 -->9 -->67 -->89 -->34 -->49 -->"
     ]
    }
   ],
   "source": [
    "class Node:\n",
    "    \n",
    "    def __init__(self,data):\n",
    "        \n",
    "        self.data = data\n",
    "        self.next = None\n",
    "\n",
    "class sl:\n",
    "    \n",
    "    def __init__(self):\n",
    "        self.head = None\n",
    "        \n",
    "    def display(self):\n",
    "        \n",
    "        \n",
    "       \n",
    "        if self.head is None:\n",
    "                print(\"singly linked list is empty\")\n",
    "        \n",
    "        else:\n",
    "            temp = self.head\n",
    "            while temp:\n",
    "\n",
    "\n",
    "\n",
    "                print(temp.data ,'-->',end ='')\n",
    "\n",
    "                temp = temp.next\n",
    "    def insertion_begin(self):\n",
    "        \n",
    "        nb= Node(7)\n",
    "        nb.next = self.head\n",
    "        \n",
    "        self.head = nb\n",
    "        \n",
    "                \n",
    "s=sl()            \n",
    "n1 = Node(9)\n",
    "s.head =n1\n",
    "n2= Node(67)\n",
    "n1.next = n2\n",
    "n3 = Node(89)\n",
    "n2.next = n3\n",
    "n4 = Node(34)\n",
    "n3.next = n4\n",
    "n5 = Node(49)\n",
    "n4.next = n5\n",
    "s.insertion_begin()\n",
    "s.display()\n"
   ]
  },
  {
   "cell_type": "markdown",
   "id": "957f7dc8",
   "metadata": {},
   "source": [
    "# Insertion at Ending"
   ]
  },
  {
   "cell_type": "code",
   "execution_count": 28,
   "id": "4220da7e",
   "metadata": {},
   "outputs": [
    {
     "name": "stdout",
     "output_type": "stream",
     "text": [
      "9 -->67 -->89 -->34 -->49 -->102 -->"
     ]
    }
   ],
   "source": [
    "class Node:\n",
    "    \n",
    "    def __init__(self,data):\n",
    "        \n",
    "        self.data = data\n",
    "        self.next = None\n",
    "\n",
    "class sl:\n",
    "    \n",
    "    def __init__(self):\n",
    "        self.head = None\n",
    "        \n",
    "    def display(self):\n",
    "        \n",
    "        \n",
    "       \n",
    "        if self.head is None:\n",
    "                print(\"singly linked list is empty\")\n",
    "        \n",
    "        else:\n",
    "            temp = self.head\n",
    "            while temp:\n",
    "\n",
    "\n",
    "\n",
    "                print(temp.data ,'-->',end ='')\n",
    "\n",
    "                temp = temp.next\n",
    "    def insertion_ending(self):\n",
    "            \n",
    "        temp=self.head.next\n",
    "        prev = self.head\n",
    "        \n",
    "        while temp:\n",
    "            \n",
    "            \n",
    "            temp = temp.next\n",
    "            prev = prev.next\n",
    "            \n",
    "        nb= Node(102)\n",
    "        \n",
    "        nb.next = prev.next\n",
    "        prev.next = nb\n",
    "                \n",
    "s=sl()            \n",
    "n1 = Node(9)\n",
    "s.head =n1\n",
    "n2= Node(67)\n",
    "n1.next = n2\n",
    "n3 = Node(89)\n",
    "n2.next = n3\n",
    "n4 = Node(34)\n",
    "n3.next = n4\n",
    "n5 = Node(49)\n",
    "n4.next = n5\n",
    "s.insertion_ending()\n",
    "s.display()\n"
   ]
  },
  {
   "cell_type": "code",
   "execution_count": 29,
   "id": "7e075756",
   "metadata": {},
   "outputs": [
    {
     "name": "stdout",
     "output_type": "stream",
     "text": [
      "9 -->67 -->89 -->102 -->34 -->49 -->"
     ]
    }
   ],
   "source": [
    "class Node:\n",
    "    \n",
    "    def __init__(self,data):\n",
    "        \n",
    "        self.data = data\n",
    "        self.next = None\n",
    "\n",
    "class sl:\n",
    "    \n",
    "    def __init__(self):\n",
    "        self.head = None\n",
    "        \n",
    "    def display(self):\n",
    "        \n",
    "        \n",
    "       \n",
    "        if self.head is None:\n",
    "                print(\"singly linked list is empty\")\n",
    "        \n",
    "        else:\n",
    "            temp = self.head\n",
    "            while temp:\n",
    "\n",
    "\n",
    "\n",
    "                print(temp.data ,'-->',end ='')\n",
    "\n",
    "                temp = temp.next\n",
    "    def insertion_specifiedpos(self,pos):\n",
    "        temp = self.head.next\n",
    "        prev = self.head\n",
    "        \n",
    "        for i in range(1,pos-1):\n",
    "            \n",
    "            temp = temp.next\n",
    "            prev = prev.next\n",
    "        \n",
    "        ns = Node(102)\n",
    "        ns.next = prev.next\n",
    "        prev.next = ns\n",
    "            \n",
    "        \n",
    "            \n",
    "        \n",
    "                \n",
    "s=sl()            \n",
    "n1 = Node(9)\n",
    "s.head =n1\n",
    "n2= Node(67)\n",
    "n1.next = n2\n",
    "n3 = Node(89)\n",
    "n2.next = n3\n",
    "n4 = Node(34)\n",
    "n3.next = n4\n",
    "n5 = Node(49)\n",
    "n4.next = n5\n",
    "s.insertion_specifiedpos(4)\n",
    "s.display()\n"
   ]
  }
 ],
 "metadata": {
  "kernelspec": {
   "display_name": "Python 3 (ipykernel)",
   "language": "python",
   "name": "python3"
  },
  "language_info": {
   "codemirror_mode": {
    "name": "ipython",
    "version": 3
   },
   "file_extension": ".py",
   "mimetype": "text/x-python",
   "name": "python",
   "nbconvert_exporter": "python",
   "pygments_lexer": "ipython3",
   "version": "3.9.13"
  }
 },
 "nbformat": 4,
 "nbformat_minor": 5
}
