{
 "cells": [
  {
   "cell_type": "markdown",
   "id": "0a9f47fd",
   "metadata": {},
   "source": [
    "# 26. Remove Duplicates from Sorted Array"
   ]
  },
  {
   "cell_type": "code",
   "execution_count": null,
   "id": "3b77de88",
   "metadata": {},
   "outputs": [],
   "source": [
    "Given an integer array nums sorted in non-decreasing order, remove the duplicates in-place such that each unique element appears only once. The relative order of the elements should be kept the same.\n",
    "\n",
    "Since it is impossible to change the length of the array in some languages, you must instead have the result be placed in the first part of the array nums. More formally, if there are k elements after removing the duplicates, then the first k elements of nums should hold the final result. It does not matter what you leave beyond the first k elements.\n",
    "\n",
    "Return k after placing the final result in the first k slots of nums.\n",
    "\n",
    "Do not allocate extra space for another array. You must do this by modifying the input array in-place with O(1) extra memory.\n",
    "\n",
    "Custom Judge:\n",
    "\n",
    "The judge will test your solution with the following code:\n",
    "\n",
    "int[] nums = [...]; // Input array\n",
    "int[] expectedNums = [...]; // The expected answer with correct length\n",
    "\n",
    "int k = removeDuplicates(nums); // Calls your implementation\n",
    "\n",
    "assert k == expectedNums.length;\n",
    "for (int i = 0; i < k; i++) {\n",
    "    assert nums[i] == expectedNums[i];\n",
    "}\n",
    "\n",
    "If all assertions pass, then your solution will be accepted.\n",
    "\n",
    " \n",
    "\n",
    "Example 1:\n",
    "\n",
    "Input: nums = [1,1,2]\n",
    "Output: 2, nums = [1,2,_]\n",
    "Explanation: Your function should return k = 2, with the first two elements of nums being 1 and 2 respectively.\n",
    "It does not matter what you leave beyond the returned k (hence they are underscores).\n",
    "\n",
    "Example 2:\n",
    "\n",
    "Input: nums = [0,0,1,1,1,2,2,3,3,4]\n",
    "Output: 5, nums = [0,1,2,3,4,_,_,_,_,_]\n",
    "Explanation: Your function should return k = 5, with the first five elements of nums being 0, 1, 2, 3, and 4 respectively.\n",
    "It does not matter what you leave beyond the returned k (hence they are underscores).\n"
   ]
  },
  {
   "cell_type": "code",
   "execution_count": 1,
   "id": "65d041fc",
   "metadata": {},
   "outputs": [
    {
     "data": {
      "text/plain": [
       "2"
      ]
     },
     "execution_count": 1,
     "metadata": {},
     "output_type": "execute_result"
    }
   ],
   "source": [
    "\n",
    "\n",
    "def duplicate(nums):\n",
    "    for n in nums:\n",
    "        k=0\n",
    "        if n!=nums[k]:\n",
    "            k+=1\n",
    "            nums[k] =n\n",
    "    return k+1\n",
    "duplicate([1,1,2])"
   ]
  },
  {
   "cell_type": "code",
   "execution_count": 13,
   "id": "eaa5172c",
   "metadata": {},
   "outputs": [
    {
     "name": "stdout",
     "output_type": "stream",
     "text": [
      "most frequent no in list: 1\n",
      "original list: [1, 1, 3, 4, 5]\n",
      "it ocuurs 2 times in lst\n"
     ]
    }
   ],
   "source": [
    "lst = [1,1,3,4,5]\n",
    "count = 0\n",
    "temp = 0\n",
    "index =0\n",
    "for i in range(len(lst)):\n",
    "    temp = lst.count(lst[i])\n",
    "    \n",
    "    if temp > count:\n",
    "        count = temp\n",
    "        index=i\n",
    "print('most frequent no in list:',lst[index])\n",
    "print('original list:',lst)\n",
    "print('it ocuurs',count,'times in lst')"
   ]
  },
  {
   "cell_type": "code",
   "execution_count": 24,
   "id": "316215de",
   "metadata": {},
   "outputs": [
    {
     "data": {
      "text/plain": [
       "([0, 1, 2, 3, 4], 5)"
      ]
     },
     "execution_count": 24,
     "metadata": {},
     "output_type": "execute_result"
    }
   ],
   "source": [
    "sortele = []\n",
    "\n",
    "def duplicates(lst):\n",
    "    count =0\n",
    "    for i in lst:\n",
    "        if i not in sortele:\n",
    "            sortele.append(i)\n",
    "        else:\n",
    "            count = count +1\n",
    "    return sortele,count\n",
    "duplicates( [0,0,1,1,1,2,2,3,3,4])\n"
   ]
  },
  {
   "cell_type": "code",
   "execution_count": 25,
   "id": "71eb5972",
   "metadata": {},
   "outputs": [
    {
     "data": {
      "text/plain": [
       "([0, 1, 2, 3, 4], 3)"
      ]
     },
     "execution_count": 25,
     "metadata": {},
     "output_type": "execute_result"
    }
   ],
   "source": [
    "duplicates([1,1,2])"
   ]
  },
  {
   "cell_type": "code",
   "execution_count": 29,
   "id": "d8afa90e",
   "metadata": {},
   "outputs": [
    {
     "data": {
      "text/plain": [
       "(2, [1, 2, 2])"
      ]
     },
     "execution_count": 29,
     "metadata": {},
     "output_type": "execute_result"
    }
   ],
   "source": [
    "def removeDuplicates( nums):\n",
    "        i = 1\n",
    "        j = 0\n",
    "        while (j < len(nums) - 1):\n",
    "            if (nums[j+1] == nums[j]):\n",
    "                j += 1\n",
    "            else:\n",
    "                nums[i] = nums[j+1]\n",
    "                i+=1\n",
    "                j+=1\n",
    "        return i,nums\n",
    "removeDuplicates( [1,1,2])"
   ]
  },
  {
   "cell_type": "code",
   "execution_count": 30,
   "id": "236e30a5",
   "metadata": {},
   "outputs": [
    {
     "data": {
      "text/plain": [
       "(5, [0, 1, 2, 3, 4, 2, 2, 3, 3, 4])"
      ]
     },
     "execution_count": 30,
     "metadata": {},
     "output_type": "execute_result"
    }
   ],
   "source": [
    "def removeDuplicates( nums):\n",
    "    i=0\n",
    "    for j in nums:\n",
    "        if j > nums[i]:\n",
    "            i+=1\n",
    "            nums[i]=j\n",
    "        \n",
    "    return i+1,nums\n",
    "removeDuplicates( [0,0,1,1,1,2,2,3,3,4])#replace the duplicate values with '_'\n"
   ]
  },
  {
   "cell_type": "markdown",
   "id": "820173c4",
   "metadata": {},
   "source": [
    "# 80. Remove Duplicates from Sorted Array II"
   ]
  },
  {
   "cell_type": "code",
   "execution_count": null,
   "id": "def41ea9",
   "metadata": {},
   "outputs": [],
   "source": [
    "Given an integer array nums sorted in non-decreasing order, remove some duplicates in-place such that each unique element appears at most twice. The relative order of the elements should be kept the same.\n",
    "\n",
    "Since it is impossible to change the length of the array in some languages, you must instead have the result be placed in the first part of the array nums. More formally, if there are k elements after removing the duplicates, then the first k elements of nums should hold the final result. It does not matter what you leave beyond the first k elements.\n",
    "\n",
    "Return k after placing the final result in the first k slots of nums.\n",
    "\n",
    "Do not allocate extra space for another array. You must do this by modifying the input array in-place with O(1) extra memory.\n",
    "\n",
    "Custom Judge:\n",
    "\n",
    "The judge will test your solution with the following code:\n",
    "\n",
    "int[] nums = [...]; // Input array\n",
    "int[] expectedNums = [...]; // The expected answer with correct length\n",
    "\n",
    "int k = removeDuplicates(nums); // Calls your implementation\n",
    "\n",
    "assert k == expectedNums.length;\n",
    "for (int i = 0; i < k; i++) {\n",
    "    assert nums[i] == expectedNums[i];\n",
    "}\n",
    "\n",
    "If all assertions pass, then your solution will be accepted.\n",
    "\n",
    " \n",
    "\n",
    "Example 1:\n",
    "\n",
    "Input: nums = [1,1,1,2,2,3]\n",
    "Output: 5, nums = [1,1,2,2,3,_]\n",
    "Explanation: Your function should return k = 5, with the first five elements of nums being 1, 1, 2, 2 and 3 respectively.\n",
    "It does not matter what you leave beyond the returned k (hence they are underscores).\n",
    "\n",
    "Example 2:\n",
    "\n",
    "Input: nums = [0,0,1,1,1,1,2,3,3]\n",
    "Output: 7, nums = [0,0,1,1,2,3,3,_,_]\n",
    "Explanation: Your function should return k = 7, with the first seven elements of nums being 0, 0, 1, 1, 2, 3 and 3 respectively.\n",
    "It does not matter what you leave beyond the returned k (hence they are underscores).\n"
   ]
  },
  {
   "cell_type": "code",
   "execution_count": 32,
   "id": "6baffa54",
   "metadata": {},
   "outputs": [
    {
     "name": "stdout",
     "output_type": "stream",
     "text": [
      "5\n",
      "[1, 1, 2, 2, 3, 1]\n"
     ]
    }
   ],
   "source": [
    "nums = [1,1,1,2,2,3]\n",
    "cur_idx, count, n = 0, 1, len(nums)\n",
    "for i in range(n):\n",
    "    count = count+1 if i+1 < n and nums[i] == nums[i+1] else 1\n",
    "    nums[i], nums[cur_idx] = nums[cur_idx], nums[i]\n",
    "    cur_idx += (count <= 2)\n",
    "print(cur_idx)\n",
    "print(nums)"
   ]
  },
  {
   "cell_type": "code",
   "execution_count": null,
   "id": "142e7b29",
   "metadata": {},
   "outputs": [],
   "source": [
    "nums = [0,0,1,1,1,1,2,3,3]\n",
    "cur_idx, count, n = 0, 1, len(nums)\n",
    "for i in range(n):\n",
    "    count = count+1 if i+1 < n and nums[i] == nums[i+1] else 1\n",
    "    nums[i], nums[cur_idx] = nums[cur_idx], nums[i]\n",
    "    cur_idx += (count <= 2)\n",
    "print(cur_idx)\n",
    "print(nums)"
   ]
  },
  {
   "cell_type": "code",
   "execution_count": null,
   "id": "5bcd97ea",
   "metadata": {},
   "outputs": [],
   "source": [
    "nums = [0,0,1,1,1,1,2,3,3]\n",
    "if len(nums) < 2: \n",
    "    print(len(nums))\n",
    "slow, fast = 2, 2\n",
    "\n",
    "while fast < len(nums):\n",
    "    if nums[slow - 2] != nums[fast]:\n",
    "        nums[slow] = nums[fast]\n",
    "        slow += 1\n",
    "        fast += 1\n",
    "print(slow)"
   ]
  },
  {
   "cell_type": "code",
   "execution_count": null,
   "id": "5ee0635e",
   "metadata": {},
   "outputs": [],
   "source": []
  },
  {
   "cell_type": "code",
   "execution_count": null,
   "id": "451fb1b6",
   "metadata": {},
   "outputs": [],
   "source": []
  }
 ],
 "metadata": {
  "kernelspec": {
   "display_name": "base",
   "language": "python",
   "name": "python3"
  },
  "language_info": {
   "codemirror_mode": {
    "name": "ipython",
    "version": 3
   },
   "file_extension": ".py",
   "mimetype": "text/x-python",
   "name": "python",
   "nbconvert_exporter": "python",
   "pygments_lexer": "ipython3",
   "version": "3.9.13"
  },
  "vscode": {
   "interpreter": {
    "hash": "b09ec625f77bf4fd762565a912b97636504ad6ec901eb2d0f4cf5a7de23e1ee5"
   }
  }
 },
 "nbformat": 4,
 "nbformat_minor": 5
}
