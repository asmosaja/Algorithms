{
  "nbformat": 4,
  "nbformat_minor": 0,
  "metadata": {
    "colab": {
      "provenance": [],
      "toc_visible": true
    },
    "kernelspec": {
      "name": "python3",
      "display_name": "Python 3"
    },
    "language_info": {
      "name": "python"
    }
  },
  "cells": [
    {
      "cell_type": "code",
      "execution_count": null,
      "metadata": {
        "colab": {
          "base_uri": "https://localhost:8080/"
        },
        "id": "qisgZfmRubSG",
        "outputId": "a468cfc3-7d8c-4125-f774-e1c1d0954dcd"
      },
      "outputs": [
        {
          "output_type": "stream",
          "name": "stdout",
          "text": [
            "{2: 1, 3: 1, 4: 1, 5: 1, 43: 1}\n"
          ]
        }
      ],
      "source": [
        "nums1 = [2,3,4,5,5,43,3,2,2]\n",
        "d={}\n",
        "for i in nums1:\n",
        "  d[i]=1\n",
        "print(d)"
      ]
    },
    {
      "cell_type": "code",
      "source": [
        "nums1 = [2,3,4,5,5,43,3,2,2]\n",
        "d={}\n",
        "for i in nums1:\n",
        "  d[i] = d.get(i,0)+1\n",
        "print(d)"
      ],
      "metadata": {
        "colab": {
          "base_uri": "https://localhost:8080/"
        },
        "id": "9Ax5SVj2uxnh",
        "outputId": "8f95529e-bcd2-4a2e-c6d3-1b1b142f237f"
      },
      "execution_count": null,
      "outputs": [
        {
          "output_type": "stream",
          "name": "stdout",
          "text": [
            "{2: 3, 3: 2, 4: 1, 5: 2, 43: 1}\n"
          ]
        }
      ]
    },
    {
      "cell_type": "code",
      "source": [
        "h = \"HELLO BUDDY\"\n",
        "print(h.capitalize())"
      ],
      "metadata": {
        "colab": {
          "base_uri": "https://localhost:8080/"
        },
        "id": "3j6Sr3f7JHkJ",
        "outputId": "d31425b7-bd06-4fe5-baef-c5413b2aa2f4"
      },
      "execution_count": null,
      "outputs": [
        {
          "output_type": "stream",
          "name": "stdout",
          "text": [
            "Hello buddy\n"
          ]
        }
      ]
    },
    {
      "cell_type": "code",
      "source": [
        "h = 'HELLO BUDDY'\n",
        "print(h.title())"
      ],
      "metadata": {
        "colab": {
          "base_uri": "https://localhost:8080/"
        },
        "id": "s8yADA9BJSwp",
        "outputId": "75b6f7ff-5529-4898-88de-c48f8acd4f66"
      },
      "execution_count": null,
      "outputs": [
        {
          "output_type": "stream",
          "name": "stdout",
          "text": [
            "Hello Buddy\n"
          ]
        }
      ]
    },
    {
      "cell_type": "markdown",
      "source": [
        "13. s.lstrip([<chars>])\n",
        "Removes leading characters from a string. Removes leading whitespaces if you don’t provide a <chars> argument.\n",
        "\n",
        "14. s.rstrip([<chars>])\n",
        "Removes trailing characters from a string. Removes trailing whitespaces if you don’t provide a <chars> argument.\n",
        "\n",
        "15. s.strip([<chars>])\n",
        "Removes leading and trailing characters from a string. Removes leading and trailing whitespaces if you don’t provide a <chars> argument.\n",
        "\n",
        "Example of lstrip(), rstrip() and strip()"
      ],
      "metadata": {
        "id": "i6F-6NnlA-or"
      }
    },
    {
      "cell_type": "code",
      "source": [
        "s = \"   Techvidvan   \"\n",
        "s.lstrip()"
      ],
      "metadata": {
        "id": "ZsJSMfXjKUpN",
        "colab": {
          "base_uri": "https://localhost:8080/",
          "height": 35
        },
        "outputId": "d69105c8-da92-4ff6-b9df-9332eb77319c"
      },
      "execution_count": null,
      "outputs": [
        {
          "output_type": "execute_result",
          "data": {
            "text/plain": [
              "'Techvidvan   '"
            ],
            "application/vnd.google.colaboratory.intrinsic+json": {
              "type": "string"
            }
          },
          "metadata": {},
          "execution_count": 3
        }
      ]
    },
    {
      "cell_type": "code",
      "source": [
        "s.rstrip()"
      ],
      "metadata": {
        "id": "eG8411ZqKUww",
        "colab": {
          "base_uri": "https://localhost:8080/",
          "height": 35
        },
        "outputId": "a2cb7fd1-c2c8-4bdc-8205-6beec23bd9ed"
      },
      "execution_count": null,
      "outputs": [
        {
          "output_type": "execute_result",
          "data": {
            "text/plain": [
              "'   Techvidvan'"
            ],
            "application/vnd.google.colaboratory.intrinsic+json": {
              "type": "string"
            }
          },
          "metadata": {},
          "execution_count": 4
        }
      ]
    },
    {
      "cell_type": "code",
      "source": [
        "s.strip()"
      ],
      "metadata": {
        "id": "5TdhI4HcKU2d",
        "colab": {
          "base_uri": "https://localhost:8080/",
          "height": 35
        },
        "outputId": "3d3938ae-6716-4ea2-e897-678f02aa566a"
      },
      "execution_count": null,
      "outputs": [
        {
          "output_type": "execute_result",
          "data": {
            "text/plain": [
              "'Techvidvan'"
            ],
            "application/vnd.google.colaboratory.intrinsic+json": {
              "type": "string"
            }
          },
          "metadata": {},
          "execution_count": 5
        }
      ]
    },
    {
      "cell_type": "markdown",
      "source": [
        "Joins elements of an iterable into a single string. Here, s is the separator string.\n",
        "s.join(<iterable>)\n"
      ],
      "metadata": {
        "id": "Q4xKy1S9BG_E"
      }
    },
    {
      "cell_type": "code",
      "source": [
        "s1 = ' '.join(['We', 'are', 'Coders'])\n",
        "print(s1)\n",
        "\n",
        "s2 = ':'.join(['We', 'are', 'Coders'])\n",
        "print(s2)\n"
      ],
      "metadata": {
        "colab": {
          "base_uri": "https://localhost:8080/"
        },
        "id": "2T2MXuTC_4DD",
        "outputId": "45213140-91ec-4446-f682-7b1d7c308af0"
      },
      "execution_count": null,
      "outputs": [
        {
          "output_type": "stream",
          "name": "stdout",
          "text": [
            "We are Coders\n",
            "We:are:Coders\n"
          ]
        }
      ]
    },
    {
      "cell_type": "markdown",
      "source": [
        "\n",
        "\n",
        "\n",
        "s.split(sep = None, maxspit = -1)\n",
        "Splits a string into a list of substrings based on sep. If you don’t pass a value to sep, it splits based on whitespaces.\n",
        "\n",
        "Example\n",
        "\n"
      ],
      "metadata": {
        "id": "wJzrIKtoAb4l"
      }
    },
    {
      "cell_type": "code",
      "source": [
        "\n",
        "\n",
        "l = 'we are      coders'.split()\n",
        "l\n"
      ],
      "metadata": {
        "colab": {
          "base_uri": "https://localhost:8080/"
        },
        "id": "Gc44sFL7AZ0b",
        "outputId": "6aa83064-8dc4-4bce-8fb6-6088b1d7ca2a"
      },
      "execution_count": null,
      "outputs": [
        {
          "output_type": "execute_result",
          "data": {
            "text/plain": [
              "['we', 'are', 'coders']"
            ]
          },
          "metadata": {},
          "execution_count": 6
        }
      ]
    },
    {
      "cell_type": "code",
      "source": [
        "\n",
        "l = 'we are      coders'.split('e')\n",
        "l\n"
      ],
      "metadata": {
        "colab": {
          "base_uri": "https://localhost:8080/"
        },
        "id": "0M5k_i7eAqR4",
        "outputId": "2a93e1da-3f28-4be0-ba1f-287a84b7d61e"
      },
      "execution_count": null,
      "outputs": [
        {
          "output_type": "execute_result",
          "data": {
            "text/plain": [
              "['w', ' ar', '      cod', 'rs']"
            ]
          },
          "metadata": {},
          "execution_count": 7
        }
      ]
    },
    {
      "cell_type": "markdown",
      "source": [
        "5. s.swapcase() in Python\n",
        "Swaps case of all alphabetic characters.\n",
        "\n"
      ],
      "metadata": {
        "id": "IRpXyciyD7Rt"
      }
    },
    {
      "cell_type": "code",
      "source": [
        "s = \"heLLo BuDdY\"\n",
        "s2 = s.swapcase()\n",
        "print(s2)\n"
      ],
      "metadata": {
        "colab": {
          "base_uri": "https://localhost:8080/"
        },
        "id": "-iOnpI4HD-KV",
        "outputId": "af57dc27-5303-4d13-d2bb-a617afe2e851"
      },
      "execution_count": null,
      "outputs": [
        {
          "output_type": "stream",
          "name": "stdout",
          "text": [
            "HEllO bUdDy\n"
          ]
        }
      ]
    },
    {
      "cell_type": "markdown",
      "source": [
        " s.count(<sub>[, <start>[, <end>]])\n",
        "\n",
        "\n",
        "\n",
        "Returns the number of time <sub> occurs in s.\n",
        "\n",
        "For Example\n"
      ],
      "metadata": {
        "id": "1d4skJKhEA5w"
      }
    },
    {
      "cell_type": "code",
      "source": [
        "s = 'Dread Thread Spread'\n",
        "s.count('e')\n",
        "\n",
        "s.count('rea')\n",
        "\n",
        "s.count('e', 4, 18)\n"
      ],
      "metadata": {
        "colab": {
          "base_uri": "https://localhost:8080/"
        },
        "id": "xjgHYwaiEHaL",
        "outputId": "4064259f-c4db-4e44-c294-7e3f1c9a9b0c"
      },
      "execution_count": null,
      "outputs": [
        {
          "output_type": "execute_result",
          "data": {
            "text/plain": [
              "2"
            ]
          },
          "metadata": {},
          "execution_count": 8
        }
      ]
    },
    {
      "cell_type": "code",
      "source": [
        "num1 = '112'\n",
        "i1 = len(nums1 )-1\n",
        "print(ord(num1[i1]) - ord('0'))"
      ],
      "metadata": {
        "colab": {
          "base_uri": "https://localhost:8080/"
        },
        "id": "7bY8EpJsIxoT",
        "outputId": "460173cb-2faa-4b70-baaf-5f54a3157ed6"
      },
      "execution_count": null,
      "outputs": [
        {
          "output_type": "stream",
          "name": "stdout",
          "text": [
            "2\n"
          ]
        }
      ]
    },
    {
      "cell_type": "code",
      "source": [
        "num1 = \"12\"\n",
        "num2 = \"219\"\n",
        "print(ord(num1[1]))\n",
        "print(ord(num1[1]) - ord('0'))\n"
      ],
      "metadata": {
        "colab": {
          "base_uri": "https://localhost:8080/"
        },
        "id": "K_dTqwU1Ja0x",
        "outputId": "ab474b79-c310-433f-c4be-aef2429d666a"
      },
      "execution_count": null,
      "outputs": [
        {
          "output_type": "stream",
          "name": "stdout",
          "text": [
            "50\n",
            "2\n"
          ]
        }
      ]
    },
    {
      "cell_type": "code",
      "source": [
        "print(ord(num2[1]))\n",
        "print(ord(num2[1]) - ord('0'))\n"
      ],
      "metadata": {
        "colab": {
          "base_uri": "https://localhost:8080/"
        },
        "id": "d7Jn_gHgLTAA",
        "outputId": "af018e9b-9046-4c22-f959-53c4dce0bb74"
      },
      "execution_count": null,
      "outputs": [
        {
          "output_type": "stream",
          "name": "stdout",
          "text": [
            "49\n",
            "1\n"
          ]
        }
      ]
    },
    {
      "cell_type": "code",
      "source": [
        "print(ord(num2[2]))\n",
        "print(ord(num2[2]) - ord('0'))"
      ],
      "metadata": {
        "colab": {
          "base_uri": "https://localhost:8080/"
        },
        "id": "JNItZI0pLTDN",
        "outputId": "c34c6cac-f727-4aee-d680-6506f024e817"
      },
      "execution_count": null,
      "outputs": [
        {
          "output_type": "stream",
          "name": "stdout",
          "text": [
            "57\n",
            "9\n"
          ]
        }
      ]
    },
    {
      "cell_type": "code",
      "source": [
        "carry = 2\n",
        "print(chr(carry % 10 + ord('0')))\n"
      ],
      "metadata": {
        "colab": {
          "base_uri": "https://localhost:8080/"
        },
        "id": "pIe4HfXgRwrN",
        "outputId": "c9dc2f28-f4c8-442a-aad4-d1ee3ef7758e"
      },
      "execution_count": null,
      "outputs": [
        {
          "output_type": "stream",
          "name": "stdout",
          "text": [
            "2\n"
          ]
        }
      ]
    },
    {
      "cell_type": "code",
      "source": [
        "carry = 2\n",
        "carry //= 10\n",
        "carry\n"
      ],
      "metadata": {
        "colab": {
          "base_uri": "https://localhost:8080/"
        },
        "id": "VwkU3RJ1TDmG",
        "outputId": "94b05c4f-6ce6-4841-a344-83c9489df8f4"
      },
      "execution_count": null,
      "outputs": [
        {
          "output_type": "execute_result",
          "data": {
            "text/plain": [
              "0"
            ]
          },
          "metadata": {},
          "execution_count": 47
        }
      ]
    },
    {
      "cell_type": "code",
      "source": [
        "rounds += count // 3 + min(1, count % 3)"
      ],
      "metadata": {
        "colab": {
          "base_uri": "https://localhost:8080/",
          "height": 165
        },
        "id": "baqQgDlbKJKE",
        "outputId": "47fe3e60-e52d-41d2-f233-528f349d8fb7"
      },
      "execution_count": null,
      "outputs": [
        {
          "output_type": "error",
          "ename": "NameError",
          "evalue": "ignored",
          "traceback": [
            "\u001b[0;31m---------------------------------------------------------------------------\u001b[0m",
            "\u001b[0;31mNameError\u001b[0m                                 Traceback (most recent call last)",
            "\u001b[0;32m<ipython-input-1-93ddbcb2f372>\u001b[0m in \u001b[0;36m<module>\u001b[0;34m\u001b[0m\n\u001b[0;32m----> 1\u001b[0;31m \u001b[0mrounds\u001b[0m \u001b[0;34m+=\u001b[0m \u001b[0mcount\u001b[0m \u001b[0;34m//\u001b[0m \u001b[0;36m3\u001b[0m \u001b[0;34m+\u001b[0m \u001b[0mmin\u001b[0m\u001b[0;34m(\u001b[0m\u001b[0;36m1\u001b[0m\u001b[0;34m,\u001b[0m \u001b[0mcount\u001b[0m \u001b[0;34m%\u001b[0m \u001b[0;36m3\u001b[0m\u001b[0;34m)\u001b[0m\u001b[0;34m\u001b[0m\u001b[0;34m\u001b[0m\u001b[0m\n\u001b[0m",
            "\u001b[0;31mNameError\u001b[0m: name 'rounds' is not defined"
          ]
        }
      ]
    },
    {
      "cell_type": "code",
      "source": [
        "count = 2\n",
        "print(min(1,count%3))"
      ],
      "metadata": {
        "colab": {
          "base_uri": "https://localhost:8080/"
        },
        "id": "XcpznVWfBFYt",
        "outputId": "4edc9769-4650-407b-8436-cad3682c370f"
      },
      "execution_count": null,
      "outputs": [
        {
          "output_type": "stream",
          "name": "stdout",
          "text": [
            "1\n"
          ]
        }
      ]
    },
    {
      "cell_type": "code",
      "source": [
        "print(2%3)"
      ],
      "metadata": {
        "colab": {
          "base_uri": "https://localhost:8080/"
        },
        "id": "3GKaVKxzBLOB",
        "outputId": "27c55e68-1ce4-4dd3-9179-c73908c0f58c"
      },
      "execution_count": null,
      "outputs": [
        {
          "output_type": "stream",
          "name": "stdout",
          "text": [
            "2\n"
          ]
        }
      ]
    },
    {
      "cell_type": "code",
      "source": [],
      "metadata": {
        "id": "eY5OieybBRWw"
      },
      "execution_count": null,
      "outputs": []
    }
  ]
}