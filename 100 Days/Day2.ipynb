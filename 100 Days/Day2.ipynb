{
 "cells": [
  {
   "cell_type": "markdown",
   "id": "3f8dae62",
   "metadata": {},
   "source": [
    "# 1.FINDING THE LARGEST,SMALLEST,SECOND LARGEST AND SECOND SMALLEST VALUES"
   ]
  },
  {
   "cell_type": "code",
   "execution_count": 10,
   "id": "fb986950",
   "metadata": {},
   "outputs": [
    {
     "name": "stdout",
     "output_type": "stream",
     "text": [
      "Largest element is: 789\n",
      "Smallest element is: 78\n",
      "Second Largest element is: 456\n",
      "Second Smallest element is: 90\n"
     ]
    }
   ],
   "source": [
    "def largest(list1):\n",
    "    largest = list1[0]\n",
    "    smallest = list1[0]\n",
    "    second_small = None\n",
    "    second_large = None\n",
    "    \n",
    "    for i in list1[1:]:\n",
    "        \n",
    "        if i > largest:\n",
    "            second_large = largest\n",
    "            largest = i\n",
    "            \n",
    "        elif i < largest:#this is raised due to  if elif condition\n",
    "            second_small = smallest\n",
    "            smallest = i\n",
    "        elif second_small is None or second_small > i and i!= smallest:\n",
    "            second_small = i\n",
    "        elif second_large is None or second_large <i and i != largest:\n",
    "            second_large = i\n",
    "    print(\"Largest element is:\", largest)\n",
    "    print(\"Smallest element is:\", smallest)\n",
    "    print(\"Second Largest element is:\", second_large)\n",
    "    print(\"Second Smallest element is:\", second_small)\n",
    " \n",
    " \n",
    "# Driver Code\n",
    "list1 = [67,5,6,45,34,23,89,76,65,98,98,62,90,78,110,456,789]\n",
    "largest(list1)"
   ]
  },
  {
   "cell_type": "code",
   "execution_count": 9,
   "id": "d75c4c23",
   "metadata": {},
   "outputs": [
    {
     "name": "stdout",
     "output_type": "stream",
     "text": [
      "Largest element is: 789\n",
      "Smallest element is: 5\n",
      "Second Largest element is: 456\n",
      "Second Smallest element is: 6\n"
     ]
    }
   ],
   "source": [
    "def Range(list1):\n",
    "    largest = list1[0]\n",
    "    lowest = list1[0]\n",
    "    largest2 = None\n",
    "    lowest2 = None\n",
    "    for item in list1[1:]:    \n",
    "        if item > largest:\n",
    "            largest2 = largest\n",
    "            largest = item\n",
    "        elif largest2 is None or largest2 < item and item != largest:#if duplicate is there means write item != largest\n",
    "            largest2 = item\n",
    "        if item < lowest:\n",
    "            lowest2 = lowest\n",
    "            lowest = item\n",
    "        elif lowest2 is None or lowest2 > item and item != lowest:\n",
    "            lowest2 = item\n",
    "             \n",
    "    print(\"Largest element is:\", largest)\n",
    "    print(\"Smallest element is:\", lowest)\n",
    "    print(\"Second Largest element is:\", largest2)\n",
    "    print(\"Second Smallest element is:\", lowest2)\n",
    " \n",
    " \n",
    "# Driver Code\n",
    "list1 = [67,5,6,45,34,23,89,76,65,98,98,62,90,78,110,456,789]\n",
    "Range(list1)"
   ]
  },
  {
   "cell_type": "markdown",
   "id": "4acfcf0e",
   "metadata": {},
   "source": [
    "## 2. REMOVING DUPLICATES WITHOUT BUILTIN LIKE SET"
   ]
  },
  {
   "cell_type": "code",
   "execution_count": 14,
   "id": "20700b3c",
   "metadata": {},
   "outputs": [
    {
     "data": {
      "text/plain": [
       "[3, 4, 56, 78, 890, 42]"
      ]
     },
     "execution_count": 14,
     "metadata": {},
     "output_type": "execute_result"
    }
   ],
   "source": [
    "element =[3,3,4,56,56,56,56,78,890,890,42] \n",
    "\n",
    "def duplicate(element):\n",
    "    noduplicate = []\n",
    "    \n",
    "    for i in element:\n",
    "        \n",
    "        if i not in noduplicate:\n",
    "            \n",
    "            noduplicate.append(i)\n",
    "    return noduplicate\n",
    "duplicate(element)"
   ]
  },
  {
   "cell_type": "markdown",
   "id": "c1356c78",
   "metadata": {},
   "source": [
    "## 3. REMOVING THE DUPLICATES WITH SORTED"
   ]
  },
  {
   "cell_type": "code",
   "execution_count": 33,
   "id": "07230de7",
   "metadata": {},
   "outputs": [
    {
     "name": "stdout",
     "output_type": "stream",
     "text": [
      "[3, 4, 42, 56, 78, 890]\n",
      "78\n"
     ]
    }
   ],
   "source": [
    "n=[3,3,4,56,56,56,56,78,890,890,42] \n",
    "list1 = []\n",
    "for i in (n):\n",
    "    list1.append(i)\n",
    "duplicateremoved = set(list1)\n",
    "\n",
    "afterremoved = list(duplicateremoved)\n",
    "\n",
    "afterremoved.sort()\n",
    "print(afterremoved)\n",
    "if len(afterremoved)>1:\n",
    "    print(afterremoved[-2])\n",
    "else:\n",
    "    print('not found')"
   ]
  },
  {
   "cell_type": "markdown",
   "id": "a66fc320",
   "metadata": {},
   "source": [
    "# 4. MAXIMUM ELEMENT"
   ]
  },
  {
   "cell_type": "code",
   "execution_count": 22,
   "id": "dfb43bbb",
   "metadata": {},
   "outputs": [
    {
     "name": "stdout",
     "output_type": "stream",
     "text": [
      "890\n"
     ]
    }
   ],
   "source": [
    "n=[3,3,4,56,56,56,56,78,890,890,42] \n",
    "maxi = n[0]\n",
    "\n",
    "for i  in n:\n",
    "    if i>maxi:\n",
    "        maxi = i\n",
    "print(maxi)\n",
    "\n",
    "\n"
   ]
  },
  {
   "cell_type": "markdown",
   "id": "9697fa72",
   "metadata": {},
   "source": [
    "# 5. MINIMUM ELEMENT"
   ]
  },
  {
   "cell_type": "code",
   "execution_count": 23,
   "id": "c954ca56",
   "metadata": {},
   "outputs": [
    {
     "name": "stdout",
     "output_type": "stream",
     "text": [
      "890\n"
     ]
    }
   ],
   "source": [
    "n=[3,3,4,56,56,56,56,78,890,890,42] \n",
    "mini = n[0]\n",
    "\n",
    "for i  in n:\n",
    "    if i>mini:\n",
    "        mini = i\n",
    "print(mini)\n"
   ]
  },
  {
   "cell_type": "markdown",
   "id": "a0d5b452",
   "metadata": {},
   "source": [
    "# 6.  MAXIMUM ELEMENT IN NESTED LIST\n"
   ]
  },
  {
   "cell_type": "code",
   "execution_count": 26,
   "id": "659b0218",
   "metadata": {},
   "outputs": [
    {
     "ename": "TypeError",
     "evalue": "'>' not supported between instances of 'list' and 'int'",
     "output_type": "error",
     "traceback": [
      "\u001b[1;31m---------------------------------------------------------------------------\u001b[0m",
      "\u001b[1;31mTypeError\u001b[0m                                 Traceback (most recent call last)",
      "\u001b[1;32mD:\\TEMP\\ipykernel_9660\\4047275086.py\u001b[0m in \u001b[0;36m<module>\u001b[1;34m\u001b[0m\n\u001b[0;32m      4\u001b[0m \u001b[1;33m\u001b[0m\u001b[0m\n\u001b[0;32m      5\u001b[0m     \u001b[1;32mreturn\u001b[0m \u001b[0mmax\u001b[0m\u001b[1;33m(\u001b[0m\u001b[0mlist1\u001b[0m\u001b[1;33m)\u001b[0m\u001b[1;33m\u001b[0m\u001b[1;33m\u001b[0m\u001b[0m\n\u001b[1;32m----> 6\u001b[1;33m \u001b[0mlargestelement\u001b[0m\u001b[1;33m(\u001b[0m\u001b[1;33m[\u001b[0m\u001b[1;36m3\u001b[0m\u001b[1;33m,\u001b[0m\u001b[1;33m[\u001b[0m\u001b[1;36m56\u001b[0m\u001b[1;33m,\u001b[0m\u001b[1;36m78\u001b[0m\u001b[1;33m]\u001b[0m\u001b[1;33m,\u001b[0m\u001b[1;36m890\u001b[0m\u001b[1;33m,\u001b[0m\u001b[1;33m[\u001b[0m\u001b[1;36m890\u001b[0m\u001b[1;33m,\u001b[0m\u001b[1;36m42\u001b[0m\u001b[1;33m]\u001b[0m\u001b[1;33m]\u001b[0m\u001b[1;33m)\u001b[0m\u001b[1;33m\u001b[0m\u001b[1;33m\u001b[0m\u001b[0m\n\u001b[0m",
      "\u001b[1;32mD:\\TEMP\\ipykernel_9660\\4047275086.py\u001b[0m in \u001b[0;36mlargestelement\u001b[1;34m(list1)\u001b[0m\n\u001b[0;32m      3\u001b[0m \u001b[1;33m\u001b[0m\u001b[0m\n\u001b[0;32m      4\u001b[0m \u001b[1;33m\u001b[0m\u001b[0m\n\u001b[1;32m----> 5\u001b[1;33m     \u001b[1;32mreturn\u001b[0m \u001b[0mmax\u001b[0m\u001b[1;33m(\u001b[0m\u001b[0mlist1\u001b[0m\u001b[1;33m)\u001b[0m\u001b[1;33m\u001b[0m\u001b[1;33m\u001b[0m\u001b[0m\n\u001b[0m\u001b[0;32m      6\u001b[0m \u001b[0mlargestelement\u001b[0m\u001b[1;33m(\u001b[0m\u001b[1;33m[\u001b[0m\u001b[1;36m3\u001b[0m\u001b[1;33m,\u001b[0m\u001b[1;33m[\u001b[0m\u001b[1;36m56\u001b[0m\u001b[1;33m,\u001b[0m\u001b[1;36m78\u001b[0m\u001b[1;33m]\u001b[0m\u001b[1;33m,\u001b[0m\u001b[1;36m890\u001b[0m\u001b[1;33m,\u001b[0m\u001b[1;33m[\u001b[0m\u001b[1;36m890\u001b[0m\u001b[1;33m,\u001b[0m\u001b[1;36m42\u001b[0m\u001b[1;33m]\u001b[0m\u001b[1;33m]\u001b[0m\u001b[1;33m)\u001b[0m\u001b[1;33m\u001b[0m\u001b[1;33m\u001b[0m\u001b[0m\n",
      "\u001b[1;31mTypeError\u001b[0m: '>' not supported between instances of 'list' and 'int'"
     ]
    }
   ],
   "source": [
    "\n",
    "def largestelement(list1):\n",
    "    \n",
    "    \n",
    "    return max(list1)\n",
    "largestelement([3,[56,78],890,[890,42]])"
   ]
  },
  {
   "cell_type": "code",
   "execution_count": 28,
   "id": "b1e5d56d",
   "metadata": {},
   "outputs": [
    {
     "data": {
      "text/plain": [
       "890"
      ]
     },
     "execution_count": 28,
     "metadata": {},
     "output_type": "execute_result"
    }
   ],
   "source": [
    "\n",
    "def largestelement(list1):\n",
    "    \n",
    "    \n",
    "    return max(list2)\n",
    "largestelement([3,56,78,890,890,42])"
   ]
  },
  {
   "cell_type": "code",
   "execution_count": 29,
   "id": "48ba6292",
   "metadata": {},
   "outputs": [
    {
     "name": "stdout",
     "output_type": "stream",
     "text": [
      "<function largestelement at 0x00000222B0794D30>\n",
      "<function largestelement at 0x00000222B0794D30>\n"
     ]
    },
    {
     "data": {
      "text/plain": [
       "890"
      ]
     },
     "execution_count": 29,
     "metadata": {},
     "output_type": "execute_result"
    }
   ],
   "source": [
    "list2  = []\n",
    "def largestelement(list1):\n",
    "    \n",
    "    for i in list1:\n",
    "        \n",
    "        if type(i) == list:\n",
    "            largestelement(i)\n",
    "            print(largestelement)\n",
    "        else:\n",
    "            list2.append(i)\n",
    "    return max(list2)\n",
    "largestelement([3,[56,78],890,[890,42]])"
   ]
  },
  {
   "cell_type": "markdown",
   "id": "e67091b4",
   "metadata": {},
   "source": [
    "# 7. MINIMUM ELEMENT IN NESTED LIST "
   ]
  },
  {
   "cell_type": "code",
   "execution_count": 31,
   "id": "9f8a36b3",
   "metadata": {},
   "outputs": [
    {
     "data": {
      "text/plain": [
       "3"
      ]
     },
     "execution_count": 31,
     "metadata": {},
     "output_type": "execute_result"
    }
   ],
   "source": [
    "def largestelement(list1):\n",
    "    \n",
    "    for i in list1:\n",
    "        \n",
    "        if type(i) == list:\n",
    "            largestelement(i)\n",
    "            #print(largestelement)\n",
    "        else:\n",
    "            list2.append(i)\n",
    "    return min(list2)\n",
    "largestelement([3,[56,78],890,[890,42]])"
   ]
  },
  {
   "cell_type": "markdown",
   "id": "4886d87b",
   "metadata": {},
   "source": [
    "# 8. SECOND LARGEST ELEMENT"
   ]
  },
  {
   "cell_type": "code",
   "execution_count": 35,
   "id": "4d0e33e3",
   "metadata": {},
   "outputs": [
    {
     "name": "stdout",
     "output_type": "stream",
     "text": [
      "second largest element: 78\n"
     ]
    }
   ],
   "source": [
    "n=[3,56,7689,78,7689,42]\n",
    "\n",
    "largest = n[0]\n",
    "secondlargest = n[1]\n",
    "\n",
    "for i in n:\n",
    "    if i > largest:\n",
    "    \n",
    "        secondlargest = largest\n",
    "\n",
    "        largest =i\n",
    "        \n",
    "        \n",
    "    elif i <largest and i> secondlargest :\n",
    "        \n",
    "        secondlargest = i\n",
    "print('second largest element:',secondlargest)\n",
    "        "
   ]
  },
  {
   "cell_type": "markdown",
   "id": "9231c12c",
   "metadata": {},
   "source": [
    "# 9. ONE PLUS"
   ]
  },
  {
   "cell_type": "code",
   "execution_count": 38,
   "id": "cd81c66c",
   "metadata": {},
   "outputs": [
    {
     "data": {
      "text/plain": [
       "[4, 3, 2, 1]"
      ]
     },
     "execution_count": 38,
     "metadata": {},
     "output_type": "execute_result"
    }
   ],
   "source": [
    "class Solution:\n",
    "    def plusOne(self, digits) :\n",
    "        \n",
    "        if digits[-1] < 9:\n",
    "            digits[-1] += 1\n",
    "            return digits\n",
    "        elif len(digits)== 1 and digits[0] == 9:\n",
    "            return [1,0]\n",
    "       \n",
    "        \n",
    "       \n",
    "        \n",
    "d = Solution()\n",
    "d.plusOne([4,3,2,0])"
   ]
  },
  {
   "cell_type": "code",
   "execution_count": 37,
   "id": "844315fd",
   "metadata": {},
   "outputs": [],
   "source": [
    "class Solution:\n",
    "    def plusOne(self, digits) :\n",
    "        \n",
    "        if digits[-1] < 9:\n",
    "            digits[-1] += 1\n",
    "            return digits\n",
    "        elif len(digits)== 1 and digits[0] == 9:\n",
    "            return [1,0]\n",
    "       \n",
    "        \n",
    "       \n",
    "        \n",
    "d = Solution()\n",
    "d.plusOne([9,9])"
   ]
  },
  {
   "cell_type": "code",
   "execution_count": null,
   "id": "a6b83c9d",
   "metadata": {},
   "outputs": [],
   "source": [
    "NO OUTPUT "
   ]
  },
  {
   "cell_type": "code",
   "execution_count": 39,
   "id": "43228091",
   "metadata": {},
   "outputs": [
    {
     "name": "stdout",
     "output_type": "stream",
     "text": [
      "0\n",
      "[9, 9]\n",
      "0\n",
      "[9]\n",
      "[1, 0]\n",
      "[1, 0, 0]\n"
     ]
    },
    {
     "data": {
      "text/plain": [
       "[1, 0, 0, 0]"
      ]
     },
     "execution_count": 39,
     "metadata": {},
     "output_type": "execute_result"
    }
   ],
   "source": [
    "class Solution:\n",
    "    def plusOne(self, digits) :\n",
    "        \n",
    "        if digits[-1] < 9:\n",
    "            digits[-1] += 1\n",
    "            return digits\n",
    "        elif len(digits)== 1 and digits[0] == 9:\n",
    "            return [1,0]\n",
    "        \n",
    "        else:#this condition is for value 9\n",
    "            #print(digits[-1])\n",
    "            digits[-1] = 0\n",
    "            print(digits[-1])\n",
    "            print(digits[0:-1])\n",
    "            digits[0:-1] = self.plusOne(digits[0:-1])\n",
    "            print(digits[0:-1])\n",
    "            return digits\n",
    "        \n",
    "       \n",
    "        \n",
    "       \n",
    "        \n",
    "d = Solution()\n",
    "d.plusOne([9,9,9])\n",
    "\n"
   ]
  },
  {
   "cell_type": "code",
   "execution_count": 40,
   "id": "fac839cd",
   "metadata": {},
   "outputs": [
    {
     "name": "stdout",
     "output_type": "stream",
     "text": [
      "[3, 4]\n"
     ]
    }
   ],
   "source": [
    "s = [3,4,5]\n",
    "print(s[0:-1])"
   ]
  },
  {
   "cell_type": "code",
   "execution_count": 41,
   "id": "6c8946a6",
   "metadata": {},
   "outputs": [
    {
     "name": "stdout",
     "output_type": "stream",
     "text": [
      "[3, 4, 5]\n"
     ]
    }
   ],
   "source": [
    "s = [3,4,5,6]\n",
    "print(s[0:-1])"
   ]
  },
  {
   "cell_type": "markdown",
   "id": "ee1e91d5",
   "metadata": {},
   "source": [
    "# 10. MULTIPLE OF STRINGS"
   ]
  },
  {
   "cell_type": "code",
   "execution_count": 56,
   "id": "f1e915da",
   "metadata": {},
   "outputs": [
    {
     "name": "stdout",
     "output_type": "stream",
     "text": [
      "a b c aa bb aaa "
     ]
    }
   ],
   "source": [
    "s = 'abcaba'\n",
    "dicts = {}\n",
    "for i in s:\n",
    "    if i not in dicts:\n",
    "        dicts[i]=1\n",
    "        print(i,end=' ')\n",
    "    else:\n",
    "        dicts[i] +=1\n",
    "        print(i*dicts[i],end =' ')"
   ]
  },
  {
   "cell_type": "markdown",
   "id": "02ff8e6f",
   "metadata": {},
   "source": [
    "# 11. ARMSTRONG NO FROM 1 T0 1000"
   ]
  },
  {
   "cell_type": "code",
   "execution_count": null,
   "id": "701deffd",
   "metadata": {},
   "outputs": [],
   "source": [
    "numbers of n digits which are equal to sum of nth power of its digits.\n",
    "\n",
    "n= 2\n",
    "27\n",
    "2^2 + 7 ^2 = 4 +49 = 53\n",
    "\n",
    "153 \n",
    "n = 3 due to 3 digits\n",
    "\n",
    "1^3 + 5^3 + 3^3 = 3 + 125+27 = 153 is an armstrong\n",
    "\n"
   ]
  },
  {
   "cell_type": "code",
   "execution_count": 58,
   "id": "95744d00",
   "metadata": {},
   "outputs": [
    {
     "name": "stdout",
     "output_type": "stream",
     "text": [
      "1 2 3 4 5 6 7 8 9 153 370 371 407 "
     ]
    }
   ],
   "source": [
    "for i in range(1,1001):\n",
    "    l = len(str(i))\n",
    "    sums = 0\n",
    "    for digit in str(i):\n",
    "        #print(digit)\n",
    "        arm = int(digit)%10\n",
    "        \n",
    "        \n",
    "        r = int(arm)**l\n",
    "        \n",
    "        sums = sums+r\n",
    "    if i == sums:\n",
    "        print(sums,end =\" \")\n",
    "    \n",
    "\n"
   ]
  },
  {
   "cell_type": "code",
   "execution_count": 60,
   "id": "74a5d93c",
   "metadata": {},
   "outputs": [
    {
     "name": "stdout",
     "output_type": "stream",
     "text": [
      "1 2 3 4 5 6 7 8 9 153 370 371 407 "
     ]
    }
   ],
   "source": [
    "\n",
    "\n",
    "for i in range(1,1001):\n",
    "    l = len(str(i))\n",
    "    sums = 0\n",
    "    for digit in str(i):\n",
    "        #print(digit)\n",
    "        arm = int(digit)\n",
    "        \n",
    "        \n",
    "        r = int(arm)**l\n",
    "        \n",
    "        sums = sums+r\n",
    "    if i == sums:\n",
    "        print(sums,end=\" \")\n",
    "    \n"
   ]
  },
  {
   "cell_type": "code",
   "execution_count": 68,
   "id": "e4e7c260",
   "metadata": {},
   "outputs": [
    {
     "name": "stdout",
     "output_type": "stream",
     "text": [
      "enter the no371\n",
      "371 is an amstrong..\n"
     ]
    }
   ],
   "source": [
    "\n",
    "\n",
    "n = int(input('enter the no'))\n",
    "l = len(str(n))\n",
    "temp = n\n",
    "\n",
    "i=0\n",
    "r=0\n",
    "while n!=0:\n",
    "    s= n%10\n",
    "    #print(s)\n",
    "    \n",
    "    \n",
    "    n = n//10\n",
    "    r = r+s**l\n",
    "if  temp == r:\n",
    "    print(r,\"is an amstrong..\")\n",
    "else:\n",
    "    print(temp,\"is not an amstrong..\")\n",
    "\n"
   ]
  },
  {
   "cell_type": "code",
   "execution_count": 73,
   "id": "51e35eee",
   "metadata": {},
   "outputs": [
    {
     "name": "stdout",
     "output_type": "stream",
     "text": [
      "1\n"
     ]
    }
   ],
   "source": [
    "n = 371\n",
    "s = n%10\n",
    "print(s)\n"
   ]
  },
  {
   "cell_type": "code",
   "execution_count": 74,
   "id": "16057010",
   "metadata": {},
   "outputs": [
    {
     "name": "stdout",
     "output_type": "stream",
     "text": [
      "7\n"
     ]
    }
   ],
   "source": [
    "n = 37\n",
    "s = n%10\n",
    "print(s)"
   ]
  },
  {
   "cell_type": "code",
   "execution_count": null,
   "id": "168ae9d2",
   "metadata": {},
   "outputs": [],
   "source": [
    "r= r + s ** 3(len)\n",
    "r = 0 + 1 = 1\n",
    "r= 1 + 343\n",
    "r = 344 + 27 = 371 which is amstrong"
   ]
  },
  {
   "cell_type": "markdown",
   "id": "a7dcc69e",
   "metadata": {},
   "source": [
    "# 12. TO FIND LENGTH"
   ]
  },
  {
   "cell_type": "code",
   "execution_count": 76,
   "id": "edbd4d68",
   "metadata": {},
   "outputs": [
    {
     "name": "stdout",
     "output_type": "stream",
     "text": [
      "4\n"
     ]
    }
   ],
   "source": [
    "n = 1530\n",
    "i=0\n",
    "while n!=0:\n",
    "    n = n//10\n",
    "    \n",
    "    i = i+1\n",
    "print(i)"
   ]
  },
  {
   "cell_type": "code",
   "execution_count": 81,
   "id": "e32bc799",
   "metadata": {},
   "outputs": [
    {
     "name": "stdout",
     "output_type": "stream",
     "text": [
      "4\n"
     ]
    }
   ],
   "source": [
    "n = 1530\n",
    "l = len(str(n))\n",
    "for i in range(l):\n",
    "    s = n%10\n",
    "    \n",
    "    \n",
    "    i=i+1\n",
    "    \n",
    "print(i)"
   ]
  },
  {
   "cell_type": "code",
   "execution_count": 79,
   "id": "afaa65d6",
   "metadata": {},
   "outputs": [
    {
     "name": "stdout",
     "output_type": "stream",
     "text": [
      "s =  0\n",
      "n =  153\n",
      "s =  3\n",
      "n =  15\n",
      "s =  5\n",
      "n =  1\n",
      "s =  1\n",
      "n =  0\n"
     ]
    }
   ],
   "source": [
    "n = 1530\n",
    "l = len(str(n))\n",
    "for i in range(l):\n",
    "    s = n%10\n",
    "    \n",
    "    print('s = ',s)\n",
    "    n= n//10\n",
    "    print('n = ',n)"
   ]
  },
  {
   "cell_type": "markdown",
   "id": "54a818b6",
   "metadata": {},
   "source": [
    "# 13. PRIME OR NOT PRIME NUMBER"
   ]
  },
  {
   "cell_type": "code",
   "execution_count": 82,
   "id": "365d05a4",
   "metadata": {},
   "outputs": [
    {
     "name": "stdout",
     "output_type": "stream",
     "text": [
      "Enter the number34\n",
      "not prime\n"
     ]
    }
   ],
   "source": [
    "a = int(input(\"Enter the number\"))\n",
    "if a>1:\n",
    "    for x in range(2,a):\n",
    "        if(a%x)==0:\n",
    "            print(\"not prime\")\n",
    "            break\n",
    "        else:\n",
    "            print(\"prime\")\n",
    "            break\n",
    "else:\n",
    "    print(\"not prime\")"
   ]
  },
  {
   "cell_type": "markdown",
   "id": "fb1e155b",
   "metadata": {},
   "source": [
    "# 14.FIBONACCI SERIES"
   ]
  },
  {
   "cell_type": "code",
   "execution_count": 84,
   "id": "4cfc1ff5",
   "metadata": {},
   "outputs": [
    {
     "name": "stdout",
     "output_type": "stream",
     "text": [
      "21\n"
     ]
    }
   ],
   "source": [
    "fibonacci_cache  = {}\n",
    "def fibonacci(n):\n",
    "    \n",
    "    #if we have cached the value,then return it \n",
    "    if n in fibonacci_cache:\n",
    "        return fibonacci_cache[n]\n",
    "    \n",
    "    #check whether input is positive\n",
    "    \n",
    "    if type(n) != int:\n",
    "        \n",
    "        raise TypeError('n must be a positive int')\n",
    "        \n",
    "    if n<1:\n",
    "        raise ValueError('n must be a positive int')\n",
    "    \n",
    "    #compute the nth term\n",
    "    if n ==0:\n",
    "        return 0\n",
    "    \n",
    "    if n == 1:\n",
    "        return 1\n",
    "    if n == 2:\n",
    "        return 1\n",
    "    elif n>= 2:\n",
    "        value =  fibonacci(n-1) + fibonacci(n-2)#calling the function by itself\n",
    "    \n",
    "    #cache the value and return it\n",
    "    fibonacci_cache[n] = value\n",
    "    return value\n",
    "\n",
    "print(fibonacci(8))"
   ]
  },
  {
   "cell_type": "markdown",
   "id": "4a3014d9",
   "metadata": {},
   "source": [
    "# 15.sum of arrays"
   ]
  },
  {
   "cell_type": "code",
   "execution_count": 88,
   "id": "5a1adab0",
   "metadata": {},
   "outputs": [
    {
     "name": "stdout",
     "output_type": "stream",
     "text": [
      "Enter the number to sum:10\n",
      "55\n"
     ]
    }
   ],
   "source": [
    "n = int(input(\"Enter the number to sum:\"))\n",
    "sum = 0\n",
    "for i in range(1,n+1):\n",
    "    sum = sum + i\n",
    "print(sum)"
   ]
  },
  {
   "cell_type": "code",
   "execution_count": 90,
   "id": "1cb1902d",
   "metadata": {},
   "outputs": [
    {
     "name": "stdout",
     "output_type": "stream",
     "text": [
      "75\n",
      "150\n",
      "145\n"
     ]
    }
   ],
   "source": [
    "numbers = [12, 75, 150, 180, 145, 525, 50]\n",
    "\n",
    "for i in numbers:\n",
    "    \n",
    "    if i%5 ==0 and i <= 150:\n",
    "        \n",
    "        print(i)\n",
    "        \n",
    "    elif i > 500 :\n",
    "        break\n",
    "    \n",
    "    "
   ]
  },
  {
   "cell_type": "markdown",
   "id": "538905b3",
   "metadata": {},
   "source": [
    "# 16. REVERSE INTEGER"
   ]
  },
  {
   "cell_type": "code",
   "execution_count": 92,
   "id": "17d28fc3",
   "metadata": {},
   "outputs": [
    {
     "name": "stdout",
     "output_type": "stream",
     "text": [
      "[50, 40, 30, 20, 10]\n"
     ]
    }
   ],
   "source": [
    "list1 = [10, 20, 30, 40, 50]\n",
    "\n",
    "size = len(list1)-1\n",
    "res = []\n",
    "\n",
    "for i in range(size,-1,-1):\n",
    "    \n",
    "    res.append(list1[i])\n",
    "print(res)"
   ]
  },
  {
   "cell_type": "markdown",
   "id": "c30adbcd",
   "metadata": {},
   "source": [
    "# 17.Display numbers from -10 to -1 using for loop"
   ]
  },
  {
   "cell_type": "code",
   "execution_count": 96,
   "id": "fe2b338a",
   "metadata": {},
   "outputs": [
    {
     "name": "stdout",
     "output_type": "stream",
     "text": [
      "-10 -9 -8 -7 -6 -5 -4 -3 -2 -1 "
     ]
    }
   ],
   "source": [
    "for i in range(-10,0):\n",
    "    print(i,end = \" \")"
   ]
  },
  {
   "cell_type": "markdown",
   "id": "ac893885",
   "metadata": {},
   "source": [
    "# 18. PRIME NUMBER WITHIN RANGE\n"
   ]
  },
  {
   "cell_type": "code",
   "execution_count": 102,
   "id": "903a0702",
   "metadata": {},
   "outputs": [
    {
     "name": "stdout",
     "output_type": "stream",
     "text": [
      "29 31 37 41 43 47 "
     ]
    }
   ],
   "source": [
    "start = 25\n",
    "end = 50\n",
    "for num in range(start,end):\n",
    "    if num >1:\n",
    "        for i in range(2,num):\n",
    "            \n",
    "            if num%i == 0:\n",
    "                break\n",
    "            \n",
    "        else:\n",
    "            print(num,end = \" \")"
   ]
  },
  {
   "cell_type": "markdown",
   "id": "b1d55c5c",
   "metadata": {},
   "source": [
    "# 19.Display Fibonacci series up to 10 terms"
   ]
  },
  {
   "cell_type": "code",
   "execution_count": 103,
   "id": "a4a07972",
   "metadata": {},
   "outputs": [
    {
     "name": "stdout",
     "output_type": "stream",
     "text": [
      "0 1 1 2 3 5 8 13 21 34 "
     ]
    }
   ],
   "source": [
    "num1 = 0\n",
    "num2=1\n",
    "\n",
    "for i in range(10):\n",
    "    \n",
    "    print(num1,end = \" \")\n",
    "    \n",
    "    res = num1 + num2\n",
    "    \n",
    "    num1 = num2\n",
    "    num2 = res"
   ]
  },
  {
   "cell_type": "markdown",
   "id": "b0f8d963",
   "metadata": {},
   "source": [
    "# 20.Find the factorial of a given number"
   ]
  },
  {
   "cell_type": "code",
   "execution_count": 106,
   "id": "e0fbb677",
   "metadata": {},
   "outputs": [
    {
     "name": "stdout",
     "output_type": "stream",
     "text": [
      "The factorial of 5 is 120\n"
     ]
    }
   ],
   "source": [
    "num = 5\n",
    "factorial = 1\n",
    "if num < 0:\n",
    "    print(\"Factorial does not exist for negative numbers\")\n",
    "elif num == 0:\n",
    "    print(\"The factorial of 0 is 1\")\n",
    "    \n",
    "else:\n",
    "    \n",
    "    for i in range(1,num+1):#dont use just range(num) you get zero due to multiply\n",
    "        \n",
    "        factorial = factorial * i\n",
    "        \n",
    "    print(\"The factorial of\", num, \"is\", factorial)"
   ]
  },
  {
   "cell_type": "markdown",
   "id": "da1af87a",
   "metadata": {},
   "source": [
    "# 21.Reverse a given integer number"
   ]
  },
  {
   "cell_type": "code",
   "execution_count": 107,
   "id": "515ecb9c",
   "metadata": {},
   "outputs": [
    {
     "name": "stdout",
     "output_type": "stream",
     "text": [
      "Given Number  76542\n",
      "Revere Number  24567\n"
     ]
    }
   ],
   "source": [
    "num = 76542\n",
    "reverse_number = 0\n",
    "print(\"Given Number \", num)\n",
    "while num > 0:\n",
    "    reminder = num % 10\n",
    "    reverse_number = (reverse_number * 10) + reminder\n",
    "    num = num // 10\n",
    "print(\"Revere Number \", reverse_number)"
   ]
  },
  {
   "cell_type": "markdown",
   "id": "9f47082a",
   "metadata": {},
   "source": [
    "# 22. Find the sum of the series upto n terms"
   ]
  },
  {
   "cell_type": "code",
   "execution_count": 108,
   "id": "b4df7a65",
   "metadata": {},
   "outputs": [
    {
     "name": "stdout",
     "output_type": "stream",
     "text": [
      "2+22+222+2222+22222+\n",
      "Sum of above series is: 24690\n"
     ]
    }
   ],
   "source": [
    "n = 5\n",
    "# first number of sequence\n",
    "start = 2\n",
    "sum_seq = 0\n",
    "\n",
    "# run loop n times\n",
    "for i in range(0, n):\n",
    "    print(start, end=\"+\")\n",
    "    sum_seq += start\n",
    "    # calculate the next term\n",
    "    start = start * 10 + 2\n",
    "print(\"\\nSum of above series is:\", sum_seq)"
   ]
  },
  {
   "cell_type": "code",
   "execution_count": 109,
   "id": "032dd0ce",
   "metadata": {},
   "outputs": [
    {
     "name": "stdout",
     "output_type": "stream",
     "text": [
      "24690\n"
     ]
    }
   ],
   "source": [
    "print(2+22+222+2222+22222)"
   ]
  },
  {
   "cell_type": "markdown",
   "id": "86a6b7fa",
   "metadata": {},
   "source": [
    "# 23.  Convert two lists into a dictionary"
   ]
  },
  {
   "cell_type": "code",
   "execution_count": null,
   "id": "91207991",
   "metadata": {},
   "outputs": [],
   "source": [
    " 1: The zip() function and a dict() constructor\n",
    "\n",
    "    Use the zip(keys, values) to aggregate two lists.\n",
    "    Wrap the result of a zip() function into a dict() constructor.\n"
   ]
  },
  {
   "cell_type": "code",
   "execution_count": 113,
   "id": "6befe940",
   "metadata": {},
   "outputs": [
    {
     "name": "stdout",
     "output_type": "stream",
     "text": [
      "{'Ten': 10, 'Twenty': 20, 'Thirty': 30}\n"
     ]
    }
   ],
   "source": [
    "keys = ['Ten', 'Twenty', 'Thirty']\n",
    "values = [10, 20, 30]\n",
    "\n",
    "res_dict = dict(zip(keys, values))\n",
    "print(res_dict)\n"
   ]
  },
  {
   "cell_type": "code",
   "execution_count": 112,
   "id": "436650af",
   "metadata": {},
   "outputs": [],
   "source": [
    "#Solution 2: Using a loop and update() method of a dictionary\n"
   ]
  },
  {
   "cell_type": "code",
   "execution_count": 114,
   "id": "e5f73f8a",
   "metadata": {},
   "outputs": [
    {
     "name": "stdout",
     "output_type": "stream",
     "text": [
      "{'Ten': 10, 'Twenty': 20, 'Thirty': 30}\n"
     ]
    }
   ],
   "source": [
    "keys = ['Ten', 'Twenty', 'Thirty']\n",
    "values = [10, 20, 30]\n",
    "\n",
    "# empty dictionary\n",
    "res_dict = dict()\n",
    "\n",
    "for i in range(len(keys)):\n",
    "    res_dict.update({keys[i]: values[i]})\n",
    "print(res_dict)"
   ]
  },
  {
   "cell_type": "markdown",
   "id": "b361bb5c",
   "metadata": {},
   "source": [
    "# 24. Merge two Python dictionaries into one"
   ]
  },
  {
   "cell_type": "code",
   "execution_count": 115,
   "id": "4959cccd",
   "metadata": {},
   "outputs": [
    {
     "name": "stdout",
     "output_type": "stream",
     "text": [
      "{'Ten': 10, 'Twenty': 20, 'Thirty': 30, 'Fourty': 40, 'Fifty': 50}\n"
     ]
    }
   ],
   "source": [
    "dict1 = {'Ten': 10, 'Twenty': 20, 'Thirty': 30}\n",
    "dict2 = {'Thirty': 30, 'Fourty': 40, 'Fifty': 50}\n",
    "\n",
    "dict3 = {**dict1, **dict2}\n",
    "print(dict3)"
   ]
  },
  {
   "cell_type": "code",
   "execution_count": 116,
   "id": "c83f5cbe",
   "metadata": {},
   "outputs": [
    {
     "name": "stdout",
     "output_type": "stream",
     "text": [
      "{'Ten': 10, 'Twenty': 20, 'Thirty': 30, 'Fourty': 40, 'Fifty': 50}\n"
     ]
    }
   ],
   "source": [
    "dict1 = {'Ten': 10, 'Twenty': 20, 'Thirty': 30}\n",
    "dict2 = {'Thirty': 30, 'Fourty': 40, 'Fifty': 50}\n",
    "\n",
    "dict3 = dict1.copy()\n",
    "dict3.update(dict2)\n",
    "print(dict3)"
   ]
  },
  {
   "cell_type": "markdown",
   "id": "3685da4a",
   "metadata": {},
   "source": [
    "# 25.Print the value of key ‘history’ from the below dict"
   ]
  },
  {
   "cell_type": "code",
   "execution_count": null,
   "id": "9a1776d1",
   "metadata": {},
   "outputs": [],
   "source": [
    "Print the value of key ‘history’ from the below dict\n",
    "\n",
    "sampleDict = {\n",
    "    \"class\": {\n",
    "        \"student\": {\n",
    "            \"name\": \"Mike\",\n",
    "            \"marks\": {\n",
    "                \"physics\": 70,\n",
    "                \"history\": 80\n",
    "            }\n",
    "        }\n",
    "    }\n",
    "}\n"
   ]
  },
  {
   "cell_type": "code",
   "execution_count": 118,
   "id": "13b72b83",
   "metadata": {},
   "outputs": [],
   "source": [
    "sampleDict = {\n",
    "    \"class\": {\n",
    "        \"student\": {\n",
    "            \"name\": \"Mike\",\n",
    "            \"marks\": {\n",
    "                \"physics\": 70,\n",
    "                \"history\": 80\n",
    "            }\n",
    "        }\n",
    "    }\n",
    "}\n"
   ]
  },
  {
   "cell_type": "code",
   "execution_count": 121,
   "id": "163ebcf0",
   "metadata": {},
   "outputs": [
    {
     "name": "stdout",
     "output_type": "stream",
     "text": [
      "80\n"
     ]
    }
   ],
   "source": [
    "print(sampleDict['class']['student']['marks']['history'])"
   ]
  },
  {
   "cell_type": "markdown",
   "id": "7c5d5628",
   "metadata": {},
   "source": [
    "# 26.Initialize dictionary with default values"
   ]
  },
  {
   "cell_type": "markdown",
   "id": "778165db",
   "metadata": {},
   "source": [
    "# The fromkeys() method returns a dictionary with the specified keys and the specified value.\n"
   ]
  },
  {
   "cell_type": "code",
   "execution_count": 122,
   "id": "cc23a4fb",
   "metadata": {},
   "outputs": [
    {
     "name": "stdout",
     "output_type": "stream",
     "text": [
      "{'Kelly': {'designation': 'Developer', 'salary': 8000}, 'Emma': {'designation': 'Developer', 'salary': 8000}}\n",
      "{'designation': 'Developer', 'salary': 8000}\n"
     ]
    }
   ],
   "source": [
    "employees = ['Kelly', 'Emma']\n",
    "defaults = {\"designation\": 'Developer', \"salary\": 8000}\n",
    "\n",
    "res = dict.fromkeys(employees, defaults)\n",
    "print(res)\n",
    "\n",
    "# Individual data\n",
    "print(res[\"Kelly\"])\n"
   ]
  }
 ],
 "metadata": {
  "kernelspec": {
   "display_name": "Python 3 (ipykernel)",
   "language": "python",
   "name": "python3"
  },
  "language_info": {
   "codemirror_mode": {
    "name": "ipython",
    "version": 3
   },
   "file_extension": ".py",
   "mimetype": "text/x-python",
   "name": "python",
   "nbconvert_exporter": "python",
   "pygments_lexer": "ipython3",
   "version": "3.9.13"
  }
 },
 "nbformat": 4,
 "nbformat_minor": 5
}
