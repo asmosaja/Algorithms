{
 "cells": [
  {
   "cell_type": "code",
   "execution_count": null,
   "id": "7f907f93",
   "metadata": {},
   "outputs": [],
   "source": [
    "Given an array nums of size n, return the majority element.\n",
    "\n",
    "The majority element is the element that appears more than ⌊n / 2⌋ times. You may assume that the majority element always exists in the array.\n",
    "\n",
    " \n",
    "\n",
    "Example 1:\n",
    "\n",
    "Input: nums = [3,2,3]\n",
    "Output: 3\n",
    "\n",
    "Example 2:\n",
    "\n",
    "Input: nums = [2,2,1,1,1,2,2]\n",
    "Output: 2\n",
    "\n",
    " \n",
    "\n",
    "Constraints:\n",
    "\n",
    "    n == nums.length\n",
    "    1 <= n <= 5 * 104\n",
    "    -109 <= nums[i] <= 109\n",
    "\n",
    " \n",
    "Follow-up: Could you solve the problem in linear time and in O(1) space?"
   ]
  },
  {
   "cell_type": "code",
   "execution_count": null,
   "id": "881e6044",
   "metadata": {},
   "outputs": [],
   "source": [
    "Python | O(n) time & O(1) space | Simple Solution With Explanation"
   ]
  },
  {
   "cell_type": "code",
   "execution_count": null,
   "id": "c2cd568c",
   "metadata": {},
   "outputs": [],
   "source": [
    " \"\"\"\n",
    "            Since the count of majority element will be atleast n//2 + 1 therefore, \n",
    "            if we make a number as majorityElement and keep on incrementing the count if we encounter that element again and decrement the count if any other element is encountered then the majority element will have atleast 1 in count. Whenever the count becomes 0, reinitialise the majority element with current number.\n",
    "            For example, nums = [2,2,1,1,1,2,2]\n",
    "            Let's say majorityElement is 2 therefore count will be 1.\n",
    "            Nove move ahead and again 2 is encountered so count will be incremented and become 2.\n",
    "            Now 1 is encountered so count will be decremented and become 1\n",
    "            Now again 1 is encountered so count will be decremented and become 0\n",
    "            Now 1 is encountered but count is 0 so initialize 1 as majority element and count to 1 again.\n",
    "            Now 2 is encountered so count will be decremented and become 0\n",
    "            Now again 2 is encountered but count is 0 so initialize 2 as majority element and count to 1 again.\n",
    "            Now no more elements are left so just return the majprity element.\n",
    "        \"\"\""
   ]
  },
  {
   "cell_type": "code",
   "execution_count": 2,
   "id": "9994dab1",
   "metadata": {},
   "outputs": [
    {
     "data": {
      "text/plain": [
       "1"
      ]
     },
     "execution_count": 2,
     "metadata": {},
     "output_type": "execute_result"
    }
   ],
   "source": [
    "class Solution(object):\n",
    "    def majorityElement(self, nums):\n",
    "        \"\"\"\n",
    "        :type nums: List[int]\n",
    "        :rtype: int\n",
    "        \"\"\"\n",
    "        \n",
    "        count = 0\n",
    "        majorelement = 0\n",
    "        \n",
    "        for i in nums:\n",
    "            if count == 0 :\n",
    "                majorelement = i\n",
    "            \n",
    "            count +=1 if majorelement == i else -1\n",
    "        return majorelement\n",
    "s = Solution()\n",
    "s.majorityElement([1,1,1,1,2,2,2])"
   ]
  },
  {
   "cell_type": "code",
   "execution_count": 12,
   "id": "c4dda9bb",
   "metadata": {},
   "outputs": [
    {
     "data": {
      "text/plain": [
       "2"
      ]
     },
     "execution_count": 12,
     "metadata": {},
     "output_type": "execute_result"
    }
   ],
   "source": [
    "\n",
    "s.majorityElement([1,1,3,3,2,2])"
   ]
  },
  {
   "cell_type": "code",
   "execution_count": 14,
   "id": "b6d51c25",
   "metadata": {},
   "outputs": [
    {
     "data": {
      "text/plain": [
       "3"
      ]
     },
     "execution_count": 14,
     "metadata": {},
     "output_type": "execute_result"
    }
   ],
   "source": [
    "s.majorityElement([1,1,3,3,3])"
   ]
  },
  {
   "cell_type": "code",
   "execution_count": 6,
   "id": "f7384cec",
   "metadata": {},
   "outputs": [
    {
     "data": {
      "text/plain": [
       "7"
      ]
     },
     "execution_count": 6,
     "metadata": {},
     "output_type": "execute_result"
    }
   ],
   "source": [
    "s.majorityElement([1,3,3,7,7])"
   ]
  },
  {
   "cell_type": "code",
   "execution_count": 5,
   "id": "5f428dc6",
   "metadata": {},
   "outputs": [
    {
     "data": {
      "text/plain": [
       "5"
      ]
     },
     "execution_count": 5,
     "metadata": {},
     "output_type": "execute_result"
    }
   ],
   "source": [
    "s.majorityElement([7,1,3,3,7,7,5])"
   ]
  },
  {
   "cell_type": "markdown",
   "id": "7ccc0ff2",
   "metadata": {},
   "source": [
    "# 229. Majority Element II"
   ]
  },
  {
   "cell_type": "code",
   "execution_count": null,
   "id": "5645abc1",
   "metadata": {},
   "outputs": [],
   "source": [
    "Given an integer array of size n, find all elements that appear more than ⌊ n/3 ⌋ times.\n",
    "\n",
    " \n",
    "\n",
    "Example 1:\n",
    "\n",
    "Input: nums = [3,2,3]\n",
    "Output: [3]\n",
    "\n",
    "Example 2:\n",
    "\n",
    "Input: nums = [1]\n",
    "Output: [1]\n",
    "\n",
    "Example 3:\n",
    "\n",
    "Input: nums = [1,2]\n",
    "Output: [1,2]\n",
    "\n",
    "Constraints:\n",
    "\n",
    "    1 <= nums.length <= 5 * 104\n",
    "    -109 <= nums[i] <= 109\n",
    "\n",
    " \n",
    "\n",
    "Follow up: Could you solve the problem in linear time and in O(1) space?\n"
   ]
  },
  {
   "cell_type": "code",
   "execution_count": 22,
   "id": "c98f8615",
   "metadata": {},
   "outputs": [
    {
     "data": {
      "text/plain": [
       "1"
      ]
     },
     "execution_count": 22,
     "metadata": {},
     "output_type": "execute_result"
    }
   ],
   "source": [
    "class Solution(object):\n",
    "    def majorityElement(self, nums):\n",
    "        \"\"\"\n",
    "        :type nums: List[int]\n",
    "        :rtype: int\n",
    "        \"\"\"\n",
    "        \n",
    "        count = 0\n",
    "        majorelement = 0\n",
    "        \n",
    "        for i in nums:\n",
    "            if count == 0 :\n",
    "                majorelement = i\n",
    "                \n",
    "               \n",
    "                    \n",
    "                    \n",
    "            \n",
    "            count +=1 if majorelement == i else -1\n",
    "        return majorelement\n",
    "s = Solution()\n",
    "s.majorityElement([1,2])"
   ]
  },
  {
   "cell_type": "code",
   "execution_count": null,
   "id": "46c2b7be",
   "metadata": {},
   "outputs": [],
   "source": []
  }
 ],
 "metadata": {
  "kernelspec": {
   "display_name": "base",
   "language": "python",
   "name": "python3"
  },
  "language_info": {
   "codemirror_mode": {
    "name": "ipython",
    "version": 3
   },
   "file_extension": ".py",
   "mimetype": "text/x-python",
   "name": "python",
   "nbconvert_exporter": "python",
   "pygments_lexer": "ipython3",
   "version": "3.9.13 (main, Aug 25 2022, 23:51:50) [MSC v.1916 64 bit (AMD64)]"
  },
  "vscode": {
   "interpreter": {
    "hash": "b09ec625f77bf4fd762565a912b97636504ad6ec901eb2d0f4cf5a7de23e1ee5"
   }
  }
 },
 "nbformat": 4,
 "nbformat_minor": 5
}
