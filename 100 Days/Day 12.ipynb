{
 "cells": [
  {
   "cell_type": "code",
   "execution_count": 2,
   "id": "20c78c1b-18d3-419a-957b-78475f3820cc",
   "metadata": {},
   "outputs": [
    {
     "name": "stdout",
     "output_type": "stream",
     "text": [
      "[4, 5]\n"
     ]
    }
   ],
   "source": [
    "nums = [1,2,3,4,4,5]\n",
    "for i , n in enumerate(nums):\n",
    "    if nums[i] == nums[i-1]:\n",
    "        if len(nums[i:]) <3:\n",
    "            print(nums[i:])"
   ]
  },
  {
   "cell_type": "code",
   "execution_count": null,
   "id": "938fbbd1",
   "metadata": {},
   "outputs": [],
   "source": [
    "valid Anagram question"
   ]
  },
  {
   "cell_type": "code",
   "execution_count": null,
   "id": "fa9a0ba4",
   "metadata": {},
   "outputs": [],
   "source": []
  },
  {
   "cell_type": "code",
   "execution_count": 14,
   "id": "3fc2acda-dbe6-4287-a725-3c6b1706f9e2",
   "metadata": {},
   "outputs": [
    {
     "data": {
      "text/plain": [
       "'class Solution:  # Time: O(nlogn) and Space: O(1)\\n    def isAnagram(self, s: str, t: str) -> bool:\\n        return sorted(s) == sorted(t)\\n\\n#Built-In: Counter Function\\n\\nclass Solution: # Time: O(n) and Space: O(n)\\n    def isAnagram(self, s: str, t: str) -> bool:\\n        return Counter(s) == Counter(t)'"
      ]
     },
     "execution_count": 14,
     "metadata": {},
     "output_type": "execute_result"
    }
   ],
   "source": [
    "class Solution:\n",
    "    def isAnagram(self, s: str, t: str) -> bool:\n",
    "         \n",
    "        if len(s) != len(t):     # when the lengths are different then there is no way it can ever be an Anagram\n",
    "            return False\n",
    "        \n",
    "        countS, countT = {}, {}  # character's are key: occurences are values \n",
    "        \n",
    "        for i in range(len(s)):\n",
    "            countS[s[i]] = 1 + countS.get(s[i], 0)  # get previous occurences, if it's first time get 0\n",
    "            print(countS)\n",
    "            countT[t[i]] = 1 + countT.get(t[i], 0)  # countT[t[0]=n] = 1 + countT.get(t[0]=n = Null, 0)=0 = 1\n",
    "            \n",
    "        for j in countS: \n",
    "            print(j)\n",
    "            if countS[j] != countT.get(j, 0):  # if the number of occurences of char j is not same in both the hashmaps then it is not valid\n",
    "                return False\n",
    "        return True  # when the for loop ends means every key's and value are same \n",
    "\n",
    "#Built-In: Sorted Function\n",
    "\n",
    "'''class Solution:  # Time: O(nlogn) and Space: O(1)\n",
    "    def isAnagram(self, s: str, t: str) -> bool:\n",
    "        return sorted(s) == sorted(t)\n",
    "\n",
    "#Built-In: Counter Function\n",
    "\n",
    "class Solution: # Time: O(n) and Space: O(n)\n",
    "    def isAnagram(self, s: str, t: str) -> bool:\n",
    "        return Counter(s) == Counter(t)'''\n",
    "\n",
    "        "
   ]
  },
  {
   "cell_type": "code",
   "execution_count": 10,
   "id": "1be0f4fd",
   "metadata": {},
   "outputs": [
    {
     "name": "stdout",
     "output_type": "stream",
     "text": [
      "{'a': 1, 'n': 1, 'g': 1, 'r': 1, 'm': 1}\n"
     ]
    }
   ],
   "source": [
    "s = \"anagram\"\n",
    "t = \"nagaram\"\n",
    "\n",
    "countS, countT = {}, {}  # character's are key: occurences are values \n",
    "        \n",
    "for i in range(len(s)):\n",
    "    if s in countS:\n",
    "        countS[s[i]] = 1\n",
    "    countS[s[i]] = 1\n",
    "    \n",
    "print(countS)\n"
   ]
  },
  {
   "cell_type": "code",
   "execution_count": 12,
   "id": "06010767",
   "metadata": {},
   "outputs": [
    {
     "name": "stdout",
     "output_type": "stream",
     "text": [
      "{'a': 3, 'n': 1, 'g': 1, 'r': 1, 'm': 1}\n"
     ]
    }
   ],
   "source": [
    "\n",
    "\n",
    "countS, countT = {}, {}   \n",
    "        \n",
    "for i in range(len(s)):\n",
    "    countS[s[i]] = 1 + countS.get(s[i], 0)  \n",
    "    \n",
    "    countT[t[i]] = 1 + countT.get(t[i], 0)\n",
    "print(countS)"
   ]
  },
  {
   "cell_type": "code",
   "execution_count": 13,
   "id": "dcc9343b",
   "metadata": {},
   "outputs": [
    {
     "name": "stdout",
     "output_type": "stream",
     "text": [
      "{'a': 0, 'n': 0, 'g': 0, 'r': 0, 'm': 0}\n"
     ]
    }
   ],
   "source": [
    "countS, countT = {}, {}   \n",
    "        \n",
    "for i in range(len(s)):\n",
    "    countS[s[i]] =  countS.get(s[i], 0)  \n",
    "    \n",
    "    countT[t[i]] =  countT.get(t[i], 0)\n",
    "print(countS)"
   ]
  },
  {
   "cell_type": "code",
   "execution_count": 22,
   "id": "dfb1f1cf",
   "metadata": {},
   "outputs": [
    {
     "name": "stdout",
     "output_type": "stream",
     "text": [
      "{'a': 3, 'n': 1, 'g': 1, 'r': 1, 'm': 1}\n"
     ]
    }
   ],
   "source": [
    "countS, countT = {}, {}   \n",
    "        \n",
    "for i in range(len(s)):\n",
    "    countS[s[i]] = 1+ countS.get(s[i], 0)  \n",
    "    \n",
    "    countT[t[i]] = 1+ countT.get(t[i], 0)\n",
    "print(countS)"
   ]
  },
  {
   "cell_type": "code",
   "execution_count": 29,
   "id": "885e5747",
   "metadata": {},
   "outputs": [
    {
     "name": "stdout",
     "output_type": "stream",
     "text": [
      "3\n",
      "1\n",
      "1\n",
      "1\n",
      "1\n"
     ]
    }
   ],
   "source": [
    "for j in countS: \n",
    "    #print(j)\n",
    "    #print(countS)\n",
    "    #print(countS[j])\n",
    "    if countS[j] == countT[j]: #dont follow this because if car == tar this is not correct\n",
    "        # eventhough we have the same value but different char \n",
    "        # so you have to write like countS[j] == countT(j,0)\n",
    "        #print(countS[j])\n",
    "        print(countT[j])\n",
    "    "
   ]
  },
  {
   "cell_type": "code",
   "execution_count": 33,
   "id": "73ef17c1",
   "metadata": {},
   "outputs": [
    {
     "ename": "TypeError",
     "evalue": "string indices must be integers",
     "output_type": "error",
     "traceback": [
      "\u001b[1;31m---------------------------------------------------------------------------\u001b[0m",
      "\u001b[1;31mTypeError\u001b[0m                                 Traceback (most recent call last)",
      "Input \u001b[1;32mIn [33]\u001b[0m, in \u001b[0;36m<cell line: 1>\u001b[1;34m()\u001b[0m\n\u001b[0;32m      1\u001b[0m \u001b[38;5;28;01mfor\u001b[39;00m j \u001b[38;5;129;01min\u001b[39;00m countS: \n\u001b[1;32m----> 3\u001b[0m     \u001b[38;5;28;01mif\u001b[39;00m countS[j] \u001b[38;5;241m==\u001b[39m countT\u001b[38;5;241m.\u001b[39mget(\u001b[43mt\u001b[49m\u001b[43m[\u001b[49m\u001b[43mj\u001b[49m\u001b[43m]\u001b[49m,\u001b[38;5;241m0\u001b[39m):\n\u001b[0;32m      5\u001b[0m         \u001b[38;5;28mprint\u001b[39m(\u001b[38;5;28;01mTrue\u001b[39;00m)\n",
      "\u001b[1;31mTypeError\u001b[0m: string indices must be integers"
     ]
    }
   ],
   "source": [
    "for j in countS: \n",
    "    \n",
    "    if countS[j] == countT.get(t[j],0):\n",
    "        \n",
    "        print(True)"
   ]
  },
  {
   "cell_type": "code",
   "execution_count": 34,
   "id": "5ff97b45",
   "metadata": {},
   "outputs": [
    {
     "name": "stdout",
     "output_type": "stream",
     "text": [
      "True\n",
      "True\n",
      "True\n",
      "True\n",
      "True\n"
     ]
    }
   ],
   "source": [
    "for j in countS: \n",
    "    \n",
    "    if countS[j] == countT.get(j,0):\n",
    "        \n",
    "        print(True)"
   ]
  },
  {
   "cell_type": "code",
   "execution_count": null,
   "id": "65c664db",
   "metadata": {},
   "outputs": [],
   "source": []
  }
 ],
 "metadata": {
  "kernelspec": {
   "display_name": "Python 3 (ipykernel)",
   "language": "python",
   "name": "python3"
  },
  "language_info": {
   "codemirror_mode": {
    "name": "ipython",
    "version": 3
   },
   "file_extension": ".py",
   "mimetype": "text/x-python",
   "name": "python",
   "nbconvert_exporter": "python",
   "pygments_lexer": "ipython3",
   "version": "3.9.12"
  }
 },
 "nbformat": 4,
 "nbformat_minor": 5
}
