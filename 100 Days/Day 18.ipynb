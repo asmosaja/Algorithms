{
 "cells": [
  {
   "cell_type": "code",
   "execution_count": 1,
   "id": "90b47b90",
   "metadata": {},
   "outputs": [
    {
     "name": "stdout",
     "output_type": "stream",
     "text": [
      "56 is even\n"
     ]
    }
   ],
   "source": [
    "def prime(s):\n",
    "    if(s%2 == 0):\n",
    "        print(s,\"is even\")\n",
    "    else:\n",
    "        print(s,\"is odd\")\n",
    "prime(56)\n",
    "    "
   ]
  },
  {
   "cell_type": "code",
   "execution_count": 9,
   "id": "5232294e",
   "metadata": {},
   "outputs": [
    {
     "name": "stdout",
     "output_type": "stream",
     "text": [
      "Deposited amount in your account:  100\n",
      "The balance amount is 33\n",
      "Name:  Janani\n",
      "Age:  19\n",
      "Gender: Female\n",
      "The  withdraw amount is  33\n",
      "The balance amount is 0\n"
     ]
    }
   ],
   "source": [
    "class User:\n",
    "    def __init__(self,name,age,gender):\n",
    "        self.name = name \n",
    "        self.age = age\n",
    "        self.gender = gender\n",
    "    def personaldetails(self):\n",
    "        print(\"Name: \",self.name)\n",
    "        print(\"Age: \",self.age)\n",
    "        print(\"Gender:\",self.gender)\n",
    "\n",
    "class Bank(User):\n",
    "    def __init__(self,name,age,gender):\n",
    "        super().__init__(name,age,gender)\n",
    "        self.balance = 0\n",
    "    \n",
    "    def deposit(self,amount):\n",
    "        self.amount = amount\n",
    "        self.balance = self.amount+self.balance\n",
    "        print(\"Deposited amount in your account: \",self.balance)\n",
    "    \n",
    "    def withdraw(self,amount):\n",
    "        self.amount = amount\n",
    "        \n",
    "        if (self.balance <self.amount):\n",
    "            print(\"The amount is insufficient to withdraw\",self.balance)\n",
    "        else:\n",
    "            self.balance = self.balance - self.amount\n",
    "            \n",
    "            print(\"The balance amount is\",self.balance)\n",
    "    \n",
    "    def showdetails(self):\n",
    "        self.personaldetails()\n",
    "        print(\"The  withdraw amount is \",self.balance)\n",
    "d = Bank(\"Janani\",19,\"Female\")\n",
    "d.deposit(100)\n",
    "d.withdraw(67)\n",
    "d.showdetails()\n",
    "d.withdraw(33)"
   ]
  },
  {
   "cell_type": "code",
   "execution_count": null,
   "id": "112c599b",
   "metadata": {},
   "outputs": [],
   "source": []
  }
 ],
 "metadata": {
  "kernelspec": {
   "display_name": "Python 3",
   "language": "python",
   "name": "python3"
  },
  "language_info": {
   "codemirror_mode": {
    "name": "ipython",
    "version": 3
   },
   "file_extension": ".py",
   "mimetype": "text/x-python",
   "name": "python",
   "nbconvert_exporter": "python",
   "pygments_lexer": "ipython3",
   "version": "3.8.8"
  }
 },
 "nbformat": 4,
 "nbformat_minor": 5
}
