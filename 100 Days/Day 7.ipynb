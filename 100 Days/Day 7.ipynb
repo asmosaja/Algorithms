{
 "cells": [
  {
   "cell_type": "markdown",
   "id": "a05a6bc5",
   "metadata": {},
   "source": [
    "single linked list\n"
   ]
  },
  {
   "cell_type": "code",
   "execution_count": 14,
   "id": "485c254f",
   "metadata": {},
   "outputs": [
    {
     "name": "stdout",
     "output_type": "stream",
     "text": [
      "10  --> 20  --> 30  --> 40  --> 50  --> "
     ]
    }
   ],
   "source": [
    "class Node():\n",
    "    def __init__(self,data):\n",
    "        self.data = data\n",
    "        self.next = None\n",
    "class singlelinkedlist():\n",
    "    def __init__(self):\n",
    "        self.head = None\n",
    "    def display(self):\n",
    "        temp = self.head\n",
    "        \n",
    "        if self.head is None:\n",
    "            print(\"linked list is empty\")\n",
    "        else:\n",
    "            #temp =self.head\n",
    "            while temp:\n",
    "                print(temp.data,' --> ',end =\"\")\n",
    "                temp = temp.next\n",
    "l = singlelinkedlist()\n",
    "n1 = Node(10)\n",
    "l.head = n1\n",
    "n2 = Node(20)\n",
    "n1.next= n2\n",
    "n3 = Node(30)\n",
    "n2.next = n3\n",
    "n4 = Node(40)\n",
    "n3.next = n4\n",
    "n5 = Node(50)\n",
    "n4.next = n5\n",
    "l.display()\n",
    "\n",
    "                "
   ]
  },
  {
   "cell_type": "code",
   "execution_count": null,
   "id": "8a355658",
   "metadata": {},
   "outputs": [],
   "source": [
    "Class Node():\n",
    "    def __init__(self,data):\n",
    "        self.data = data\n",
    "        self.next = None\n",
    "Class singlelinkedlist():\n",
    "    def __init__(self):\n",
    "        self.head = None\n",
    "    def display(self):\n",
    "        if self.head is None:\n",
    "            print(\"empty linkedlist\")\n",
    "        else:\n",
    "            temp = self.head\n",
    "            while temp:\n",
    "                print(temp.data,\"-->\",end = \"\")\n",
    "                temp = temp.next\n",
    "l = singlelinkedlist()\n",
    "n1 = Node(10)\n",
    "l.head = n1\n",
    "n2 = Node(20)\n",
    "\n",
    "                "
   ]
  },
  {
   "cell_type": "code",
   "execution_count": 10,
   "id": "6aff75be",
   "metadata": {},
   "outputs": [
    {
     "ename": "TypeError",
     "evalue": "display() missing 1 required positional argument: 'data'",
     "output_type": "error",
     "traceback": [
      "\u001b[1;31m---------------------------------------------------------------------------\u001b[0m",
      "\u001b[1;31mTypeError\u001b[0m                                 Traceback (most recent call last)",
      "\u001b[1;32m<ipython-input-10-7c77db3fa0d4>\u001b[0m in \u001b[0;36m<module>\u001b[1;34m\u001b[0m\n\u001b[0;32m     34\u001b[0m \u001b[0mn4\u001b[0m \u001b[1;33m=\u001b[0m \u001b[0mNode\u001b[0m\u001b[1;33m(\u001b[0m\u001b[1;34m\"python\"\u001b[0m\u001b[1;33m)\u001b[0m\u001b[1;33m\u001b[0m\u001b[1;33m\u001b[0m\u001b[0m\n\u001b[0;32m     35\u001b[0m \u001b[0mn3\u001b[0m\u001b[1;33m.\u001b[0m\u001b[0mnext\u001b[0m \u001b[1;33m=\u001b[0m \u001b[0mn4\u001b[0m\u001b[1;33m\u001b[0m\u001b[1;33m\u001b[0m\u001b[0m\n\u001b[1;32m---> 36\u001b[1;33m \u001b[0ml\u001b[0m\u001b[1;33m.\u001b[0m\u001b[0mdisplay\u001b[0m\u001b[1;33m(\u001b[0m\u001b[1;33m)\u001b[0m\u001b[1;33m\u001b[0m\u001b[1;33m\u001b[0m\u001b[0m\n\u001b[0m\u001b[0;32m     37\u001b[0m \u001b[0mprint\u001b[0m\u001b[1;33m(\u001b[0m\u001b[1;34m\"head\"\u001b[0m\u001b[1;33m,\u001b[0m\u001b[0ml\u001b[0m\u001b[1;33m.\u001b[0m\u001b[0mhead\u001b[0m\u001b[1;33m.\u001b[0m\u001b[0mdata\u001b[0m\u001b[1;33m)\u001b[0m\u001b[1;33m\u001b[0m\u001b[1;33m\u001b[0m\u001b[0m\n\u001b[0;32m     38\u001b[0m \u001b[0mprint\u001b[0m\u001b[1;33m(\u001b[0m\u001b[1;34m'tail'\u001b[0m\u001b[1;33m,\u001b[0m\u001b[0mn3\u001b[0m\u001b[1;33m.\u001b[0m\u001b[0mnext\u001b[0m\u001b[1;33m.\u001b[0m\u001b[0mdata\u001b[0m\u001b[1;33m)\u001b[0m\u001b[1;33m\u001b[0m\u001b[1;33m\u001b[0m\u001b[0m\n",
      "\u001b[1;31mTypeError\u001b[0m: display() missing 1 required positional argument: 'data'"
     ]
    }
   ],
   "source": [
    "class Node():\n",
    "  def __init__(self,data):\n",
    "    self.data = data\n",
    "    self.next = None\n",
    "class singlelinkedlist():\n",
    "   \n",
    "  def __init__(self):\n",
    "    self.head = None\n",
    "    self.count = 0\n",
    "    self.tail = None\n",
    "    \n",
    "  def display(self,data):\n",
    "    temp=self.head\n",
    "    node = Node(data)\n",
    "    self.data = data\n",
    "    if self.head is None:\n",
    "      print(\"empty\")\n",
    "    else:\n",
    "      while temp:\n",
    "        print(temp.data)\n",
    "        temp = temp.next\n",
    "        self.head.next = node\n",
    "        self.tail = node\n",
    "    self.count+1\n",
    "\n",
    "l=singlelinkedlist()\n",
    "n1 = Node(\"C++\")\n",
    "\n",
    "l.head = n1\n",
    "n2 = Node(\"java\")\n",
    "n1.next = n2\n",
    "n3 = Node(\"c#\")\n",
    "n2.next=n3\n",
    "n4 = Node(\"python\")\n",
    "n3.next = n4\n",
    "l.display()\n",
    "print(\"head\",l.head.data)\n",
    "print('tail',n3.next.data)\n",
    "print(\"size of singlelinkedlist\",l.count(display))"
   ]
  },
  {
   "cell_type": "code",
   "execution_count": 4,
   "id": "e1836068",
   "metadata": {},
   "outputs": [
    {
     "name": "stdout",
     "output_type": "stream",
     "text": [
      "hello10\n"
     ]
    }
   ],
   "source": [
    "print(\"hello\"+str(10))"
   ]
  },
  {
   "cell_type": "markdown",
   "id": "ac676a7b",
   "metadata": {},
   "source": [
    "### STACK"
   ]
  },
  {
   "cell_type": "code",
   "execution_count": 1,
   "id": "72cfae8d",
   "metadata": {},
   "outputs": [
    {
     "name": "stdout",
     "output_type": "stream",
     "text": [
      "Enter the number:6\n",
      "enter choice ==1 stack 2 for pop 3 for quit\n",
      "Enter your choice:2\n"
     ]
    },
    {
     "ename": "NameError",
     "evalue": "name 'top_pop' is not defined",
     "output_type": "error",
     "traceback": [
      "\u001b[1;31m---------------------------------------------------------------------------\u001b[0m",
      "\u001b[1;31mNameError\u001b[0m                                 Traceback (most recent call last)",
      "\u001b[1;32m<ipython-input-1-d54b6304efe9>\u001b[0m in \u001b[0;36m<module>\u001b[1;34m\u001b[0m\n\u001b[0;32m     17\u001b[0m         \u001b[0mpush\u001b[0m\u001b[1;33m(\u001b[0m\u001b[1;33m)\u001b[0m\u001b[1;33m\u001b[0m\u001b[1;33m\u001b[0m\u001b[0m\n\u001b[0;32m     18\u001b[0m     \u001b[1;32melif\u001b[0m \u001b[0mchoice\u001b[0m \u001b[1;33m==\u001b[0m\u001b[1;36m2\u001b[0m\u001b[1;33m:\u001b[0m\u001b[1;33m\u001b[0m\u001b[1;33m\u001b[0m\u001b[0m\n\u001b[1;32m---> 19\u001b[1;33m         \u001b[0mtop_pop\u001b[0m\u001b[1;33m(\u001b[0m\u001b[1;33m)\u001b[0m\u001b[1;33m\u001b[0m\u001b[1;33m\u001b[0m\u001b[0m\n\u001b[0m\u001b[0;32m     20\u001b[0m     \u001b[1;32melse\u001b[0m\u001b[1;33m:\u001b[0m\u001b[1;33m\u001b[0m\u001b[1;33m\u001b[0m\u001b[0m\n\u001b[0;32m     21\u001b[0m         \u001b[1;32mbreak\u001b[0m\u001b[1;33m\u001b[0m\u001b[1;33m\u001b[0m\u001b[0m\n",
      "\u001b[1;31mNameError\u001b[0m: name 'top_pop' is not defined"
     ]
    }
   ],
   "source": [
    "stack = []\n",
    "class stacks():\n",
    "    element = int(input('Enter the number:'))\n",
    "    def push(self):\n",
    "        stack.append(element)\n",
    "        print(stack)\n",
    "    def top_pop(self):\n",
    "        stack.pop(element)\n",
    "        print(stack)\n",
    "    def top(self):\n",
    "        if stack == 0:\n",
    "            print('the stack is empty')\n",
    "print('enter choice ==1 stack 2 for pop 3 for quit')\n",
    "while True:\n",
    "    choice = int(input('Enter your choice:'))\n",
    "    if choice == 1:\n",
    "        push()\n",
    "    elif choice ==2:\n",
    "        top_pop()\n",
    "    else:\n",
    "        break\n",
    "s = stacks()\n",
    "    "
   ]
  },
  {
   "cell_type": "markdown",
   "id": "52130ea4",
   "metadata": {},
   "source": [
    "### "
   ]
  },
  {
   "cell_type": "code",
   "execution_count": 5,
   "id": "cff68239",
   "metadata": {},
   "outputs": [
    {
     "name": "stdout",
     "output_type": "stream",
     "text": [
      "enter the operation you want to perform 1.append 2.pop 3.exit\n",
      "Enter the choice:1\n",
      "Enter the element:3\n",
      "[3]\n",
      "enter the operation you want to perform 1.append 2.pop 3.exit\n",
      "Enter the choice:1\n",
      "Enter the element:4\n",
      "[3, 4]\n",
      "enter the operation you want to perform 1.append 2.pop 3.exit\n",
      "Enter the choice:1\n",
      "Enter the element:5\n",
      "[3, 4, 5]\n",
      "enter the operation you want to perform 1.append 2.pop 3.exit\n",
      "Enter the choice:2\n",
      "[3, 4]\n",
      "enter the operation you want to perform 1.append 2.pop 3.exit\n",
      "Enter the choice:2\n",
      "[3]\n",
      "enter the operation you want to perform 1.append 2.pop 3.exit\n",
      "Enter the choice:3\n"
     ]
    }
   ],
   "source": [
    "stacks = []\n",
    "\n",
    "def push():\n",
    "    element = int(input(\"Enter the element:\"))\n",
    "    stacks.append(element)\n",
    "    print(stacks)\n",
    "def pop_element():\n",
    "    if stacks == 0:\n",
    "        print('stack is empty')\n",
    "    else:\n",
    "        stacks.pop()\n",
    "        print(stacks)\n",
    "while True:\n",
    "    print('enter the operation you want to perform 1.append 2.pop 3.exit')\n",
    "    choice = int(input('Enter the choice:'))\n",
    "    if choice ==1:\n",
    "        push()\n",
    "    elif choice == 2:\n",
    "        pop_element()\n",
    "    else:\n",
    "        break"
   ]
  },
  {
   "cell_type": "code",
   "execution_count": null,
   "id": "6d30db41",
   "metadata": {},
   "outputs": [],
   "source": [
    "class stack:\n",
    "    def __init__(self):\n",
    "        self.st = []\n",
    "    def isempty(self):\n",
    "        return self.st ==[]\n",
    "    def push(self,element):\n",
    "        self.st.append(element)\n",
    "    def pop(self):\n",
    "        self.st.pop()\n",
    "    def peep(self):\n",
    "        n = len(self.st)\n",
    "        return self.st[n-1]\n",
    "    def search(self,element):\n",
    "        if self.isempty():\n",
    "            return -1\n",
    "        else:\n",
    "            try:\n",
    "                n = self.st.index(element)\n",
    "                return len(self.st)-n\n",
    "            except ValueError:\n",
    "                return -2\n",
    "    def display(self):\n",
    "        return self.st\n",
    "from stack import stack\n",
    "s =stack()\n",
    "choice =0\n",
    "while choice<5:\n",
    "    print('stack operations')\n",
    "    print('1. push elements 2.pop elements 3 peep elements 4. search for elements 5. Exit')\n",
    "    choice = int(input('enter the input of choice:'))\n",
    "    if choice == 1:\n",
    "        element = int(input('Enter the element'))\n",
    "        s.push(element)\n",
    "    elif choice == 2:\n",
    "        element = s.pop()\n",
    "        if element == -1:\n",
    "            print('the stack is empty')\n",
    "        else:\n",
    "            print('popped element =',element)\n",
    "    elif choice == 3:\n",
    "        element = s.peep()\n",
    "        print('top most element = ',element)\n",
    "    elif choice == 4:\n",
    "        element = int(input('Enter the element:'))\n",
    "        pos = s.search(element)\n",
    "        if pos == -1:\n",
    "            print('the stack is empty')\n",
    "        elif pos == -2:\n",
    "            print('element not found in the stack')\n",
    "        else:\n",
    "            print('element found at position',pos)\n",
    "    else:\n",
    "        break\n",
    "    print('stack',s.display)"
   ]
  },
  {
   "cell_type": "markdown",
   "id": "52f52246",
   "metadata": {},
   "source": [
    "interview question using stack find minimum"
   ]
  },
  {
   "cell_type": "code",
   "execution_count": 1,
   "id": "753ce2f4",
   "metadata": {},
   "outputs": [
    {
     "ename": "NameError",
     "evalue": "name 'choice' is not defined",
     "output_type": "error",
     "traceback": [
      "\u001b[1;31m---------------------------------------------------------------------------\u001b[0m",
      "\u001b[1;31mNameError\u001b[0m                                 Traceback (most recent call last)",
      "\u001b[1;32m<ipython-input-1-37deb356f50c>\u001b[0m in \u001b[0;36m<module>\u001b[1;34m\u001b[0m\n\u001b[0;32m     16\u001b[0m         \u001b[1;32mreturn\u001b[0m \u001b[0mself\u001b[0m\u001b[1;33m.\u001b[0m\u001b[0mminstack\u001b[0m\u001b[1;33m[\u001b[0m\u001b[1;33m-\u001b[0m\u001b[1;36m1\u001b[0m\u001b[1;33m]\u001b[0m\u001b[1;33m\u001b[0m\u001b[1;33m\u001b[0m\u001b[0m\n\u001b[0;32m     17\u001b[0m \u001b[1;33m\u001b[0m\u001b[0m\n\u001b[1;32m---> 18\u001b[1;33m \u001b[1;32mwhile\u001b[0m \u001b[0mchoice\u001b[0m\u001b[1;33m<\u001b[0m\u001b[1;36m5\u001b[0m\u001b[1;33m:\u001b[0m\u001b[1;33m\u001b[0m\u001b[1;33m\u001b[0m\u001b[0m\n\u001b[0m\u001b[0;32m     19\u001b[0m     \u001b[0mprint\u001b[0m\u001b[1;33m(\u001b[0m\u001b[1;34m'stack operations'\u001b[0m\u001b[1;33m)\u001b[0m\u001b[1;33m\u001b[0m\u001b[1;33m\u001b[0m\u001b[0m\n\u001b[0;32m     20\u001b[0m     \u001b[0mprint\u001b[0m\u001b[1;33m(\u001b[0m\u001b[1;34m'1. push elements 2.pop elements 3 peep elements 4. search for elements 5. Exit'\u001b[0m\u001b[1;33m)\u001b[0m\u001b[1;33m\u001b[0m\u001b[1;33m\u001b[0m\u001b[0m\n",
      "\u001b[1;31mNameError\u001b[0m: name 'choice' is not defined"
     ]
    }
   ],
   "source": [
    "class Minstack:\n",
    "    def __init__(self):\n",
    "        self.stack = []\n",
    "        self.minstack = []\n",
    "    def push(self,element):\n",
    "        self.stack.append(element)\n",
    "        val = min(val,self.minstack[-1] if self.minstack else element)\n",
    "        self.minstack.append(element)\n",
    "    def pop(self) -> None:\n",
    "        self.stack.pop()\n",
    "        self.minstack.pop()\n",
    "        \n",
    "    def top(self) ->int:\n",
    "        return self.stack[-1]\n",
    "    def getmin(self) ->int:\n",
    "        return self.minstack[-1]\n",
    "\n",
    "while choice<5:\n",
    "    print('stack operations')\n",
    "    print('1. push elements 2.pop elements 3 peep elements 4. search for elements 5. Exit')\n",
    "    choice = int(input('enter the input of choice:'))\n",
    "    if choice == 1:\n",
    "        element = int(input('Enter the element'))\n",
    "        s.push(element)\n",
    "    elif choice == 2:\n",
    "        element = s.pop()\n",
    "        if element == -1:\n",
    "            print('the stack is empty')\n",
    "        else:\n",
    "            print('popped element =',element)\n",
    "    elif choice == 3:\n",
    "        element = s.peep()\n",
    "        print('top most element = ',element)\n",
    "    elif choice == 4:\n",
    "        element = int(input('Enter the element:'))\n",
    "        pos = s.search(element)\n",
    "        if pos == -1:\n",
    "            print('the stack is empty')\n",
    "        elif pos == -2:\n",
    "            print('element not found in the stack')\n",
    "        else:\n",
    "            print('element found at position',pos)\n",
    "    else:\n",
    "        break\n",
    "    print('stack',s.display)\n",
    "s = minstack()"
   ]
  },
  {
   "cell_type": "code",
   "execution_count": 33,
   "id": "83751172",
   "metadata": {},
   "outputs": [
    {
     "name": "stdout",
     "output_type": "stream",
     "text": [
      "0\n",
      "7\n",
      "1\n",
      "[0, 1]\n",
      "1\n",
      "2\n",
      "3\n"
     ]
    }
   ],
   "source": [
    "nums = [2,7,11,15]\n",
    "target = 9\n",
    "dicts = {}\n",
    "\n",
    "for i,n in enumerate(nums):\n",
    "    #print(i)\n",
    "    #print(n)\n",
    "    if n in dicts:\n",
    "        print(n)\n",
    "        print(i)\n",
    "        #print(dicts[n])\n",
    "        #print(i)\n",
    "        print(([dicts[n],i]))\n",
    "        \n",
    "    dicts[(target - n)]= i\n",
    "    print(dicts[target-n])\n",
    "    #print(i)\n"
   ]
  }
 ],
 "metadata": {
  "kernelspec": {
   "display_name": "base",
   "language": "python",
   "name": "python3"
  },
  "language_info": {
   "codemirror_mode": {
    "name": "ipython",
    "version": 3
   },
   "file_extension": ".py",
   "mimetype": "text/x-python",
   "name": "python",
   "nbconvert_exporter": "python",
   "pygments_lexer": "ipython3",
   "version": "3.9.13 (main, Aug 25 2022, 23:51:50) [MSC v.1916 64 bit (AMD64)]"
  },
  "vscode": {
   "interpreter": {
    "hash": "b09ec625f77bf4fd762565a912b97636504ad6ec901eb2d0f4cf5a7de23e1ee5"
   }
  }
 },
 "nbformat": 4,
 "nbformat_minor": 5
}
