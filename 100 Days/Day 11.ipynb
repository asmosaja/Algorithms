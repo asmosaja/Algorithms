{
 "cells": [
  {
   "cell_type": "markdown",
   "id": "4db4a833",
   "metadata": {},
   "source": [
    "# Finding the next largest palindrome number than the given number;"
   ]
  },
  {
   "cell_type": "code",
   "execution_count": 14,
   "id": "42c09f22",
   "metadata": {},
   "outputs": [
    {
     "name": "stdout",
     "output_type": "stream",
     "text": [
      "98\n",
      "9889\n"
     ]
    }
   ],
   "source": [
    "def nextpalindrome(num):\n",
    "    \n",
    "    lennum = len(str(num))\n",
    "    iseven = (lennum%2==0)\n",
    "    isodd = (lennum%2 !=0)\n",
    "    lefthalf = str(num)[:(lennum//2)]\n",
    "    if iseven:\n",
    "        \n",
    "        print(lefthalf)\n",
    "        reverse = str(lefthalf)[::-1]\n",
    "        nextpdnum = lefthalf+reverse\n",
    "    else:\n",
    "        \n",
    "        midvalue = str(num)[(lennum)//2]\n",
    "        nextpdnum = lefthalf+midvalue\n",
    "    if nextpdnum > str(num):\n",
    "        print(nextpdnum)\n",
    "    else:\n",
    "        divide = pow(10,len(str(lennum//2)))\n",
    "        #print(divide)\n",
    "        increment= (int(num)//divide )+1\n",
    "        #print(increment)\n",
    "        nxtpd = increment*divide\n",
    "        nextpalindrome(nxtpd)\n",
    "        \n",
    "nextpalindrome(9870)\n",
    "#print(997//100)"
   ]
  },
  {
   "cell_type": "code",
   "execution_count": 16,
   "id": "eba28d37",
   "metadata": {},
   "outputs": [
    {
     "name": "stdout",
     "output_type": "stream",
     "text": [
      "2\n"
     ]
    }
   ],
   "source": [
    "num=9078\n",
    "print(len(str(num))//2)"
   ]
  },
  {
   "cell_type": "code",
   "execution_count": 17,
   "id": "9623a257",
   "metadata": {},
   "outputs": [
    {
     "name": "stdout",
     "output_type": "stream",
     "text": [
      "90\n"
     ]
    }
   ],
   "source": [
    "print(str(num)[:2])"
   ]
  },
  {
   "cell_type": "code",
   "execution_count": 18,
   "id": "d98f0379",
   "metadata": {},
   "outputs": [
    {
     "name": "stdout",
     "output_type": "stream",
     "text": [
      "9\n"
     ]
    }
   ],
   "source": [
    "print(str(num)[:1])"
   ]
  },
  {
   "cell_type": "code",
   "execution_count": 19,
   "id": "f6a914c2",
   "metadata": {},
   "outputs": [
    {
     "name": "stdout",
     "output_type": "stream",
     "text": [
      "9078\n"
     ]
    }
   ],
   "source": [
    "print(str(num)[:4])"
   ]
  },
  {
   "cell_type": "code",
   "execution_count": 20,
   "id": "c996d97d",
   "metadata": {},
   "outputs": [
    {
     "name": "stdout",
     "output_type": "stream",
     "text": [
      "97\n"
     ]
    }
   ],
   "source": [
    "print(str(num)[::2])"
   ]
  },
  {
   "cell_type": "code",
   "execution_count": 21,
   "id": "2cac9c39",
   "metadata": {},
   "outputs": [
    {
     "name": "stdout",
     "output_type": "stream",
     "text": [
      "907\n"
     ]
    }
   ],
   "source": [
    "print(str(num)[:3])"
   ]
  },
  {
   "cell_type": "code",
   "execution_count": null,
   "id": "269d0b75",
   "metadata": {},
   "outputs": [],
   "source": []
  },
  {
   "cell_type": "markdown",
   "id": "027b52dc",
   "metadata": {},
   "source": [
    "# To find whether the given no is odd or even \n",
    "\n"
   ]
  },
  {
   "cell_type": "code",
   "execution_count": 13,
   "id": "e8153a07",
   "metadata": {},
   "outputs": [
    {
     "name": "stdout",
     "output_type": "stream",
     "text": [
      "False\n",
      "True\n"
     ]
    }
   ],
   "source": [
    "a = 2\n",
    "i = len(str(a))#not crt\n",
    "print(i%2==0)\n",
    "print(2%2==0)"
   ]
  },
  {
   "cell_type": "code",
   "execution_count": null,
   "id": "036e0281",
   "metadata": {},
   "outputs": [],
   "source": [
    "Input: arr[] = {1, 232, 54545, 999991}; \n",
    "Output: 54545 .... \n",
    "Input: arr[] = {1, 2, 3, 4, 5, 50}; Output: 5 "
   ]
  },
  {
   "cell_type": "code",
   "execution_count": 17,
   "id": "6d1c9b04",
   "metadata": {},
   "outputs": [
    {
     "name": "stdout",
     "output_type": "stream",
     "text": [
      "10\n",
      "100\n",
      "1000\n",
      "10000\n",
      "100000\n",
      "divisor: 100000\n",
      "leading 9\n",
      "trailing 1\n",
      "10\n",
      "100\n",
      "1000\n",
      "10000\n",
      "divisor: 10000\n",
      "leading 5\n",
      "trailing 5\n",
      "leading 4\n",
      "trailing 4\n",
      "leading 5\n",
      "trailing 5\n",
      "54545\n"
     ]
    }
   ],
   "source": [
    "def isPalindrome(n) :\n",
    "     \n",
    "    # Find the appropriate divisor\n",
    "    # to extract the leading digit\n",
    "    divisor = 1\n",
    "     \n",
    "    while (n / divisor >= 10) :\n",
    "        divisor *= 10\n",
    "        print(divisor)\n",
    "    print('divisor:',divisor)\n",
    " \n",
    "    while (n != 0) :\n",
    "         \n",
    "        leading = n // divisor\n",
    "        print('leading',leading)\n",
    "        trailing = n % 10\n",
    "        print('trailing',trailing)\n",
    " \n",
    "        # If first and last digits are\n",
    "        # not same then return false\n",
    "        if (leading != trailing) :\n",
    "            return False\n",
    " \n",
    "        # Removing the leading and trailing\n",
    "        # digits from the number\n",
    "        n = (n % divisor) // 10\n",
    " \n",
    "        # Reducing divisor by a factor\n",
    "        # of 2 as 2 digits are dropped\n",
    "        divisor = divisor // 100\n",
    "     \n",
    "    return True\n",
    " \n",
    "# Function to find the largest\n",
    "# palindromic number\n",
    "def largestPalindrome(A, n) :\n",
    " \n",
    "    # Sort the array\n",
    "    A.sort()\n",
    " \n",
    "    for i in range(n - 1, -1, -1) :\n",
    " \n",
    "        # If number is palindrome\n",
    "        if (isPalindrome(A[i])) :\n",
    "            return A[i]\n",
    "     \n",
    "    # If no palindromic number found\n",
    "    return -1\n",
    " \n",
    "# Driver Code\n",
    "if __name__ == \"__main__\" :\n",
    " \n",
    "    A = [ 1, 232, 54545, 999991 ]\n",
    "    n = len(A)\n",
    " \n",
    "    # print required answer\n",
    "    print(largestPalindrome(A, n))\n",
    " "
   ]
  },
  {
   "cell_type": "code",
   "execution_count": 1,
   "id": "d070dc4b",
   "metadata": {},
   "outputs": [
    {
     "name": "stdout",
     "output_type": "stream",
     "text": [
      "False\n"
     ]
    }
   ],
   "source": [
    "print(5.4545>= 10)"
   ]
  },
  {
   "cell_type": "code",
   "execution_count": 14,
   "id": "724ad4b7",
   "metadata": {},
   "outputs": [
    {
     "name": "stdout",
     "output_type": "stream",
     "text": [
      "54545\n",
      "10000\n"
     ]
    }
   ],
   "source": [
    "n= 54545\n",
    "divided = pow(10,len(str(n//2))-1)\n",
    "print(n)\n",
    "print(1*divided)"
   ]
  },
  {
   "cell_type": "code",
   "execution_count": 7,
   "id": "35ddc3fd",
   "metadata": {},
   "outputs": [
    {
     "name": "stdout",
     "output_type": "stream",
     "text": [
      "None\n"
     ]
    }
   ],
   "source": [
    "reverse =0\n",
    "def largestPalindrome(arr):\n",
    "    for i in range(n-1,-1,-1):\n",
    "        startpdnum = arr[i]//2\n",
    "        endpdnum = arr[i]%2\n",
    "        if startpdnum!= endpdnum:\n",
    "            continue\n",
    "        \n",
    "        elif (startpdnum == endpdnum):\n",
    "            remainder = (startpdnum[i])\n",
    "            reverse = (reverse*10)+remainder\n",
    "            arr= arr[i]//10\n",
    "        \n",
    "if __name__ == \"__main__\" :\n",
    " \n",
    "    arr = [ 1, 232, 54545, 999991 ]\n",
    "    n = len(arr) \n",
    "    # print required answer\n",
    "    print(largestPalindrome(arr))\n",
    "    "
   ]
  },
  {
   "cell_type": "code",
   "execution_count": 3,
   "id": "6a9f98b1",
   "metadata": {},
   "outputs": [
    {
     "name": "stdout",
     "output_type": "stream",
     "text": [
      "531135"
     ]
    }
   ],
   "source": [
    "# Python3 program to print the largest palindromic\n",
    "# number by permuting digits of a number\n",
    "from collections import defaultdict\n",
    " \n",
    "# Function to check if a number can be\n",
    "# permuted to form a palindrome number\n",
    "def possibility(m, length, s):\n",
    " \n",
    "    # counts the occurrence of\n",
    "    # number which is odd\n",
    "    countodd = 0\n",
    "    for i in range(0, length):\n",
    " \n",
    "        # if occurrence is odd\n",
    "        if m[int(s[i])] & 1:\n",
    "            countodd += 1\n",
    " \n",
    "        # if number exceeds 1\n",
    "        if countodd > 1:\n",
    "            return False\n",
    "     \n",
    "    return True\n",
    " \n",
    "# Function to print the largest palindromic\n",
    "# number by permuting digits of a number\n",
    "def largestPalindrome(s):\n",
    " \n",
    "    # string length\n",
    "    l = len(s)\n",
    " \n",
    "    # map that marks the occurrence of a number\n",
    "    m = defaultdict(lambda:0)\n",
    "    for i in range(0, l):\n",
    "        m[int(s[i])] += 1\n",
    " \n",
    "    # check the possibility of a\n",
    "    # palindromic number\n",
    "    if possibility(m, l, s) == False:\n",
    "        print(\"Palindrome cannot be formed\")\n",
    "        return\n",
    "     \n",
    "    # string array that stores the largest\n",
    "    # permuted palindromic number\n",
    "    largest = [None] * l\n",
    " \n",
    "    # pointer of front\n",
    "    front = 0\n",
    " \n",
    "    # greedily start from 9 to 0 and place the\n",
    "    # greater number in front and odd in the middle\n",
    "    for i in range(9, -1, -1):\n",
    " \n",
    "        # if the occurrence of number is odd\n",
    "        if m[i] & 1:\n",
    " \n",
    "            # place one odd occurring number\n",
    "            # in the middle\n",
    "            largest[l // 2] = chr(i + 48)\n",
    " \n",
    "            # decrease the count\n",
    "            m[i] -= 1\n",
    " \n",
    "            # place the rest of numbers greedily\n",
    "            while m[i] > 0:\n",
    "                largest[front] = chr(i + 48)\n",
    "                largest[l - front - 1] = chr(i + 48)\n",
    "                m[i] -= 2\n",
    "                front += 1\n",
    "             \n",
    "        else:\n",
    " \n",
    "            # if all numbers occur even times,\n",
    "            # then place greedily\n",
    "            while m[i] > 0:\n",
    " \n",
    "                # place greedily at front\n",
    "                largest[front] = chr(i + 48)\n",
    "                largest[l - front - 1] = chr(i + 48)\n",
    " \n",
    "                # 2 numbers are placed,\n",
    "                # so decrease the count\n",
    "                m[i] -= 2\n",
    " \n",
    "                # increase placing position\n",
    "                front += 1\n",
    " \n",
    "    # print the largest string thus formed\n",
    "    for i in range(0, l):\n",
    "        print(largest[i], end = \"\")\n",
    " \n",
    "# Driver Code\n",
    "if __name__ == \"__main__\":\n",
    " \n",
    "    s = \"313551\"\n",
    "    largestPalindrome(s)"
   ]
  }
 ],
 "metadata": {
  "kernelspec": {
   "display_name": "Python 3 (ipykernel)",
   "language": "python",
   "name": "python3"
  },
  "language_info": {
   "codemirror_mode": {
    "name": "ipython",
    "version": 3
   },
   "file_extension": ".py",
   "mimetype": "text/x-python",
   "name": "python",
   "nbconvert_exporter": "python",
   "pygments_lexer": "ipython3",
   "version": "3.9.12"
  }
 },
 "nbformat": 4,
 "nbformat_minor": 5
}
