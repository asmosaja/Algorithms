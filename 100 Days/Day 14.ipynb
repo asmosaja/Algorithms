{
 "cells": [
  {
   "cell_type": "code",
   "execution_count": 1,
   "id": "afbb5ce8",
   "metadata": {},
   "outputs": [
    {
     "name": "stdout",
     "output_type": "stream",
     "text": [
      "[1, 2, 3, 4]\n"
     ]
    }
   ],
   "source": [
    "num1 = [1,2,3]\n",
    "num2 = [4]\n",
    "res = num1+ num2\n",
    "print(res)"
   ]
  },
  {
   "cell_type": "code",
   "execution_count": 3,
   "id": "ff7d26c2",
   "metadata": {},
   "outputs": [
    {
     "ename": "AttributeError",
     "evalue": "'list' object has no attribute 'add'",
     "output_type": "error",
     "traceback": [
      "\u001b[1;31m---------------------------------------------------------------------------\u001b[0m",
      "\u001b[1;31mAttributeError\u001b[0m                            Traceback (most recent call last)",
      "\u001b[1;32mD:\\TEMP\\ipykernel_11652\\1951696281.py\u001b[0m in \u001b[0;36m<module>\u001b[1;34m\u001b[0m\n\u001b[0;32m      1\u001b[0m \u001b[0mnum3\u001b[0m \u001b[1;33m=\u001b[0m \u001b[0mnum1\u001b[0m\u001b[1;33m\u001b[0m\u001b[1;33m\u001b[0m\u001b[0m\n\u001b[1;32m----> 2\u001b[1;33m \u001b[0mnum4\u001b[0m \u001b[1;33m=\u001b[0m \u001b[0mnum3\u001b[0m\u001b[1;33m.\u001b[0m\u001b[0madd\u001b[0m\u001b[1;33m(\u001b[0m\u001b[0mnum2\u001b[0m\u001b[1;33m)\u001b[0m\u001b[1;33m\u001b[0m\u001b[1;33m\u001b[0m\u001b[0m\n\u001b[0m",
      "\u001b[1;31mAttributeError\u001b[0m: 'list' object has no attribute 'add'"
     ]
    }
   ],
   "source": [
    "num3 = num1\n",
    "num4 = num3.add(num2)"
   ]
  },
  {
   "cell_type": "markdown",
   "id": "479ed44c",
   "metadata": {},
   "source": [
    "# add function is used only for set function not for list "
   ]
  },
  {
   "cell_type": "code",
   "execution_count": null,
   "id": "bd5d722f",
   "metadata": {},
   "outputs": [],
   "source": [
    "how to add elements in list means using \n",
    "1.append() --> to add an item to the end of the lisst, use the append() method\n",
    "2.insert() --> to inserts an item at the specified index.\n",
    "3.extend() --> to append elements from another list to the current list,use the extend() method.\n",
    "the extend() method does not have to append lists, you can add any iterable object(tuples,sets,dictionaries etc.)"
   ]
  },
  {
   "cell_type": "code",
   "execution_count": 17,
   "id": "9fedc88b",
   "metadata": {},
   "outputs": [
    {
     "name": "stdout",
     "output_type": "stream",
     "text": [
      "None\n",
      "[4, 5, 3, 6]\n"
     ]
    }
   ],
   "source": [
    "num1 = [4,5]\n",
    "num2 = [3,6]\n",
    "num3 = num1\n",
    "num4 = num3.extend(num2)\n",
    "print(num4)\n",
    "print(num3)"
   ]
  },
  {
   "cell_type": "code",
   "execution_count": 22,
   "id": "ff71a118",
   "metadata": {},
   "outputs": [
    {
     "name": "stdout",
     "output_type": "stream",
     "text": [
      "[4, 5, 3]\n"
     ]
    }
   ],
   "source": [
    "num1 = [4,5]\n",
    "num2 = [3]\n",
    "num5 = num1\n",
    "num5.extend(num2)\n",
    "print(num5)"
   ]
  },
  {
   "cell_type": "code",
   "execution_count": 23,
   "id": "e5f57d24",
   "metadata": {},
   "outputs": [
    {
     "name": "stdout",
     "output_type": "stream",
     "text": [
      "[3, 4, 5]\n"
     ]
    }
   ],
   "source": [
    "num5.sort()\n",
    "print(num5)\n"
   ]
  },
  {
   "cell_type": "code",
   "execution_count": 26,
   "id": "9be5dc95",
   "metadata": {},
   "outputs": [
    {
     "name": "stdout",
     "output_type": "stream",
     "text": [
      "4.00000\n"
     ]
    }
   ],
   "source": [
    "num5len = len(num5)\n",
    "if (num5len%2) !=0:\n",
    "    start = 0 \n",
    "    end = num5len-1\n",
    "    mid = (start+end )//2\n",
    "    print(\"%.5f\" %num5[mid])\n",
    "    "
   ]
  },
  {
   "cell_type": "code",
   "execution_count": 2,
   "id": "7f140f21",
   "metadata": {},
   "outputs": [
    {
     "ename": "IndexError",
     "evalue": "list index out of range",
     "output_type": "error",
     "traceback": [
      "\u001b[1;31m---------------------------------------------------------------------------\u001b[0m",
      "\u001b[1;31mIndexError\u001b[0m                                Traceback (most recent call last)",
      "\u001b[1;32mD:\\TEMP\\ipykernel_3144\\3364268418.py\u001b[0m in \u001b[0;36m<module>\u001b[1;34m\u001b[0m\n\u001b[0;32m     14\u001b[0m         \u001b[1;32melse\u001b[0m\u001b[1;33m:\u001b[0m\u001b[1;33m\u001b[0m\u001b[1;33m\u001b[0m\u001b[0m\n\u001b[0;32m     15\u001b[0m             \u001b[0mprint\u001b[0m\u001b[1;33m(\u001b[0m\u001b[0mkth\u001b[0m\u001b[1;33m(\u001b[0m\u001b[0ma\u001b[0m\u001b[1;33m,\u001b[0m\u001b[0mb\u001b[0m\u001b[1;33m[\u001b[0m\u001b[1;33m:\u001b[0m\u001b[0mib\u001b[0m\u001b[1;33m]\u001b[0m\u001b[1;33m,\u001b[0m\u001b[0mk\u001b[0m\u001b[1;33m)\u001b[0m\u001b[1;33m)\u001b[0m\u001b[1;33m\u001b[0m\u001b[1;33m\u001b[0m\u001b[0m\n\u001b[1;32m---> 16\u001b[1;33m \u001b[0mprint\u001b[0m\u001b[1;33m(\u001b[0m\u001b[0mkth\u001b[0m\u001b[1;33m(\u001b[0m\u001b[1;33m[\u001b[0m\u001b[1;36m5\u001b[0m\u001b[1;33m,\u001b[0m\u001b[1;36m6\u001b[0m\u001b[1;33m]\u001b[0m\u001b[1;33m,\u001b[0m\u001b[1;33m[\u001b[0m\u001b[1;36m2\u001b[0m\u001b[1;33m,\u001b[0m\u001b[1;36m3\u001b[0m\u001b[1;33m]\u001b[0m\u001b[1;33m,\u001b[0m\u001b[1;36m2\u001b[0m\u001b[1;33m)\u001b[0m\u001b[1;33m)\u001b[0m\u001b[1;33m\u001b[0m\u001b[1;33m\u001b[0m\u001b[0m\n\u001b[0m",
      "\u001b[1;32mD:\\TEMP\\ipykernel_3144\\3364268418.py\u001b[0m in \u001b[0;36mkth\u001b[1;34m(a, b, k)\u001b[0m\n\u001b[0;32m     11\u001b[0m     \u001b[1;32melse\u001b[0m\u001b[1;33m:\u001b[0m\u001b[1;33m\u001b[0m\u001b[1;33m\u001b[0m\u001b[0m\n\u001b[0;32m     12\u001b[0m         \u001b[1;32mif\u001b[0m \u001b[0mma\u001b[0m \u001b[1;33m>\u001b[0m \u001b[0mmb\u001b[0m\u001b[1;33m:\u001b[0m\u001b[1;33m\u001b[0m\u001b[1;33m\u001b[0m\u001b[0m\n\u001b[1;32m---> 13\u001b[1;33m             \u001b[0mprint\u001b[0m\u001b[1;33m(\u001b[0m\u001b[0mkth\u001b[0m\u001b[1;33m(\u001b[0m\u001b[0ma\u001b[0m\u001b[1;33m[\u001b[0m\u001b[1;33m:\u001b[0m\u001b[0mia\u001b[0m\u001b[1;33m]\u001b[0m\u001b[1;33m,\u001b[0m\u001b[0mb\u001b[0m\u001b[1;33m,\u001b[0m\u001b[0mk\u001b[0m\u001b[1;33m)\u001b[0m\u001b[1;33m)\u001b[0m\u001b[1;33m\u001b[0m\u001b[1;33m\u001b[0m\u001b[0m\n\u001b[0m\u001b[0;32m     14\u001b[0m         \u001b[1;32melse\u001b[0m\u001b[1;33m:\u001b[0m\u001b[1;33m\u001b[0m\u001b[1;33m\u001b[0m\u001b[0m\n\u001b[0;32m     15\u001b[0m             \u001b[0mprint\u001b[0m\u001b[1;33m(\u001b[0m\u001b[0mkth\u001b[0m\u001b[1;33m(\u001b[0m\u001b[0ma\u001b[0m\u001b[1;33m,\u001b[0m\u001b[0mb\u001b[0m\u001b[1;33m[\u001b[0m\u001b[1;33m:\u001b[0m\u001b[0mib\u001b[0m\u001b[1;33m]\u001b[0m\u001b[1;33m,\u001b[0m\u001b[0mk\u001b[0m\u001b[1;33m)\u001b[0m\u001b[1;33m)\u001b[0m\u001b[1;33m\u001b[0m\u001b[1;33m\u001b[0m\u001b[0m\n",
      "\u001b[1;32mD:\\TEMP\\ipykernel_3144\\3364268418.py\u001b[0m in \u001b[0;36mkth\u001b[1;34m(a, b, k)\u001b[0m\n\u001b[0;32m      6\u001b[0m     \u001b[1;32mif\u001b[0m \u001b[0mia\u001b[0m\u001b[1;33m+\u001b[0m\u001b[0mib\u001b[0m \u001b[1;33m<\u001b[0m \u001b[0mk\u001b[0m\u001b[1;33m:\u001b[0m\u001b[1;33m\u001b[0m\u001b[1;33m\u001b[0m\u001b[0m\n\u001b[0;32m      7\u001b[0m         \u001b[1;32mif\u001b[0m \u001b[0mma\u001b[0m \u001b[1;33m>\u001b[0m\u001b[0mmb\u001b[0m\u001b[1;33m:\u001b[0m\u001b[1;33m\u001b[0m\u001b[1;33m\u001b[0m\u001b[0m\n\u001b[1;32m----> 8\u001b[1;33m             \u001b[0mprint\u001b[0m\u001b[1;33m(\u001b[0m\u001b[0mkth\u001b[0m\u001b[1;33m(\u001b[0m\u001b[0ma\u001b[0m\u001b[1;33m,\u001b[0m\u001b[0mb\u001b[0m\u001b[1;33m[\u001b[0m\u001b[0mib\u001b[0m\u001b[1;33m+\u001b[0m\u001b[1;36m1\u001b[0m\u001b[1;33m:\u001b[0m\u001b[1;33m]\u001b[0m\u001b[1;33m,\u001b[0m\u001b[0mk\u001b[0m\u001b[1;33m-\u001b[0m\u001b[0mib\u001b[0m\u001b[1;33m-\u001b[0m\u001b[1;36m1\u001b[0m\u001b[1;33m)\u001b[0m\u001b[1;33m)\u001b[0m\u001b[1;33m\u001b[0m\u001b[1;33m\u001b[0m\u001b[0m\n\u001b[0m\u001b[0;32m      9\u001b[0m         \u001b[1;32melse\u001b[0m\u001b[1;33m:\u001b[0m\u001b[1;33m\u001b[0m\u001b[1;33m\u001b[0m\u001b[0m\n\u001b[0;32m     10\u001b[0m             \u001b[0mprint\u001b[0m\u001b[1;33m(\u001b[0m\u001b[0mkth\u001b[0m\u001b[1;33m(\u001b[0m\u001b[0ma\u001b[0m\u001b[1;33m[\u001b[0m\u001b[0mia\u001b[0m\u001b[1;33m+\u001b[0m\u001b[1;36m1\u001b[0m\u001b[1;33m:\u001b[0m\u001b[1;33m]\u001b[0m\u001b[1;33m,\u001b[0m\u001b[0mb\u001b[0m\u001b[1;33m,\u001b[0m\u001b[0mk\u001b[0m\u001b[1;33m-\u001b[0m\u001b[0mia\u001b[0m\u001b[1;33m-\u001b[0m\u001b[1;36m1\u001b[0m\u001b[1;33m)\u001b[0m\u001b[1;33m)\u001b[0m\u001b[1;33m\u001b[0m\u001b[1;33m\u001b[0m\u001b[0m\n",
      "\u001b[1;32mD:\\TEMP\\ipykernel_3144\\3364268418.py\u001b[0m in \u001b[0;36mkth\u001b[1;34m(a, b, k)\u001b[0m\n\u001b[0;32m      3\u001b[0m     \u001b[0mib\u001b[0m \u001b[1;33m=\u001b[0m \u001b[0mlen\u001b[0m\u001b[1;33m(\u001b[0m\u001b[0mb\u001b[0m\u001b[1;33m)\u001b[0m\u001b[1;33m//\u001b[0m\u001b[1;36m2\u001b[0m\u001b[1;33m\u001b[0m\u001b[1;33m\u001b[0m\u001b[0m\n\u001b[0;32m      4\u001b[0m     \u001b[0mma\u001b[0m \u001b[1;33m=\u001b[0m \u001b[0ma\u001b[0m\u001b[1;33m[\u001b[0m\u001b[0mia\u001b[0m\u001b[1;33m]\u001b[0m\u001b[1;33m\u001b[0m\u001b[1;33m\u001b[0m\u001b[0m\n\u001b[1;32m----> 5\u001b[1;33m     \u001b[0mmb\u001b[0m \u001b[1;33m=\u001b[0m \u001b[0mb\u001b[0m\u001b[1;33m[\u001b[0m\u001b[0mib\u001b[0m\u001b[1;33m]\u001b[0m\u001b[1;33m\u001b[0m\u001b[1;33m\u001b[0m\u001b[0m\n\u001b[0m\u001b[0;32m      6\u001b[0m     \u001b[1;32mif\u001b[0m \u001b[0mia\u001b[0m\u001b[1;33m+\u001b[0m\u001b[0mib\u001b[0m \u001b[1;33m<\u001b[0m \u001b[0mk\u001b[0m\u001b[1;33m:\u001b[0m\u001b[1;33m\u001b[0m\u001b[1;33m\u001b[0m\u001b[0m\n\u001b[0;32m      7\u001b[0m         \u001b[1;32mif\u001b[0m \u001b[0mma\u001b[0m \u001b[1;33m>\u001b[0m\u001b[0mmb\u001b[0m\u001b[1;33m:\u001b[0m\u001b[1;33m\u001b[0m\u001b[1;33m\u001b[0m\u001b[0m\n",
      "\u001b[1;31mIndexError\u001b[0m: list index out of range"
     ]
    }
   ],
   "source": [
    "def kth(a,b,k):\n",
    "    ia = len(a)//2\n",
    "    ib = len(b)//2\n",
    "    ma = a[ia]\n",
    "    mb = b[ib]\n",
    "    if ia+ib < k:\n",
    "        if ma >mb:\n",
    "            print(kth(a,b[ib+1:],k-ib-1))\n",
    "        else:\n",
    "            print(kth(a[ia+1:],b,k-ia-1))\n",
    "    else:\n",
    "        if ma > mb:\n",
    "            print(kth(a[:ia],b,k))\n",
    "        else:\n",
    "            print(kth(a,b[:ib],k))\n",
    "print(kth([5,6],[2,3],2))"
   ]
  },
  {
   "cell_type": "code",
   "execution_count": null,
   "id": "9eaaf12e",
   "metadata": {},
   "outputs": [],
   "source": [
    "permutations\n",
    "\n",
    "1.Return all possible permutations.\n",
    "\n",
    "backtracking recursive function\n",
    "\n",
    "1.checks if the length of our current running subset is equal to the length of the collection given\n",
    "\n",
    "if yes we append our results vasriable with the subset eg- [1,3,2]\n",
    "\n",
    "2. Then we iterate over the range of the length of the collection.\n",
    "\n",
    "if the current number of the collection[i] is not already in our visited set\n",
    "\n",
    "3.Add it to visited\n",
    "\n",
    "call the recursive function,the same as before but this time with the subset + the current number we are iterating over \n",
    "\n",
    "in the collection,such that each iteration has an increasing amount of digits in the subset\n",
    "\n",
    "until we reach the same length as the original collection - where it will be added to our results list\n",
    "\n",
    "we then remove the current number from visited in order to allow for the creatin of new permuations.\n",
    "\n"
   ]
  },
  {
   "cell_type": "code",
   "execution_count": 4,
   "id": "398df35d",
   "metadata": {},
   "outputs": [
    {
     "data": {
      "text/plain": [
       "[[1, 2, 3], [1, 3, 2], [2, 1, 3], [2, 3, 1], [3, 1, 2], [3, 2, 1]]"
      ]
     },
     "execution_count": 4,
     "metadata": {},
     "output_type": "execute_result"
    }
   ],
   "source": [
    "class solution:\n",
    "\n",
    "    '''\n",
    "\n",
    "    level0: []\n",
    "\n",
    "    level1: [1]               [2]              [3]\n",
    "\n",
    "    level2: [1,2][1,3]        [2,1][2,3]       [3,1][3,2]\n",
    "\n",
    "    level2: [1,2,3][1,3,2]    [2,1,3][2,3,1]   [3,1,2][3,2,1]\n",
    "\n",
    "    '''\n",
    "\n",
    "    def permutation(self,nums):\n",
    "\n",
    "        visited = set()\n",
    "\n",
    "        res = []\n",
    "\n",
    "        self.backtracking(res,visited,[],nums)\n",
    "\n",
    "        return res\n",
    "\n",
    "    def backtracking(self,res,visited,subset,nums):\n",
    "\n",
    "        if len(subset) == len(nums):\n",
    "\n",
    "            res.append(subset)\n",
    "\n",
    "        for i in range(len(nums)):\n",
    "\n",
    "            if i not in visited:\n",
    "\n",
    "                visited.add(i)\n",
    "\n",
    "                self.backtracking(res,visited,subset+[nums[i]],nums)\n",
    "\n",
    "                visited.remove(i)\n",
    "\n",
    "s = solution()\n",
    "\n",
    "s.permutation([1,2,3])\n",
    "\n",
    "\n"
   ]
  },
  {
   "cell_type": "markdown",
   "id": "6d3a7352",
   "metadata": {},
   "source": [
    "# Permutations II\n",
    "\n",
    "return all possible unique permutations in any order."
   ]
  },
  {
   "cell_type": "code",
   "execution_count": null,
   "id": "26bf989a",
   "metadata": {},
   "outputs": [],
   "source": [
    "\n",
    "\n",
    "from collections import Counter\n",
    "\n",
    "class solution:\n",
    "\n",
    "    \n",
    "\n",
    "    def permutation(self,nums):\n",
    "\n",
    "        \n",
    "\n",
    "        res = []\n",
    "\n",
    "        \n",
    "\n",
    "        \n",
    "\n",
    "        def backtracking(subset,counter):\n",
    "\n",
    "            if len(subset) == len(nums):\n",
    "\n",
    "                res.append(list(subset))\n",
    "\n",
    "                return \n",
    "\n",
    "            for i in counter:\n",
    "\n",
    "                print(counter)\n",
    "\n",
    "                if Counter[i] > 0:\n",
    "\n",
    "                    subset.append(i)\n",
    "\n",
    "                    counter[i] -=1\n",
    "\n",
    "                    backtracking(subset,counter)\n",
    "\n",
    "                    subset.pop()\n",
    "\n",
    "                    counter[i] +=1\n",
    "\n",
    "        backtracking([],Counter(nums))\n",
    "\n",
    "        return res \n",
    "\n",
    "\n",
    "\n",
    "s = solution()\n",
    "\n",
    "s.permutation([1,2,1])\n",
    "\n"
   ]
  },
  {
   "cell_type": "code",
   "execution_count": 2,
   "id": "14b27b4f",
   "metadata": {},
   "outputs": [
    {
     "data": {
      "text/plain": [
       "[[1, 2, 1], [1, 1, 2], [2, 1, 1]]"
      ]
     },
     "execution_count": 2,
     "metadata": {},
     "output_type": "execute_result"
    }
   ],
   "source": [
    "                      \n",
    "\n",
    "\n",
    "class solution:\n",
    "\n",
    "    def permutation(self,nums):\n",
    "\n",
    "        \n",
    "\n",
    "        res = []\n",
    "\n",
    "        \n",
    "\n",
    "        \n",
    "\n",
    "        def dfs(nums,path,res):\n",
    "\n",
    "            if not nums and path not in res:\n",
    "\n",
    "                res.append(path)\n",
    "\n",
    "            for i in range(len(nums)):\n",
    "\n",
    "                subset = nums[:i] + nums[i+1:]\n",
    "\n",
    "                dfs(subset,path+[nums[i]],res)\n",
    "\n",
    "        dfs(nums,[],res)\n",
    "\n",
    "        return res\n",
    "\n",
    "s = solution()\n",
    "\n",
    "s.permutation([1,2,1])\n",
    "\n"
   ]
  },
  {
   "cell_type": "code",
   "execution_count": 1,
   "id": "df1b338a",
   "metadata": {},
   "outputs": [
    {
     "data": {
      "text/plain": [
       "[[1, 2, 3], [1, 3, 2], [2, 1, 3], [2, 3, 1], [3, 1, 2], [3, 2, 1]]"
      ]
     },
     "execution_count": 1,
     "metadata": {},
     "output_type": "execute_result"
    }
   ],
   "source": [
    "\n",
    "\n",
    "class solution:\n",
    "\n",
    "    def permutation(self,nums):\n",
    "\n",
    "        \n",
    "\n",
    "        res = []\n",
    "\n",
    "        \n",
    "\n",
    "        \n",
    "\n",
    "        def dfs(nums,path,res):\n",
    "\n",
    "            if not nums and path not in res:\n",
    "\n",
    "                res.append(path)\n",
    "\n",
    "            for i in range(len(nums)):\n",
    "\n",
    "                subset = nums[:i] + nums[i+1:]\n",
    "\n",
    "                dfs(subset,path+[nums[i]],res)\n",
    "\n",
    "        dfs(nums,[],res)\n",
    "\n",
    "        return res\n",
    "\n",
    "s = solution()\n",
    "\n",
    "s.permutation([1,2,3])\n",
    "\n",
    "\n"
   ]
  }
 ],
 "metadata": {
  "kernelspec": {
   "display_name": "Python 3 (ipykernel)",
   "language": "python",
   "name": "python3"
  },
  "language_info": {
   "codemirror_mode": {
    "name": "ipython",
    "version": 3
   },
   "file_extension": ".py",
   "mimetype": "text/x-python",
   "name": "python",
   "nbconvert_exporter": "python",
   "pygments_lexer": "ipython3",
   "version": "3.9.13"
  }
 },
 "nbformat": 4,
 "nbformat_minor": 5
}
