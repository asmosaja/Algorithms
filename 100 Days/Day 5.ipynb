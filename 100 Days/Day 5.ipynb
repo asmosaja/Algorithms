{
 "cells": [
  {
   "cell_type": "markdown",
   "id": "2495d765",
   "metadata": {},
   "source": [
    "# 1.Minimum Number of Arrows to Burst Balloons"
   ]
  },
  {
   "cell_type": "markdown",
   "id": "387060d3",
   "metadata": {},
   "source": [
    "## When looking at a ranges/intervals-related problem, it is always good to sort the array first."
   ]
  },
  {
   "cell_type": "code",
   "execution_count": null,
   "id": "8db00472",
   "metadata": {},
   "outputs": [],
   "source": [
    "Algorithm:\n",
    "\n",
    "    Sort the points based on the end of each point.\n",
    "    Initialize the curEnd as the end value of the first point. (Shotting the first balloon)\n",
    "    For each point:\n",
    "        if its start point is larger than the curEnd, add one more arrow, and update the curEnd to the new endpoint.\n"
   ]
  },
  {
   "cell_type": "code",
   "execution_count": 10,
   "id": "83c8a39a",
   "metadata": {},
   "outputs": [
    {
     "name": "stdout",
     "output_type": "stream",
     "text": [
      "8\n",
      "2 8\n",
      "1 9\n",
      "7 12\n",
      "10 16\n"
     ]
    },
    {
     "data": {
      "text/plain": [
       "2"
      ]
     },
     "execution_count": 10,
     "metadata": {},
     "output_type": "execute_result"
    }
   ],
   "source": [
    "class Solution:\n",
    "    def findMinArrowShots(self, points: list[list[int]]) :\n",
    "        points.sort(key=lambda x:x[1])\n",
    "        res, curEnd = 1, points[0][1]\n",
    "        print(curEnd)\n",
    "        for start,end in points:\n",
    "            print(start,end)\n",
    "            if start>curEnd:\n",
    "                curEnd = end\n",
    "                res += 1\n",
    "        return res\n",
    "s = Solution()\n",
    "s.findMinArrowShots([[10,16],[2,8],[1,9],[7,12]])\n",
    "    "
   ]
  },
  {
   "cell_type": "code",
   "execution_count": 4,
   "id": "91c036d0",
   "metadata": {},
   "outputs": [
    {
     "name": "stdout",
     "output_type": "stream",
     "text": [
      "None\n"
     ]
    }
   ],
   "source": [
    "points = [[10,16],[2,8],[1,6],[7,12]]\n",
    "s = points.sort()\n",
    "print(s)"
   ]
  },
  {
   "cell_type": "code",
   "execution_count": 6,
   "id": "a5141043",
   "metadata": {},
   "outputs": [
    {
     "name": "stdout",
     "output_type": "stream",
     "text": [
      "None\n"
     ]
    }
   ],
   "source": [
    "g = points.sort(key = lambda x:x[1])\n",
    "print(g)"
   ]
  },
  {
   "cell_type": "code",
   "execution_count": 7,
   "id": "d4c87fbe",
   "metadata": {},
   "outputs": [
    {
     "ename": "TypeError",
     "evalue": "'NoneType' object is not iterable",
     "output_type": "error",
     "traceback": [
      "\u001b[1;31m---------------------------------------------------------------------------\u001b[0m",
      "\u001b[1;31mTypeError\u001b[0m                                 Traceback (most recent call last)",
      "\u001b[1;32mD:\\TEMP\\ipykernel_22580\\372396425.py\u001b[0m in \u001b[0;36m<module>\u001b[1;34m\u001b[0m\n\u001b[1;32m----> 1\u001b[1;33m \u001b[1;32mfor\u001b[0m \u001b[0ms\u001b[0m\u001b[1;33m,\u001b[0m\u001b[0me\u001b[0m \u001b[1;32min\u001b[0m \u001b[0mg\u001b[0m\u001b[1;33m:\u001b[0m\u001b[1;33m\u001b[0m\u001b[1;33m\u001b[0m\u001b[0m\n\u001b[0m\u001b[0;32m      2\u001b[0m     \u001b[0mprint\u001b[0m\u001b[1;33m(\u001b[0m\u001b[0ms\u001b[0m\u001b[1;33m,\u001b[0m\u001b[0me\u001b[0m\u001b[1;33m,\u001b[0m\u001b[0mend\u001b[0m \u001b[1;33m=\u001b[0m \u001b[1;34m\" \"\u001b[0m\u001b[1;33m)\u001b[0m\u001b[1;33m\u001b[0m\u001b[1;33m\u001b[0m\u001b[0m\n",
      "\u001b[1;31mTypeError\u001b[0m: 'NoneType' object is not iterable"
     ]
    }
   ],
   "source": [
    "for s,e in g:\n",
    "    print(s,e,end = \" \")"
   ]
  },
  {
   "cell_type": "code",
   "execution_count": null,
   "id": "a7a95ce8",
   "metadata": {},
   "outputs": [],
   "source": []
  },
  {
   "cell_type": "markdown",
   "id": "c12cfccf",
   "metadata": {},
   "source": [
    "# 2. Minimum Moves to Equal Array Elements\n"
   ]
  },
  {
   "cell_type": "code",
   "execution_count": null,
   "id": "840a493d",
   "metadata": {},
   "outputs": [],
   "source": [
    "algorithm \n",
    "1.sort\n",
    "2."
   ]
  },
  {
   "cell_type": "code",
   "execution_count": null,
   "id": "14a2871b",
   "metadata": {},
   "outputs": [],
   "source": [
    "Method 1:\n",
    "Sort first.\n",
    "\n",
    "Time: O(nlgn)\n",
    "Space: O(1)\n",
    "\n",
    "class Solution:\n",
    "    def minMoves(self, nums: List[int]) -> int:\n",
    "        \n",
    "        if not nums:\n",
    "            return 0\n",
    "        \n",
    "        res = 0\n",
    "        nums.sort()      \n",
    "        for i in range(1, len(nums)):\n",
    "            res += nums[i] - nums[0]\n",
    "        \n",
    "        return res"
   ]
  },
  {
   "cell_type": "code",
   "execution_count": null,
   "id": "a7837029",
   "metadata": {},
   "outputs": [],
   "source": [
    "methos 2 class Solution:\n",
    "\tdef minMoves(self, nums: List[int]) -> int:\n",
    "\t\t_sum, _min = 0, float('inf')\n",
    "\t\tfor num in nums:\n",
    "\t\t\t_sum += num\n",
    "\t\t\t_min = _min if _min < num else num\n",
    "\t\treturn _sum-_min*len(nums)\n",
    "\n",
    "TC: O(n) simple loop through nums\n",
    "SC:O(1)"
   ]
  },
  {
   "cell_type": "markdown",
   "id": "05600531",
   "metadata": {},
   "source": [
    "# 3.Non-overlapping Intervals\n"
   ]
  },
  {
   "cell_type": "code",
   "execution_count": null,
   "id": "ff22be6f",
   "metadata": {},
   "outputs": [],
   "source": [
    "Input: intervals = [[1,2],[2,3],[3,4],[1,3]]\n",
    "Output: 1\n",
    "Explanation: [1,3] can be removed and the rest of the intervals are non-overlapping."
   ]
  },
  {
   "cell_type": "code",
   "execution_count": null,
   "id": "eb5d9bab",
   "metadata": {},
   "outputs": [],
   "source": [
    "algorithm\n",
    "key concept : pick interval with smallest end, because smallest end can hold most intervals. keep track of current element end. if next start is more than global end, remove that next element\n",
    "1. sort by ending.\n",
    "2 . keep track of previous end\n",
    "3. if the next start > previous end, remove element\n",
    "\n",
    "example:\n",
    "arr : [[1,2],[2,3],[3,4],[1,3]]\n",
    "sorted by end: [[1, 2], [2, 3], [1, 3], [3, 4]]\n",
    "\n",
    "    intervals with lowest end will allow us to fit more intervals\n",
    "    if the previous end is more than the next start, remove it.\n",
    "    in this case since [1,3] is removed since 1 is smaller than 3 of the previous end.\n",
    "    because this means that the interval has a smaller start than previous, but a bigger end which means that its interval is bigger and hence we should remove it\n"
   ]
  },
  {
   "cell_type": "code",
   "execution_count": 11,
   "id": "a3b94907",
   "metadata": {},
   "outputs": [
    {
     "data": {
      "text/plain": [
       "1"
      ]
     },
     "execution_count": 11,
     "metadata": {},
     "output_type": "execute_result"
    }
   ],
   "source": [
    "class Solution:\n",
    "    def eraseOverlapIntervals(self, intervals: list[list[int]]) -> int:\n",
    "        end, cnt = float('-inf'), 0\n",
    "        for s, e in sorted(intervals, key=lambda x: x[1]):\n",
    "            if s >= end: \n",
    "                end = e\n",
    "            else: \n",
    "                cnt += 1\n",
    "        return cnt\n",
    "s = Solution()\n",
    "s.eraseOverlapIntervals([[1,2],[2,3],[3,4],[1,3]])"
   ]
  },
  {
   "cell_type": "markdown",
   "id": "7dc45118",
   "metadata": {},
   "source": [
    "# 4.Find All Numbers Disappeared in an Array\n"
   ]
  },
  {
   "cell_type": "markdown",
   "id": "95368898",
   "metadata": {},
   "source": [
    "# 5.Find All Duplicates in an Array\n"
   ]
  },
  {
   "cell_type": "code",
   "execution_count": 3,
   "id": "8e6a6490",
   "metadata": {},
   "outputs": [
    {
     "name": "stdout",
     "output_type": "stream",
     "text": [
      "[1, 3, 2, 5, 2, 9, 8, 78, 56]\n"
     ]
    }
   ],
   "source": [
    "# Rearrange an array such that numbers at even indexes are greater than numbers \n",
    "# at odd indexes\n",
    "\n",
    "def rearrange(arr):\n",
    "    for i in range(1, len(arr)):\n",
    "        if i % 2 == 0:\n",
    "            if arr[i] > arr[i-1]:\n",
    "                arr[i-1], arr[i] = arr[i], arr[i-1]\n",
    "        else:\n",
    "            if arr[i] < arr[i-1]:\n",
    "                arr[i-1], arr[i] = arr[i], arr[i-1]\n",
    "    print(arr)\n",
    "\n",
    "\n",
    "arr = [ 1, 3, 2, 2, 5,8,9,56,78 ]\n",
    "rearrange(arr)"
   ]
  },
  {
   "cell_type": "code",
   "execution_count": null,
   "id": "9a7b6262",
   "metadata": {},
   "outputs": [],
   "source": []
  },
  {
   "cell_type": "code",
   "execution_count": 7,
   "id": "2756234f",
   "metadata": {},
   "outputs": [
    {
     "name": "stdout",
     "output_type": "stream",
     "text": [
      "89\n"
     ]
    }
   ],
   "source": [
    "def secondlarge(ele):\n",
    "    large= ele[0]\n",
    "    second = ele[0]\n",
    "    \n",
    "    for i in ele:\n",
    "        \n",
    "        if i>large:\n",
    "            second = large\n",
    "            large = i\n",
    "        elif i < large and second >i:\n",
    "            second = i\n",
    "    print(second)\n",
    "secondlarge([2,3,4,5,6,5,4,7,89,90])"
   ]
  },
  {
   "cell_type": "code",
   "execution_count": 11,
   "id": "d087b690",
   "metadata": {},
   "outputs": [
    {
     "ename": "TypeError",
     "evalue": "can only concatenate list (not \"int\") to list",
     "output_type": "error",
     "traceback": [
      "\u001b[1;31m---------------------------------------------------------------------------\u001b[0m",
      "\u001b[1;31mTypeError\u001b[0m                                 Traceback (most recent call last)",
      "\u001b[1;32mD:\\TEMP\\ipykernel_16268\\1136266598.py\u001b[0m in \u001b[0;36m<module>\u001b[1;34m\u001b[0m\n\u001b[0;32m     10\u001b[0m             \u001b[0mmissing\u001b[0m\u001b[1;33m.\u001b[0m\u001b[0mappend\u001b[0m\u001b[1;33m(\u001b[0m\u001b[0mi\u001b[0m\u001b[1;33m)\u001b[0m\u001b[1;33m\u001b[0m\u001b[1;33m\u001b[0m\u001b[0m\n\u001b[0;32m     11\u001b[0m     \u001b[0mprint\u001b[0m\u001b[1;33m(\u001b[0m\u001b[0mmissing\u001b[0m\u001b[1;33m)\u001b[0m\u001b[1;33m\u001b[0m\u001b[1;33m\u001b[0m\u001b[0m\n\u001b[1;32m---> 12\u001b[1;33m \u001b[0msolve\u001b[0m\u001b[1;33m(\u001b[0m\u001b[1;33m[\u001b[0m\u001b[1;36m1\u001b[0m\u001b[1;33m,\u001b[0m\u001b[1;36m5\u001b[0m\u001b[1;33m,\u001b[0m\u001b[1;36m6\u001b[0m\u001b[1;33m,\u001b[0m\u001b[1;36m7\u001b[0m\u001b[1;33m,\u001b[0m\u001b[1;36m4\u001b[0m\u001b[1;33m,\u001b[0m\u001b[1;36m9\u001b[0m\u001b[1;33m]\u001b[0m\u001b[1;33m)\u001b[0m\u001b[1;33m\u001b[0m\u001b[1;33m\u001b[0m\u001b[0m\n\u001b[0m",
      "\u001b[1;32mD:\\TEMP\\ipykernel_16268\\1136266598.py\u001b[0m in \u001b[0;36msolve\u001b[1;34m(nums)\u001b[0m\n\u001b[0;32m      1\u001b[0m \u001b[1;32mdef\u001b[0m \u001b[0msolve\u001b[0m\u001b[1;33m(\u001b[0m\u001b[0mnums\u001b[0m\u001b[1;33m)\u001b[0m\u001b[1;33m:\u001b[0m\u001b[1;33m\u001b[0m\u001b[1;33m\u001b[0m\u001b[0m\n\u001b[1;32m----> 2\u001b[1;33m     \u001b[0marr\u001b[0m \u001b[1;33m=\u001b[0m \u001b[1;33m[\u001b[0m\u001b[1;36m0\u001b[0m\u001b[1;33m]\u001b[0m \u001b[1;33m*\u001b[0m\u001b[0mlen\u001b[0m\u001b[1;33m(\u001b[0m\u001b[0mnums\u001b[0m\u001b[1;33m)\u001b[0m\u001b[1;33m+\u001b[0m\u001b[1;36m1\u001b[0m\u001b[1;33m\u001b[0m\u001b[1;33m\u001b[0m\u001b[0m\n\u001b[0m\u001b[0;32m      3\u001b[0m     \u001b[1;32mfor\u001b[0m \u001b[0mi\u001b[0m \u001b[1;32min\u001b[0m \u001b[0mnums\u001b[0m\u001b[1;33m:\u001b[0m\u001b[1;33m\u001b[0m\u001b[1;33m\u001b[0m\u001b[0m\n\u001b[0;32m      4\u001b[0m         \u001b[0marr\u001b[0m\u001b[1;33m[\u001b[0m\u001b[0mi\u001b[0m\u001b[1;33m]\u001b[0m\u001b[1;33m+=\u001b[0m\u001b[1;36m1\u001b[0m\u001b[1;33m\u001b[0m\u001b[1;33m\u001b[0m\u001b[0m\n\u001b[0;32m      5\u001b[0m     \u001b[0mprint\u001b[0m\u001b[1;33m(\u001b[0m\u001b[0marr\u001b[0m\u001b[1;33m)\u001b[0m\u001b[1;33m\u001b[0m\u001b[1;33m\u001b[0m\u001b[0m\n",
      "\u001b[1;31mTypeError\u001b[0m: can only concatenate list (not \"int\") to list"
     ]
    }
   ],
   "source": [
    "def solve(nums):\n",
    "    arr = [0] *len(nums)+1\n",
    "    for i in nums:\n",
    "        arr[i]+=1\n",
    "    print(arr)\n",
    "    missing = []\n",
    "    for i in range(len(arr)):\n",
    "        \n",
    "        if arr[i]!=0 and i !=0:\n",
    "            missing.append(i)\n",
    "    print(missing)\n",
    "solve([1,5,6,7,4,9])"
   ]
  },
  {
   "cell_type": "code",
   "execution_count": 19,
   "id": "bcfa626b",
   "metadata": {},
   "outputs": [
    {
     "name": "stdout",
     "output_type": "stream",
     "text": [
      "[0, 0, 2, 0, 2, 0, 2]\n"
     ]
    }
   ],
   "source": [
    "def solve(nums):\n",
    "    arr = [0] *(len(nums)+1)#changes is here\n",
    "    for i in nums:\n",
    "        arr[i] +=1\n",
    "    \n",
    "    print(arr)\n",
    "solve([4,4,6,6,2,2])"
   ]
  },
  {
   "cell_type": "code",
   "execution_count": 29,
   "id": "1f1f5dd4",
   "metadata": {},
   "outputs": [
    {
     "name": "stdout",
     "output_type": "stream",
     "text": [
      "[0, 0, 2, 0, 2, 0, 2]\n",
      "[1, 3, 5]\n",
      "None\n"
     ]
    }
   ],
   "source": [
    "def solve(nums):\n",
    "    arr = [0] *(len(nums)+1)#changes is here\n",
    "    for i in nums:\n",
    "        arr[i] +=1\n",
    "    missing = []\n",
    "    for i in range(len(arr)):\n",
    "        if arr[i] ==0 and i!= 0:\n",
    "            missing.append(i)\n",
    "    print(arr)\n",
    "    print(missing)\n",
    "\n",
    "print(solve([4,4,6,6,2,2]))\n",
    "    \n"
   ]
  },
  {
   "cell_type": "code",
   "execution_count": 15,
   "id": "1ef05383",
   "metadata": {},
   "outputs": [
    {
     "name": "stdout",
     "output_type": "stream",
     "text": [
      "[1, 3, 5]\n"
     ]
    }
   ],
   "source": [
    "class solution:\n",
    "    def solve(self,nums):\n",
    "        arr = [0]*(len(nums)+1)\n",
    "        for i in nums:\n",
    "            arr[i] +=1\n",
    "        missing = []\n",
    "        for i in range(len(arr)):\n",
    "            if arr[i] ==0 and i!= 0:\n",
    "                missing.append(i)\n",
    "        return missing \n",
    "ob = solution()\n",
    "print(ob.solve([4,4,6,6,2,2]))"
   ]
  },
  {
   "cell_type": "code",
   "execution_count": 31,
   "id": "d589a9d4",
   "metadata": {},
   "outputs": [
    {
     "name": "stdout",
     "output_type": "stream",
     "text": [
      "[3, 4, 5, 6, 7, 1]\n",
      "3 4 5 6 7 1 "
     ]
    }
   ],
   "source": [
    "def arrayrotate(ele,d):\n",
    "    k = ele.index(d)\n",
    "    newlist = []\n",
    "    arr = ele[k+1:] + ele[0:k]\n",
    "    print(arr)\n",
    "    \n",
    "    for i in arr:\n",
    "        \n",
    "        print(i,end = \" \")\n",
    "arrayrotate([1,2,3,4,5,6,7],2 )"
   ]
  },
  {
   "cell_type": "code",
   "execution_count": 34,
   "id": "4afdbfbd",
   "metadata": {},
   "outputs": [
    {
     "name": "stdout",
     "output_type": "stream",
     "text": [
      "[0, 0, 0, 0, 0, 1, 1, 1, 1, 1, 2, 2]\n",
      "0 0 0 0 0 1 1 1 1 1 2 2 "
     ]
    }
   ],
   "source": [
    "def sortarray(a):\n",
    "    mid =0\n",
    "    start =0\n",
    "    end = len(a)-1\n",
    "    \n",
    "    while mid <= end:\n",
    "        if a[mid] == 0:\n",
    "            a[start],a[mid] = a[mid],a[start]\n",
    "            start +=1\n",
    "            mid+=1\n",
    "        elif a[mid] == 1:\n",
    "            mid +=1\n",
    "        else:\n",
    "            a[end],a[mid] = a[mid],a[end]\n",
    "            end = end -1\n",
    "    print(a)\n",
    "    for k in a:\n",
    "            print(k,end = \" \")\n",
    "a = [0, 1, 1, 0, 1, 2, 1, 2, 0, 0, 0, 1]\n",
    "arr = sortarray(a)\n"
   ]
  },
  {
   "cell_type": "code",
   "execution_count": 37,
   "id": "5c7196c1",
   "metadata": {},
   "outputs": [
    {
     "name": "stdout",
     "output_type": "stream",
     "text": [
      "5\n"
     ]
    }
   ],
   "source": [
    "def minswaps(arr,n):\n",
    "    ans =0\n",
    "    temp =arr.copy() \n",
    "    temp.sort()\n",
    "    #print(temp)\n",
    "    for i in range(n):\n",
    "        if(arr[i] != temp[i]):# This is checking whether\n",
    "        # the current element is\n",
    "        # at the right place or not\n",
    "            ans +=1\n",
    "            # Swap the current element\n",
    "            # with the right index\n",
    "            # so that arr[0] to arr[0i06*9+9999999yuhhhn ]\n",
    "            # is sorted\n",
    "            swap(arr,i,indexof(arr,temp[i]))\n",
    "    return ans\n",
    "\n",
    "def swap(arr,i,j):\n",
    "    temp = arr[i]\n",
    "    arr[i] = arr[j]\n",
    "    arr[j]= temp\n",
    "\n",
    "def indexof(arr,ele):\n",
    "    for i in range(len(arr)):\n",
    "        if (arr[i] == ele):\n",
    "            return i\n",
    "    return -1\n",
    "\n",
    "if __name__ == \"__main__\":\n",
    "    a = [101, 758, 315, 730,\n",
    "           472, 619, 460, 479]\n",
    "    n = len(a)\n",
    "    print(minswaps(a,n))\n",
    "            "
   ]
  },
  {
   "cell_type": "code",
   "execution_count": 44,
   "id": "bccbf354",
   "metadata": {},
   "outputs": [
    {
     "name": "stdout",
     "output_type": "stream",
     "text": [
      "4 times 54 has occurred\n"
     ]
    }
   ],
   "source": [
    "lst = [1,2,3,4,5,66,77,54,32,45,54,67,54,89,54]\n",
    "count = 0\n",
    "temp = 0\n",
    "index =0\n",
    "for i in range(len(lst)):\n",
    "    temp = lst.count(lst[i])\n",
    "    \n",
    "    if temp >count :\n",
    "        count = temp\n",
    "        index = i\n",
    "print(count,\"times\" ,lst[i],\"has occurred\")"
   ]
  },
  {
   "cell_type": "code",
   "execution_count": null,
   "id": "2d370ce8",
   "metadata": {},
   "outputs": [],
   "source": []
  },
  {
   "cell_type": "code",
   "execution_count": null,
   "id": "a0752038",
   "metadata": {},
   "outputs": [],
   "source": []
  },
  {
   "cell_type": "code",
   "execution_count": null,
   "id": "4821b792",
   "metadata": {},
   "outputs": [],
   "source": []
  },
  {
   "cell_type": "code",
   "execution_count": null,
   "id": "6523b19f",
   "metadata": {},
   "outputs": [],
   "source": []
  }
 ],
 "metadata": {
  "kernelspec": {
   "display_name": "Python 3 (ipykernel)",
   "language": "python",
   "name": "python3"
  },
  "language_info": {
   "codemirror_mode": {
    "name": "ipython",
    "version": 3
   },
   "file_extension": ".py",
   "mimetype": "text/x-python",
   "name": "python",
   "nbconvert_exporter": "python",
   "pygments_lexer": "ipython3",
   "version": "3.9.13"
  }
 },
 "nbformat": 4,
 "nbformat_minor": 5
}
