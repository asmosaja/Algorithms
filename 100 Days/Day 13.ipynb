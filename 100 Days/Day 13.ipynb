{
 "cells": [
  {
   "cell_type": "code",
   "execution_count": 7,
   "id": "c967698b",
   "metadata": {},
   "outputs": [
    {
     "name": "stdout",
     "output_type": "stream",
     "text": [
      "str_nums =  ['2', '5', '10', '20']\n",
      "mylist: [2]\n",
      "accumulation: []\n",
      "mylist: [2, 5]\n",
      "accumulation: [2]\n",
      "mylist: [2, 5, 10]\n",
      "accumulation: [2, 7]\n",
      "mylist: [2, 5, 10, 20]\n",
      "accumulation: [2, 7, 17]\n",
      "accumulation =  [2, 7, 17, 37]\n",
      "mylist =  [2, 5, 10, 20]\n"
     ]
    }
   ],
   "source": [
    "accumulation = []\n",
    "mylist = []\n",
    "\n",
    "addition_str = \"2+5+10+20\"\n",
    "str_nums = (addition_str.split(\"+\"))\n",
    "print('str_nums = ',str_nums)\n",
    "for i in str_nums:\n",
    "    mylist.append(int(i))\n",
    "    print('mylist:',mylist)\n",
    "    print('accumulation:',accumulation)\n",
    "    accumulation.append(sum(mylist))\n",
    "print('accumulation = ',accumulation)\n",
    "print('mylist = ',mylist)\n",
    "    \n",
    "    "
   ]
  },
  {
   "cell_type": "code",
   "execution_count": null,
   "id": "7749c7fa",
   "metadata": {},
   "outputs": [],
   "source": []
  }
 ],
 "metadata": {
  "kernelspec": {
   "display_name": "Python 3 (ipykernel)",
   "language": "python",
   "name": "python3"
  },
  "language_info": {
   "codemirror_mode": {
    "name": "ipython",
    "version": 3
   },
   "file_extension": ".py",
   "mimetype": "text/x-python",
   "name": "python",
   "nbconvert_exporter": "python",
   "pygments_lexer": "ipython3",
   "version": "3.9.12"
  }
 },
 "nbformat": 4,
 "nbformat_minor": 5
}
