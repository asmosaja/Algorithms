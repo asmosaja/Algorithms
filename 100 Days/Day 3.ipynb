{
 "cells": [
  {
   "cell_type": "markdown",
   "id": "1219479c",
   "metadata": {},
   "source": [
    "# 1. Find maximum duplicate element"
   ]
  },
  {
   "cell_type": "code",
   "execution_count": 14,
   "id": "15fc3806",
   "metadata": {},
   "outputs": [
    {
     "name": "stdout",
     "output_type": "stream",
     "text": [
      "most frequent no in list: 3\n",
      "original list: [1, 1, 2, 2, 5, 6, 7, 8, 9, 3, 3, 3, 3, 4, 5]\n",
      "it ocuurs 4 times in lst\n"
     ]
    }
   ],
   "source": [
    "lst = [1,1,2,2,5,6,7,8,9,3,3,3,3,4,5]\n",
    "count = 0\n",
    "temp = 0\n",
    "index =0\n",
    "for i in range(len(lst)):\n",
    "    temp = lst.count(lst[i])\n",
    "    #print(lst[i],temp) \n",
    "    \n",
    "    if temp > count:\n",
    "        temp\n",
    "        index=i\n",
    "        count = \n",
    "print('most frequent no in list:',lst[index])\n",
    "print('original list:',lst)\n",
    "print('it ocuurs',count,'times in lst')"
   ]
  },
  {
   "cell_type": "markdown",
   "id": "85091aae",
   "metadata": {},
   "source": [
    "# using list to display the count of the  element"
   ]
  },
  {
   "cell_type": "code",
   "execution_count": 5,
   "id": "b42af537",
   "metadata": {},
   "outputs": [
    {
     "name": "stdout",
     "output_type": "stream",
     "text": [
      "1 = 2\n",
      "1 = 2\n",
      "2 = 3\n",
      "2 = 3\n",
      "2 = 3\n",
      "3 = 1\n",
      "4 = 1\n",
      "5 = 1\n"
     ]
    }
   ],
   "source": [
    "lst = [1,1,2,2,2,3,4,5]\n",
    "count = 0\n",
    "temp = 0\n",
    "index =0\n",
    "for i in range(len(lst)):\n",
    "    temp = lst.count(lst[i])\n",
    "    print(lst[i],'=',temp) \n",
    "    "
   ]
  },
  {
   "cell_type": "code",
   "execution_count": null,
   "id": "c406b482",
   "metadata": {},
   "outputs": [],
   "source": [
    "Using count() method\n"
   ]
  },
  {
   "cell_type": "markdown",
   "id": "f060c178",
   "metadata": {},
   "source": [
    "# # program to print duplicate numbers in a given list provided input\n"
   ]
  },
  {
   "cell_type": "code",
   "execution_count": 16,
   "id": "6422396d",
   "metadata": {},
   "outputs": [
    {
     "name": "stdout",
     "output_type": "stream",
     "text": [
      "[1, 2, 5, 9]\n"
     ]
    }
   ],
   "source": [
    "list = [1, 2, 1, 2, 3, 4, 5, 1, 1, 2, 5, 6, 7, 8, 9, 9]\n",
    "new = []  # defining output list\n",
    "# condition for reviewing every\n",
    "# element of given input list\n",
    "for a in list:\n",
    "    # checking the occurrence of elements\n",
    "    n = list.count(a)\n",
    "    # if the occurrence is more than\n",
    "    # one we add it to the output list\n",
    "    if n > 1:\n",
    "        if new.count(a) == 0:  # condition to check\n",
    "            new.append(a)\n",
    "print(new)"
   ]
  },
  {
   "cell_type": "markdown",
   "id": "1f5cb40b",
   "metadata": {},
   "source": [
    "# using list to display the count of the  element"
   ]
  },
  {
   "cell_type": "code",
   "execution_count": 13,
   "id": "ddbe8206",
   "metadata": {},
   "outputs": [
    {
     "name": "stdout",
     "output_type": "stream",
     "text": [
      "{1: 1} : 1\n",
      "{1: 2} : 2\n",
      "{1: 2, 2: 1} : 1\n",
      "{1: 2, 2: 2} : 2\n",
      "{1: 2, 2: 3} : 3\n",
      "{1: 2, 2: 3, 3: 1} : 1\n",
      "{1: 2, 2: 3, 3: 1, 4: 1} : 1\n",
      "{1: 2, 2: 3, 3: 1, 4: 1, 5: 1} : 1\n"
     ]
    }
   ],
   "source": [
    "lst = [1,1,2,2,2,3,4,5]\n",
    "d = {}\n",
    "\n",
    "for i in lst:\n",
    "    d[i] = d.get(i,0)+1\n",
    "    print(d,':',d[i]) \n",
    "    "
   ]
  },
  {
   "cell_type": "code",
   "execution_count": 1,
   "id": "d06ae352",
   "metadata": {},
   "outputs": [],
   "source": [
    "lst = [1,1,2,2,2,3,4,5]\n",
    "d = {}\n",
    "\n",
    "for i in lst:\n",
    "    d[i] = d.get(i,0)+1\n",
    "    "
   ]
  },
  {
   "cell_type": "code",
   "execution_count": 17,
   "id": "89e1fd49",
   "metadata": {},
   "outputs": [
    {
     "name": "stdout",
     "output_type": "stream",
     "text": [
      "[1, 2, 5, 9]\n"
     ]
    }
   ],
   "source": [
    "def duplicate(input_list):\n",
    "\tnew_dict, new_list = {}, []\n",
    "\n",
    "\tfor i in input_list:\n",
    "\t\tif not i in new_dict:\n",
    "\t\t\tnew_dict[i] = 1\n",
    "\t\telse:\n",
    "\t\t\tnew_dict[i] += 1\n",
    "\n",
    "\tfor key, values in new_dict.items():\n",
    "\t\tif values > 1:\n",
    "\t\t\tnew_list.append(key)\n",
    "\n",
    "\treturn new_list\n",
    "\n",
    "if __name__ == '__main__':\n",
    "\tinput_list = [1, 2, 1, 2, 3, 4, 5, 1, 1, 2, 5, 6, 7, 8, 9, 9]\n",
    "\tprint(duplicate(input_list))\n",
    "\n"
   ]
  },
  {
   "cell_type": "markdown",
   "id": "1d1fa683",
   "metadata": {},
   "source": [
    "# Python program to print duplicates from a list of integers\n"
   ]
  },
  {
   "cell_type": "code",
   "execution_count": 11,
   "id": "f774f2ce",
   "metadata": {},
   "outputs": [
    {
     "name": "stdout",
     "output_type": "stream",
     "text": [
      "[1, 2, 5, 9]\n"
     ]
    }
   ],
   "source": [
    "lis = [1, 2, 1, 2, 3, 4, 5, 1, 1, 2, 5, 6, 7, 8, 9, 9]\n",
    "uniqueList = []\n",
    "duplicateList = []\n",
    "for i in lis:\n",
    "    if i not in uniqueList:\n",
    "        uniqueList.append(i)\n",
    "    elif i not in duplicateList:\n",
    "        duplicateList.append(i)\n",
    "print(duplicateList)"
   ]
  },
  {
   "cell_type": "markdown",
   "id": "357b5dff",
   "metadata": {},
   "source": [
    "# 3.TO REMOVE DUPLICATES IN LIST USING DICT.FROMKEYS FUNCTION."
   ]
  },
  {
   "cell_type": "code",
   "execution_count": 2,
   "id": "de1d0a88",
   "metadata": {},
   "outputs": [
    {
     "name": "stdout",
     "output_type": "stream",
     "text": [
      "['a', 'b', 'c']\n"
     ]
    }
   ],
   "source": [
    "mylist = [\"a\", \"b\", \"a\", \"c\", \"c\"]\n",
    "mylist = list(dict.fromkeys(mylist))\n",
    "print(mylist)"
   ]
  },
  {
   "cell_type": "code",
   "execution_count": null,
   "id": "fa94b3f8",
   "metadata": {},
   "outputs": [],
   "source": []
  }
 ],
 "metadata": {
  "kernelspec": {
   "display_name": "Python 3 (ipykernel)",
   "language": "python",
   "name": "python3"
  },
  "language_info": {
   "codemirror_mode": {
    "name": "ipython",
    "version": 3
   },
   "file_extension": ".py",
   "mimetype": "text/x-python",
   "name": "python",
   "nbconvert_exporter": "python",
   "pygments_lexer": "ipython3",
   "version": "3.9.13"
  }
 },
 "nbformat": 4,
 "nbformat_minor": 5
}
