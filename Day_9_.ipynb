{
  "nbformat": 4,
  "nbformat_minor": 0,
  "metadata": {
    "colab": {
      "provenance": []
    },
    "kernelspec": {
      "name": "python3",
      "display_name": "Python 3"
    },
    "language_info": {
      "name": "python"
    }
  },
  "cells": [
    {
      "cell_type": "markdown",
      "source": [
        "Finding the fibonacci number."
      ],
      "metadata": {
        "id": "DEwl0dJR15Mr"
      }
    },
    {
      "cell_type": "code",
      "source": [
        "k = 9\n",
        "fib = [1,1]\n",
        "temp = fib[0]+fib[1]\n",
        "i=1\n",
        "while temp< k:\n",
        "  fib.append(temp)\n",
        "  i +=1\n",
        "  temp = fib[i]+fib[i-1]\n",
        "\n",
        "print(fib)"
      ],
      "metadata": {
        "colab": {
          "base_uri": "https://localhost:8080/"
        },
        "id": "UIePyc3G2C98",
        "outputId": "92859ff1-9a0a-4542-e4ed-4f4c01f3d3e2"
      },
      "execution_count": null,
      "outputs": [
        {
          "output_type": "stream",
          "name": "stdout",
          "text": [
            "[1, 1, 2, 3, 5, 8]\n"
          ]
        }
      ]
    },
    {
      "cell_type": "code",
      "source": [
        "k = 9\n",
        "fib =[1,1]\n",
        "i = 1\n",
        "temp = fib[0]+fib[1]\n",
        "while temp <= k:\n",
        "  fib.append(temp)\n",
        "  i+=1\n",
        "  temp = fib[i] + fib[i-1]\n",
        "\n",
        "print(fib)"
      ],
      "metadata": {
        "colab": {
          "base_uri": "https://localhost:8080/"
        },
        "id": "HWZ9LLm83e6l",
        "outputId": "dbc9173e-22cf-4f01-f9f0-73855f903194"
      },
      "execution_count": null,
      "outputs": [
        {
          "output_type": "stream",
          "name": "stdout",
          "text": [
            "[1, 1, 2, 3, 5, 8]\n"
          ]
        }
      ]
    },
    {
      "cell_type": "code",
      "source": [
        "k = 9\n",
        "fib = [1,1]\n",
        "temp = fib[0]+fib[1]\n",
        "i =1\n",
        "print(temp)\n",
        "while temp <= k:\n",
        "  fib.append(temp)\n",
        "  i+=1\n",
        "  temp = fib[i]+fib[i-1]\n",
        "fib.append(temp)\n",
        "print(fib)\n",
        "print(temp)\n"
      ],
      "metadata": {
        "colab": {
          "base_uri": "https://localhost:8080/"
        },
        "id": "d9uWJRFj31pa",
        "outputId": "ae9f5989-d704-485e-9772-d9b4ac5b3b4a"
      },
      "execution_count": null,
      "outputs": [
        {
          "output_type": "stream",
          "name": "stdout",
          "text": [
            "2\n",
            "[1, 1, 2, 3, 5, 8, 13]\n",
            "13\n"
          ]
        }
      ]
    },
    {
      "cell_type": "code",
      "execution_count": null,
      "metadata": {
        "colab": {
          "base_uri": "https://localhost:8080/"
        },
        "id": "IuiLD1m91kfI",
        "outputId": "929fda3b-3f06-4a43-ab1f-fb7a4b378c36"
      },
      "outputs": [
        {
          "output_type": "stream",
          "name": "stdout",
          "text": [
            "[1, 1, 2, 3, 5, 8, 13]\n"
          ]
        }
      ],
      "source": [
        "k=9\n",
        "fib = [1, 1] # initializing a Fibonacci table with F[0] and F[1]\n",
        "i = 1 # index that will represent the last filled index of table\n",
        "temp = fib[0] + fib[1] # initial value of values to be appended\n",
        "while temp < k: # we keep filling table until temp >= k\n",
        "    fib.append(temp) # add the current value to the table\n",
        "    i += 1 # increase i by 1 to keep track of the last filled index\n",
        "    temp = fib[i] + fib[i-1] # calculate new temp\n",
        "fib.append(temp) # to cover case temp == k, we append the last value >= k\n",
        "print(fib)\n"
      ]
    },
    {
      "cell_type": "code",
      "source": [
        "ans = 0 # initializing answer value with 0\n",
        "j = -1 # placeholder to represent last checked Fibonacci table index\n",
        "k=9\n",
        "fib=[1, 1, 2, 3, 5, 8, 13]\n",
        "temp=13\n",
        "while k > 0: # keep repeating until k <= 0\n",
        "    temp = fib[j] # get the biggest number available \n",
        "    print(temp)\n",
        "    j -= 1 # decrease j by 1 since we tried the last number\n",
        "    \n",
        "    if temp <= k: \n",
        "        ans += 1 # increase ans by 1 since we took a step\n",
        "        print(ans)\n",
        "        k -= temp # subtract from k\n",
        "        print('k',k)\n",
        "print(ans)"
      ],
      "metadata": {
        "colab": {
          "base_uri": "https://localhost:8080/"
        },
        "id": "5uL82Dm34jeH",
        "outputId": "af44ff31-4beb-4969-8209-80a047eab921"
      },
      "execution_count": null,
      "outputs": [
        {
          "output_type": "stream",
          "name": "stdout",
          "text": [
            "13\n",
            "8\n",
            "1\n",
            "k 1\n",
            "5\n",
            "3\n",
            "2\n",
            "1\n",
            "2\n",
            "k 0\n",
            "2\n"
          ]
        }
      ]
    },
    {
      "cell_type": "code",
      "source": [
        "k = 9\n",
        "temp = 13\n",
        "ans =0\n",
        "while 8 <= k:\n",
        "  ans +=1\n",
        "  k = k-temp\n",
        "  print(k)\n",
        "print(ans)\n"
      ],
      "metadata": {
        "colab": {
          "base_uri": "https://localhost:8080/"
        },
        "id": "SXbbxiH35bFD",
        "outputId": "3576df72-60ab-4c07-ae1d-011fe3290462"
      },
      "execution_count": null,
      "outputs": [
        {
          "output_type": "stream",
          "name": "stdout",
          "text": [
            "-4\n",
            "1\n"
          ]
        }
      ]
    },
    {
      "cell_type": "code",
      "source": [
        "if z:\n",
        "    for num in P:\n",
        "        if -1 * num in N:\n",
        "            res.add((-1 * num, 0, num))\n",
        "\n",
        "    # 3. If there are at least 3 zeros in the list then also include (0, 0, 0) = 0\n",
        "    if len(z) >= 3:\n",
        "        res.add((0, 0, 0))"
      ],
      "metadata": {
        "id": "LxdWEyW0OuWy"
      },
      "execution_count": null,
      "outputs": []
    }
  ]
}