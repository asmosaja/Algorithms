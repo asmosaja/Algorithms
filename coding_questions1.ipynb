{
 "cells": [
  {
   "attachments": {},
   "cell_type": "markdown",
   "metadata": {},
   "source": [
    "1.write an program to calculate an factorial for the given input?"
   ]
  },
  {
   "attachments": {},
   "cell_type": "markdown",
   "metadata": {},
   "source": [
    "ALGORITHM\n",
    "\n",
    "1st the concept is to use recursion because to multiply again and again\n",
    "\n",
    "1st condition would be if it is 0 factorial means  i have return it as 1\n",
    "2nd if it is 1 factorial means i have to return it as 1\n",
    "3 rd condition is current number * previous number here using recursion to get the factorial\n",
    "\n",
    "TIME COMPLEXITY WOULD BE O(N)"
   ]
  },
  {
   "cell_type": "code",
   "execution_count": 54,
   "metadata": {},
   "outputs": [
    {
     "name": "stdout",
     "output_type": "stream",
     "text": [
      "40320\n"
     ]
    }
   ],
   "source": [
    "#using recursion\n",
    "def factorial(n):\n",
    "    \n",
    "    if (n == 0 or n==1) :\n",
    "        return 1\n",
    "\n",
    "    \n",
    "    return n * factorial(n-1)\n",
    "\n",
    "\n",
    "print(factorial(8))\n",
    "        "
   ]
  },
  {
   "cell_type": "code",
   "execution_count": 55,
   "metadata": {},
   "outputs": [
    {
     "name": "stdout",
     "output_type": "stream",
     "text": [
      "40320\n"
     ]
    }
   ],
   "source": [
    "#using for loop \n",
    "def fact(x):\n",
    "    f = 1\n",
    "    for i in range(1,x+1):\n",
    "        f = f*i\n",
    "    return f\n",
    "x = 8\n",
    "print(fact(x))"
   ]
  },
  {
   "cell_type": "code",
   "execution_count": 56,
   "metadata": {},
   "outputs": [
    {
     "ename": "SyntaxError",
     "evalue": "invalid syntax (1021680631.py, line 1)",
     "output_type": "error",
     "traceback": [
      "\u001b[1;36m  File \u001b[1;32m\"C:\\Users\\user\\AppData\\Local\\Temp\\ipykernel_7900\\1021680631.py\"\u001b[1;36m, line \u001b[1;32m1\u001b[0m\n\u001b[1;33m    Recursive function\u001b[0m\n\u001b[1;37m              ^\u001b[0m\n\u001b[1;31mSyntaxError\u001b[0m\u001b[1;31m:\u001b[0m invalid syntax\n"
     ]
    }
   ],
   "source": [
    " Recursive function"
   ]
  },
  {
   "attachments": {},
   "cell_type": "markdown",
   "metadata": {},
   "source": [
    " Recursive function\n",
    " a function that calls itself to solve a smaller version of \n",
    " its task until a final call is made \n",
    "  \n",
    "  two major cases\n",
    "  1. base case\n",
    "  2. recursive case\n",
    "    "
   ]
  },
  {
   "attachments": {},
   "cell_type": "markdown",
   "metadata": {},
   "source": [
    "1.Merge sorted Array"
   ]
  },
  {
   "cell_type": "code",
   "execution_count": null,
   "metadata": {},
   "outputs": [],
   "source": [
    "arr1  = 0\n",
    "arr2=0\n",
    "m=3\n",
    "n=3\n",
    "zero =m\n",
    "nums1=[1,7,3,0,0,0]\n",
    "nums2=[2,5,6]\n",
    "if not nums2:\n",
    "    print(nums1)\n",
    "for i in range(m+n):\n",
    "    if arr2 == n:\n",
    "        break\n",
    "    if nums2[arr2]<nums1[arr1] or arr1>=zero:\n",
    "\n",
    "        for i in range(m+n-1,arr1,-1):\n",
    "            print(i) \n",
    "            nums1[i]=nums1[i-1]\n",
    "        nums1[arr1]=nums2[arr2]\n",
    "        arr2+=1\n",
    "        zero+=1\n",
    "    arr1+=1\n",
    "print(nums1)"
   ]
  },
  {
   "cell_type": "code",
   "execution_count": null,
   "metadata": {},
   "outputs": [],
   "source": [
    "\n",
    "arr1  = 0\n",
    "arr2=0\n",
    "m=3\n",
    "n=3\n",
    "zero =m\n",
    "nums1=[1,7,3,0,0,0]\n",
    "nums2=[2,5,6]\n",
    "if not nums2:\n",
    "    print(nums1)\n",
    "while m > 0 and n > 0:\n",
    "        if nums1[m - 1] > nums2[n - 1]:\n",
    "            nums1[m + n - 1] = nums1[m - 1]\n",
    "            m -= 1\n",
    "        else:\n",
    "            nums1[m + n - 1] = nums2[n - 1]\n",
    "            n -= 1\n",
    "nums1[:n] = nums2[:n]\n",
    "print(nums1)\n"
   ]
  },
  {
   "cell_type": "code",
   "execution_count": null,
   "metadata": {},
   "outputs": [],
   "source": [
    "arr1  = 0\n",
    "arr2=0\n",
    "m=3\n",
    "n=3\n",
    "zero =m\n",
    "nums1=[1,7,3,0,0,0]\n",
    "nums2=[2,5,6]\n",
    "\n",
    "while m > 0 and n > 0:\n",
    "    if nums1[m-1] > nums2[n-1]:\n",
    "        nums1[m+n-1] = nums1[m-1]\n",
    "        m -= 1\n",
    "    else:\n",
    "        nums1[m+n-1] = nums2[n-1]\n",
    "        n -= 1\n",
    "while n > 0:\n",
    "    nums1[n-1] = nums2[n-1]\n",
    "    n -= 1\n",
    "print(nums1)"
   ]
  },
  {
   "attachments": {},
   "cell_type": "markdown",
   "metadata": {},
   "source": [
    "2.sorted array and merged"
   ]
  },
  {
   "cell_type": "code",
   "execution_count": null,
   "metadata": {},
   "outputs": [],
   "source": [
    "def mergeArrays(arr1, arr2, n1, n2):\n",
    "    arr3 = [None] * (n1 + n2)\n",
    "    i = 0\n",
    "    j = 0\n",
    "    k = 0\n",
    "  \n",
    "    # Traverse both array\n",
    "    while i < n1 and j < n2:\n",
    "      \n",
    "        # Check if current element \n",
    "        # of first array is smaller \n",
    "        # than current element of \n",
    "        # second array. If yes, \n",
    "        # store first array element \n",
    "        # and increment first array\n",
    "        # index. Otherwise do same \n",
    "        # with second array\n",
    "        if arr1[i] < arr2[j]:\n",
    "            arr3[k] = arr1[i]\n",
    "            k = k + 1\n",
    "            i = i + 1\n",
    "        else:\n",
    "            arr3[k] = arr2[j]\n",
    "            k = k + 1\n",
    "            j = j + 1\n",
    "      \n",
    "  \n",
    "    # Store remaining elements\n",
    "    # of first array\n",
    "    while i < n1:\n",
    "        arr3[k] = arr1[i];\n",
    "        k = k + 1\n",
    "        i = i + 1\n",
    "  \n",
    "    # Store remaining elements \n",
    "    # of second array\n",
    "    while j < n2:\n",
    "        arr3[k] = arr2[j];\n",
    "        k = k + 1\n",
    "        j = j + 1\n",
    "    print(\"Array after merging\")\n",
    "    for i in range(n1 + n2):\n",
    "        print(str(arr3[i]), end = \" \")\n",
    "  \n",
    "# Driver code\n",
    "arr1 = [5,8,9]\n",
    "n1 = len(arr1)\n",
    "  \n",
    "arr2 = [4,7,8]\n",
    "n2 = len(arr2)\n",
    "mergeArrays(arr1, arr2, n1, n2);\n",
    "  \n",
    "# This code is contributed\n",
    "# by ChitraNayal"
   ]
  },
  {
   "attachments": {
    "image.png": {
     "image/png": "[encoded data removed]"
    }
   },
   "cell_type": "markdown",
   "metadata": {},
   "source": [
    "![image.png](attachment:image.png)"
   ]
  },
  {
   "attachments": {},
   "cell_type": "markdown",
   "metadata": {},
   "source": [
    "3.Remove duplicates form the sorted array and put it in last given nums\n",
    "the mentioned algorithm is suitable only for sorted array \n",
    "and repeated numbers"
   ]
  },
  {
   "cell_type": "code",
   "execution_count": null,
   "metadata": {},
   "outputs": [],
   "source": [
    "nums = [1,2,3,4,4,5,6,7,8,7]\n",
    "count =0\n",
    "for i in range(len( nums)):\n",
    "    if i==0 or nums[i]!=nums[i-1]:\n",
    "        nums[count ]=nums[i]\n",
    "        count+=1\n",
    "print(count)\n",
    "print(nums)"
   ]
  },
  {
   "cell_type": "code",
   "execution_count": null,
   "metadata": {},
   "outputs": [],
   "source": [
    "nums = [1,2,3,3,4,4,4,5,5,5,5]\n",
    "count =0\n",
    "for i in range(len( nums)):\n",
    "    if i==0 or nums[i]!=nums[i-1]:\n",
    "        nums[count ]=nums[i]\n",
    "        count+=1\n",
    "print(count)\n",
    "print(nums)"
   ]
  },
  {
   "cell_type": "code",
   "execution_count": null,
   "metadata": {},
   "outputs": [],
   "source": [
    "nums = [11,3,4,5,6,11,12,23,12,12,34,56,54,56,76,54,54]\n",
    "count =0\n",
    "for i in range(len( nums)):\n",
    "    if i==0 or nums[i]!=nums[i-1]:\n",
    "        nums[count ]=nums[i]\n",
    "        count+=1\n",
    "print(count)\n",
    "print(nums)"
   ]
  },
  {
   "attachments": {},
   "cell_type": "markdown",
   "metadata": {},
   "source": [
    "4.Remove element\n"
   ]
  },
  {
   "cell_type": "code",
   "execution_count": null,
   "metadata": {},
   "outputs": [],
   "source": [
    "nums = [5,6,7,4,5,4,5]\n",
    "val = 5\n",
    "j=0\n",
    "for n in nums:\n",
    "    if n!=val:\n",
    "        nums[j] = n\n",
    "        j+=1\n",
    "    \n",
    "    else:\n",
    "        \n",
    "print(nums,'count of nums is ',j)"
   ]
  },
  {
   "cell_type": "code",
   "execution_count": 59,
   "metadata": {},
   "outputs": [
    {
     "name": "stdout",
     "output_type": "stream",
     "text": [
      "5 [0, 1, -2, 3, 4]\n"
     ]
    }
   ],
   "source": [
    "start, end = 0, len(nums)-1\n",
    "\n",
    "while start <= end:\n",
    "    if nums[start] == val:\n",
    "        # temp = nums[start]\n",
    "        # nums[start] = nums[end]\n",
    "        # nums[end] = temp\n",
    "        nums[start], nums[end] = nums[end], nums[start]  # This is equal to three previous lines\n",
    "        end -= 1\n",
    "    else:\n",
    "        start += 1\n",
    "print(start,nums)"
   ]
  },
  {
   "attachments": {},
   "cell_type": "markdown",
   "metadata": {},
   "source": [
    "5.search in rotated array "
   ]
  },
  {
   "cell_type": "code",
   "execution_count": null,
   "metadata": {},
   "outputs": [],
   "source": [
    "nums = [2,3,4,56,1,4]\n",
    "left =0\n",
    "right = len(nums)-1\n",
    "\n",
    "target = 56\n",
    "\n",
    "while left <=right:\n",
    "    mid = (left+right)//2\n",
    "    if nums[mid]==target:\n",
    "        print(mid)\n",
    "    if nums[left] <=nums[mid]:\n",
    "        if nums[left] <= target and target < nums[mid]:\n",
    "            right = mid-1\n",
    "\n",
    "        else:\n",
    "            left = mid+1\n",
    "    else:\n",
    "        if nums[right] >= target and target <nums[mid]:\n",
    "            left = mid+1\n",
    "        else:\n",
    "            right = mid -1\n",
    "print(-1)\n"
   ]
  },
  {
   "attachments": {},
   "cell_type": "markdown",
   "metadata": {},
   "source": [
    "6.find first and last position of element in  sorted array.\n",
    "nums = [5,7,7,8,8,10], target = 8\n",
    "Output: [3,4]"
   ]
  },
  {
   "cell_type": "code",
   "execution_count": null,
   "metadata": {},
   "outputs": [],
   "source": [
    "nums = [5,7,7,8,8,10]\n",
    "target = 8\n",
    "\n",
    "class Solution:\n",
    "    def searchRange(self, nums, target) :\n",
    "        low =0\n",
    "        high = len(nums)-1\n",
    "        result = [-1,-1]\n",
    "        result[0]=self.positionelement(nums,target,start = True)\n",
    "        result[1]=self.positionelement(nums,target,start = False)\n",
    "        return result\n",
    "        \n",
    "    def positionelement(self,nums,target,start):\n",
    "        low =0\n",
    "        index = -1\n",
    "        high = len(nums)-1\n",
    "        while low <= high:\n",
    "            mid = low + (high-low)//2\n",
    "\n",
    "            if nums[mid] == target:\n",
    "                index = mid\n",
    "                if start == True:\n",
    "                    high = mid -1\n",
    "                else:\n",
    "                    low = mid+1\n",
    "            \n",
    "            elif nums[mid] > target:\n",
    "                high = mid-1\n",
    "            else:\n",
    "                low = mid+1\n",
    "        return index\n",
    "s = Solution()\n",
    "s.searchRange([5,7,7,8,8,10], 8)\n",
    "    \n"
   ]
  },
  {
   "attachments": {},
   "cell_type": "markdown",
   "metadata": {},
   "source": [
    "7.search target value index"
   ]
  },
  {
   "cell_type": "code",
   "execution_count": null,
   "metadata": {},
   "outputs": [],
   "source": [
    "start =0\n",
    "end = len(nums)-1\n",
    "nums = [1,3,5,6]\n",
    "target = 7\n",
    "\n",
    "while start <= end:\n",
    "    mid = (start+end)//2\n",
    "\n",
    "    if nums[mid]== target:\n",
    "        print(mid)\n",
    "    elif nums[mid] > target:\n",
    "        end = mid -1\n",
    "    else:\n",
    "        start = mid+1\n",
    "print(start)"
   ]
  },
  {
   "cell_type": "code",
   "execution_count": null,
   "metadata": {},
   "outputs": [],
   "source": [
    "class Solution(object):\n",
    "    def searchInsert(self, nums, target):\n",
    "        \"\"\"\n",
    "        :type nums: List[int]\n",
    "        :type target: int\n",
    "        :rtype: int\n",
    "        \"\"\"\n",
    "        \n",
    "        low =0\n",
    "        high = len(nums)-1\n",
    "        \n",
    "        while low <= high:\n",
    "            midvalue = low+high//2\n",
    "            \n",
    "            if nums[midvalue] == target:\n",
    "                return midvalue\n",
    "            \n",
    "            elif nums[midvalue] < target:\n",
    "                \n",
    "                low +=1\n",
    "            else:\n",
    "                high -= 1\n",
    "        return low\n",
    "s = Solution()\n",
    "s.searchInsert([1,3,5,6],6)"
   ]
  },
  {
   "cell_type": "code",
   "execution_count": null,
   "metadata": {},
   "outputs": [],
   "source": [
    "class Solution(object):\n",
    "    def searchInsert(self, nums, target):\n",
    "        \"\"\"\n",
    "        :type nums: List[int]\n",
    "        :type target: int\n",
    "        :rtype: int\n",
    "        \"\"\"\n",
    "        \n",
    "        low =0\n",
    "        high = len(nums)-1\n",
    "        \n",
    "        if target not in nums:\n",
    "            return -1\n",
    "        else:\n",
    "            while low <= high:\n",
    "                midvalue = low+high//2\n",
    "                \n",
    "                if nums[midvalue] == target:\n",
    "                    return midvalue\n",
    "                \n",
    "                elif nums[midvalue] < target:\n",
    "                    \n",
    "                    low +=1\n",
    "                else:\n",
    "                    high -= 1\n",
    "            return low\n",
    "s = Solution()\n",
    "s.searchInsert([1,3,5,6],7)"
   ]
  },
  {
   "attachments": {},
   "cell_type": "markdown",
   "metadata": {},
   "source": [
    "8.square sorted array"
   ]
  },
  {
   "cell_type": "code",
   "execution_count": null,
   "metadata": {},
   "outputs": [],
   "source": [
    "nums=[0,1,-2,3,4]\n",
    "nums_sq = [None]*len(nums)\n",
    "left = 0\n",
    "right = len(nums)-1\n",
    "for i in range(len(nums)-1,-1,-1):\n",
    "    if abs(nums[left]) >= abs(nums[right]):\n",
    "        nums_sq[i] = nums[left]**2\n",
    "        left +=1\n",
    "    else:\n",
    "        nums_sq[i] = nums[right]**2\n",
    "        right -=1\n",
    "print(nums_sq)"
   ]
  },
  {
   "attachments": {},
   "cell_type": "markdown",
   "metadata": {},
   "source": [
    "9.python program to generate the prime number form 1 to n"
   ]
  },
  {
   "cell_type": "code",
   "execution_count": null,
   "metadata": {},
   "outputs": [],
   "source": [
    "n=5\n",
    "for i in range(2,n):\n",
    "    for j in range(2,i):\n",
    "        if (i%j==0):\n",
    "            break\n",
    "    else:\n",
    "        print(i,'is a prime number')\n"
   ]
  },
  {
   "attachments": {},
   "cell_type": "markdown",
   "metadata": {},
   "source": [
    "10.python program to check whether the given integer is a prime number or not"
   ]
  },
  {
   "cell_type": "code",
   "execution_count": null,
   "metadata": {},
   "outputs": [],
   "source": [
    "n=56\n",
    "isprime=1\n",
    "for i in range(2,n//2):\n",
    "    \n",
    "    if (n%i==0):\n",
    "        isprime =0\n",
    "        break\n",
    "if isprime != 1:\n",
    "    print(\"n is not a prime number\")\n",
    "else:\n",
    "    print('n is a prime number')"
   ]
  },
  {
   "attachments": {},
   "cell_type": "markdown",
   "metadata": {},
   "source": [
    "11.python program to display all integers within the range 100 to 200 whose sum os digits is an even number"
   ]
  },
  {
   "cell_type": "code",
   "execution_count": null,
   "metadata": {},
   "outputs": [],
   "source": [
    "for i in range(100,201):\n",
    "    num =i\n",
    "    sum = 0\n",
    "    while num!=0:\n",
    "        digit =num%10\n",
    "        sum = sum + digit\n",
    "        num = num//10\n",
    "    if (sum%2==0):\n",
    "        print(i,end=\" \")"
   ]
  },
  {
   "attachments": {},
   "cell_type": "markdown",
   "metadata": {},
   "source": [
    "12.python program to display all the multiples of 3 within the range 10 to 50"
   ]
  },
  {
   "cell_type": "code",
   "execution_count": null,
   "metadata": {},
   "outputs": [],
   "source": [
    "for i in range(10,50):\n",
    "    if (i%3==0):\n",
    "        print(i,end=\" \")"
   ]
  },
  {
   "attachments": {},
   "cell_type": "markdown",
   "metadata": {},
   "source": [
    "13.write a program to print the digit at one's place of a number"
   ]
  },
  {
   "cell_type": "code",
   "execution_count": null,
   "metadata": {},
   "outputs": [],
   "source": [
    "num = 568697\n",
    "ones_place = num%10\n",
    "print(ones_place)"
   ]
  },
  {
   "attachments": {},
   "cell_type": "markdown",
   "metadata": {},
   "source": [
    "14.python program to find the sum of the digits of an integer using the while loop"
   ]
  },
  {
   "cell_type": "code",
   "execution_count": null,
   "metadata": {},
   "outputs": [],
   "source": [
    "sum=0\n",
    "num = 345\n",
    "while(num!=0):\n",
    "    digit=num%10\n",
    "    sum=sum+digit\n",
    "    num = num//10\n",
    "print(sum)"
   ]
  },
  {
   "attachments": {},
   "cell_type": "markdown",
   "metadata": {},
   "source": [
    "15.python program to display the given integer in a reverse manner"
   ]
  },
  {
   "cell_type": "code",
   "execution_count": null,
   "metadata": {},
   "outputs": [],
   "source": [
    "num=345\n",
    "rev =0\n",
    "while(num!=0):\n",
    "    digit = num%10\n",
    "    rev = (rev*10)+digit\n",
    "    num = num//10\n",
    "print(rev)"
   ]
  },
  {
   "attachments": {},
   "cell_type": "markdown",
   "metadata": {},
   "source": [
    "16.{i:i*i}"
   ]
  },
  {
   "cell_type": "code",
   "execution_count": null,
   "metadata": {},
   "outputs": [],
   "source": [
    "n = 9\n",
    "d = {}\n",
    "for i in range(1,n+1):\n",
    "    d[i ] = i*i\n",
    "print(d)"
   ]
  },
  {
   "attachments": {},
   "cell_type": "markdown",
   "metadata": {},
   "source": [
    "17.factorial"
   ]
  },
  {
   "cell_type": "code",
   "execution_count": null,
   "metadata": {},
   "outputs": [],
   "source": [
    "def factorail(n):\n",
    "    if (n==0):\n",
    "        return 1\n",
    "    return n*factorail(n-1)\n",
    "factorail(8)"
   ]
  },
  {
   "attachments": {},
   "cell_type": "markdown",
   "metadata": {},
   "source": [
    "18.write an program which will find find all numbers which are divisible by 7byt are not a multiople of 5, the numbrs obtained should be printed in a \n",
    "comma-separated sequence on a single line."
   ]
  },
  {
   "cell_type": "code",
   "execution_count": null,
   "metadata": {},
   "outputs": [],
   "source": [
    "l = []\n",
    "for i in range(2000,3200):\n",
    "    if (i%7 ==0) and (i%5!=0):\n",
    "        l.append(str(i))\n",
    "print(','.join(l))"
   ]
  },
  {
   "attachments": {},
   "cell_type": "markdown",
   "metadata": {},
   "source": [
    "19.print the odd numbers with in the range using for loop"
   ]
  },
  {
   "cell_type": "code",
   "execution_count": 57,
   "metadata": {},
   "outputs": [
    {
     "name": "stdout",
     "output_type": "stream",
     "text": [
      "25  27  29  31  33  35  37  39  41  43  45  47  49  51  53  55  57  59  61  63  65  67  69  71  73  75  77  \n",
      "\n"
     ]
    }
   ],
   "source": [
    "for i in range(25,79):\n",
    "    if (i%2!=0):\n",
    "        print(i,end=\"  \",)\n",
    "print('\\n')\n"
   ]
  },
  {
   "attachments": {},
   "cell_type": "markdown",
   "metadata": {},
   "source": [
    "20.print the odd numbers with in the range using while loop"
   ]
  },
  {
   "cell_type": "code",
   "execution_count": 58,
   "metadata": {},
   "outputs": [
    {
     "name": "stdout",
     "output_type": "stream",
     "text": [
      "25  27  29  31  33  35  37  39  41  43  45  47  49  51  53  55  57  59  61  63  65  67  69  71  73  75  77  "
     ]
    }
   ],
   "source": [
    "lowerlimit=25\n",
    "upperlimit=79\n",
    "while lowerlimit <upperlimit:\n",
    "    if(lowerlimit%2 !=0):\n",
    "        print(lowerlimit,end=\"  \")\n",
    "    lowerlimit = lowerlimit+1"
   ]
  },
  {
   "attachments": {},
   "cell_type": "markdown",
   "metadata": {},
   "source": [
    "21.python program to find those numbers which are divisible by 7 and multiple by 5 in given range of numbers"
   ]
  },
  {
   "cell_type": "code",
   "execution_count": null,
   "metadata": {},
   "outputs": [],
   "source": [
    "upperlimit= 1289\n",
    "lowerlimit = 19\n",
    "for i in range(lowerlimit,upperlimit+1):\n",
    "\n",
    "    if (i%7==0) and (i%5 == 0):\n",
    "        print(i,end=\" \")"
   ]
  },
  {
   "attachments": {},
   "cell_type": "markdown",
   "metadata": {},
   "source": [
    "22.print divisible number using for loop"
   ]
  },
  {
   "cell_type": "code",
   "execution_count": null,
   "metadata": {},
   "outputs": [],
   "source": [
    "divisible = 5\n",
    "for i in range(100,201):\n",
    "    if i %divisible == 0:\n",
    "        print(i,end=\" \")"
   ]
  },
  {
   "attachments": {},
   "cell_type": "markdown",
   "metadata": {},
   "source": [
    "23.print divisible number using while loop"
   ]
  },
  {
   "cell_type": "code",
   "execution_count": null,
   "metadata": {},
   "outputs": [],
   "source": [
    "divisible=5\n",
    "lowerlimit=100\n",
    "upperlimit=201\n",
    "while(lowerlimit < upperlimit):\n",
    "    if lowerlimit%divisible==0:\n",
    "        print(lowerlimit,end=\" \")\n",
    "    lowerlimit = lowerlimit+1"
   ]
  },
  {
   "attachments": {},
   "cell_type": "markdown",
   "metadata": {},
   "source": [
    "24.sum the natural numbers using while loop"
   ]
  },
  {
   "cell_type": "code",
   "execution_count": null,
   "metadata": {},
   "outputs": [],
   "source": [
    "#1.using while loop\n",
    "number=9\n",
    "sums=0\n",
    "while(number!=0):\n",
    "    sums = sums +number\n",
    "    number = number -1\n",
    "print(sums) "
   ]
  },
  {
   "attachments": {},
   "cell_type": "markdown",
   "metadata": {},
   "source": [
    "25.sum the natural numbers using for loop."
   ]
  },
  {
   "cell_type": "code",
   "execution_count": null,
   "metadata": {},
   "outputs": [],
   "source": [
    "\n",
    "number = 9\n",
    "sums =0\n",
    "for i in range(1,number+1):\n",
    "    sums = sums + i\n",
    "print(sums)"
   ]
  },
  {
   "attachments": {},
   "cell_type": "markdown",
   "metadata": {},
   "source": [
    "26.print the values in reverse order from number to zero"
   ]
  },
  {
   "cell_type": "code",
   "execution_count": null,
   "metadata": {},
   "outputs": [],
   "source": [
    "number = 10\n",
    "while number >=0:\n",
    "    print(number,end = \" \")\n",
    "    number = number-1"
   ]
  },
  {
   "attachments": {},
   "cell_type": "markdown",
   "metadata": {},
   "source": [
    "27.zfill returns string left padded with zeros to a toatla of width characters. It is used with numbers and also retains its sign(+or -)"
   ]
  },
  {
   "cell_type": "code",
   "execution_count": null,
   "metadata": {},
   "outputs": [],
   "source": [
    "str = '1234'\n",
    "print(str.zfill(6))"
   ]
  },
  {
   "attachments": {},
   "cell_type": "markdown",
   "metadata": {},
   "source": [
    "28.lstrip removes all leading whitespace in string."
   ]
  },
  {
   "cell_type": "code",
   "execution_count": null,
   "metadata": {},
   "outputs": [],
   "source": [
    "str = \" hello \"\n",
    "print(str.lstrip())"
   ]
  },
  {
   "attachments": {},
   "cell_type": "markdown",
   "metadata": {},
   "source": [
    "29.min returns the lowest alphabetical character(lowest ASCII value) from the string str."
   ]
  },
  {
   "cell_type": "code",
   "execution_count": null,
   "metadata": {},
   "outputs": [],
   "source": [
    "str = 'hello friendz'\n",
    "print(min(str))"
   ]
  },
  {
   "attachments": {},
   "cell_type": "markdown",
   "metadata": {},
   "source": [
    "30.replace replaces all or max(if given) occurrences of old in string with new"
   ]
  },
  {
   "cell_type": "code",
   "execution_count": null,
   "metadata": {},
   "outputs": [],
   "source": [
    "str = 'hello friendz'\n",
    "print(str.replace('z','s'))"
   ]
  }
 ],
 "metadata": {
  "kernelspec": {
   "display_name": "base",
   "language": "python",
   "name": "python3"
  },
  "language_info": {
   "codemirror_mode": {
    "name": "ipython",
    "version": 3
   },
   "file_extension": ".py",
   "mimetype": "text/x-python",
   "name": "python",
   "nbconvert_exporter": "python",
   "pygments_lexer": "ipython3",
   "version": "3.9.13"
  },
  "orig_nbformat": 4,
  "vscode": {
   "interpreter": {
    "hash": "88279d2366fe020547cde40dd65aa0e3aa662a6ec1f3ca12d88834876c85e1a6"
   }
  }
 },
 "nbformat": 4,
 "nbformat_minor": 2
}
